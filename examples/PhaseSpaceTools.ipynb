{
 "cells": [
  {
   "cell_type": "markdown",
   "metadata": {},
   "source": [
    "Sampling single mode initial states using methods presented in the article\n",
    "- [Olsen, Bradley, Opt. Comm. 282 (2009) 3924-3929](https://doi.org/10.1016/j.optcom.2009.06.033); errata [Olsen, Lewis-Swan, Bradley, Opt. Comm. 370 (2016) 327-328](https://doi.org/10.1016/j.optcom.2016.02.068)\n",
    "\n",
    "We also sample some new distributions:\n",
    "- fock state for +W\n",
    "- thermal state for +P"
   ]
  },
  {
   "cell_type": "code",
   "execution_count": 1,
   "metadata": {},
   "outputs": [
    {
     "name": "stderr",
     "output_type": "stream",
     "text": [
      "┌ Info: Recompiling stale cache file /Users/abradley/.julia/compiled/v1.0/PyPlot/oatAj.ji for PyPlot [d330b81b-6aea-500a-939a-2ce795aea3ee]\n",
      "└ @ Base loading.jl:1187\n"
     ]
    }
   ],
   "source": [
    "using PhaseSpaceTools, PyPlot, Revise"
   ]
  },
  {
   "cell_type": "code",
   "execution_count": 2,
   "metadata": {},
   "outputs": [
    {
     "name": "stdout",
     "output_type": "stream",
     "text": [
      "search: \u001b[0m\u001b[1mc\u001b[22m\u001b[0m\u001b[1mo\u001b[22m\u001b[0m\u001b[1mh\u001b[22m\u001b[0m\u001b[1me\u001b[22m\u001b[0m\u001b[1mr\u001b[22m\u001b[0m\u001b[1me\u001b[22m\u001b[0m\u001b[1mn\u001b[22m\u001b[0m\u001b[1mt\u001b[22m \u001b[0m\u001b[1mc\u001b[22m\u001b[0m\u001b[1mo\u001b[22m\u001b[0m\u001b[1mh\u001b[22m\u001b[0m\u001b[1me\u001b[22m\u001b[0m\u001b[1mr\u001b[22m\u001b[0m\u001b[1me\u001b[22m\n",
      "\n"
     ]
    },
    {
     "data": {
      "text/markdown": [
       "```\n",
       "a,ā = coherent(β,N;dist=\"+P\")\n",
       "```\n",
       "\n",
       "Sample the phase-space distribution for a coherent state.\n",
       "\n",
       "`β`: coherent (complex) amplitude.\n",
       "\n",
       "`N`: number of samples.\n",
       "\n",
       "`dist`: phase-space distrubtion. Can be either `W` or `+P`.\n",
       "\n",
       "For a coherent state in +P, the distribution is just a point on the complex plane at the position of the coherent amplitude.\n",
       "\n",
       "For standard `P,Q,W` distributions, `a` and `ā` are complex conjugate, while for `+P` etc, `a` and `ā` are independent variables.\n"
      ],
      "text/plain": [
       "\u001b[36m  a,ā = coherent(β,N;dist=\"+P\")\u001b[39m\n",
       "\n",
       "  Sample the phase-space distribution for a coherent state.\n",
       "\n",
       "  \u001b[36mβ\u001b[39m: coherent (complex) amplitude.\n",
       "\n",
       "  \u001b[36mN\u001b[39m: number of samples.\n",
       "\n",
       "  \u001b[36mdist\u001b[39m: phase-space distrubtion. Can be either \u001b[36mW\u001b[39m or \u001b[36m+P\u001b[39m.\n",
       "\n",
       "  For a coherent state in +P, the distribution is just a point on the complex\n",
       "  plane at the position of the coherent amplitude.\n",
       "\n",
       "  For standard \u001b[36mP,Q,W\u001b[39m distributions, \u001b[36ma\u001b[39m and \u001b[36mā\u001b[39m are complex conjugate, while for\n",
       "  \u001b[36m+P\u001b[39m etc, \u001b[36ma\u001b[39m and \u001b[36mā\u001b[39m are independent variables."
      ]
     },
     "execution_count": 2,
     "metadata": {},
     "output_type": "execute_result"
    }
   ],
   "source": [
    "?coherent"
   ]
  },
  {
   "cell_type": "code",
   "execution_count": 3,
   "metadata": {},
   "outputs": [
    {
     "data": {
      "image/png": "[encoded data removed]",
      "text/plain": [
       "Figure(PyObject <Figure size 200x200 with 1 Axes>)"
      ]
     },
     "metadata": {},
     "output_type": "display_data"
    },
    {
     "name": "stdout",
     "output_type": "stream",
     "text": [
      "99.81584847578729 + 0.0im\n",
      "9.98945987408454 + 0.00903746097518039im\n"
     ]
    }
   ],
   "source": [
    "b=10\n",
    "N=1000\n",
    "a,ā = coherent(b,N,dist=\"W\")\n",
    "figure(figsize=(2,2))\n",
    "scatter(real(a),imag(a),s=1,c=\"blue\")\n",
    "axis(\"square\")\n",
    "axis([-20,20,-20,20]);\n",
    "println(mean(a.*ā)-.5)\n",
    "println(mean(a))"
   ]
  },
  {
   "cell_type": "code",
   "execution_count": 4,
   "metadata": {},
   "outputs": [
    {
     "name": "stdout",
     "output_type": "stream",
     "text": [
      "search: \u001b[0m\u001b[1mt\u001b[22m\u001b[0m\u001b[1mh\u001b[22m\u001b[0m\u001b[1me\u001b[22m\u001b[0m\u001b[1mr\u001b[22m\u001b[0m\u001b[1mm\u001b[22m\u001b[0m\u001b[1ma\u001b[22m\u001b[0m\u001b[1ml\u001b[22m Noncen\u001b[0m\u001b[1mt\u001b[22mral\u001b[0m\u001b[1mH\u001b[22myp\u001b[0m\u001b[1me\u001b[22m\u001b[0m\u001b[1mr\u001b[22mgeo\u001b[0m\u001b[1mm\u001b[22metric FisherNoncen\u001b[0m\u001b[1mt\u001b[22mral\u001b[0m\u001b[1mH\u001b[22myp\u001b[0m\u001b[1me\u001b[22m\u001b[0m\u001b[1mr\u001b[22mgeo\u001b[0m\u001b[1mm\u001b[22metric\n",
      "\n"
     ]
    },
    {
     "data": {
      "text/markdown": [
       "```\n",
       "a,ā = thermal(β,n̄,N;dist=\"P\")\n",
       "```\n",
       "\n",
       "Sample the phase-space distribution for a thermal state.\n",
       "\n",
       "`β`: coherent (complex) displacement.\n",
       "\n",
       "`n̄`: thermal average population.\n",
       "\n",
       "`N`: number of samples.\n",
       "\n",
       "`dist`: phase-space distribution. Can be `P`, `Q` or `W`.\n",
       "\n",
       "For standard `P,Q,W` distributions, `a` and `ā` are complex conjugate, while for `+P` etc, `a` and `ā` are independent variables.\n"
      ],
      "text/plain": [
       "\u001b[36m  a,ā = thermal(β,n̄,N;dist=\"P\")\u001b[39m\n",
       "\n",
       "  Sample the phase-space distribution for a thermal state.\n",
       "\n",
       "  \u001b[36mβ\u001b[39m: coherent (complex) displacement.\n",
       "\n",
       "  \u001b[36mn̄\u001b[39m: thermal average population.\n",
       "\n",
       "  \u001b[36mN\u001b[39m: number of samples.\n",
       "\n",
       "  \u001b[36mdist\u001b[39m: phase-space distribution. Can be \u001b[36mP\u001b[39m, \u001b[36mQ\u001b[39m or \u001b[36mW\u001b[39m.\n",
       "\n",
       "  For standard \u001b[36mP,Q,W\u001b[39m distributions, \u001b[36ma\u001b[39m and \u001b[36mā\u001b[39m are complex conjugate, while for\n",
       "  \u001b[36m+P\u001b[39m etc, \u001b[36ma\u001b[39m and \u001b[36mā\u001b[39m are independent variables."
      ]
     },
     "execution_count": 4,
     "metadata": {},
     "output_type": "execute_result"
    }
   ],
   "source": [
    "?thermal"
   ]
  },
  {
   "cell_type": "code",
   "execution_count": 5,
   "metadata": {},
   "outputs": [
    {
     "data": {
      "image/png": "[encoded data removed]",
      "text/plain": [
       "Figure(PyObject <Figure size 200x200 with 1 Axes>)"
      ]
     },
     "metadata": {},
     "output_type": "display_data"
    },
    {
     "data": {
      "text/plain": [
       "9.880666760474435 + 0.0im"
      ]
     },
     "execution_count": 5,
     "metadata": {},
     "output_type": "execute_result"
    }
   ],
   "source": [
    "a,ā = thermal(0,10,5000;dist=\"P\")\n",
    "figure(figsize=(2,2))\n",
    "scatter(real(a),imag(a),s=1,c=\"blue\")\n",
    "axis(\"square\")\n",
    "axis([-20,20,-20,20]);\n",
    "mean(a.*ā)"
   ]
  },
  {
   "cell_type": "code",
   "execution_count": 6,
   "metadata": {},
   "outputs": [
    {
     "data": {
      "image/png": "[encoded data removed]",
      "text/plain": [
       "Figure(PyObject <Figure size 200x200 with 1 Axes>)"
      ]
     },
     "metadata": {},
     "output_type": "display_data"
    },
    {
     "data": {
      "text/plain": [
       "9.883030652436352 + 0.0im"
      ]
     },
     "execution_count": 6,
     "metadata": {},
     "output_type": "execute_result"
    }
   ],
   "source": [
    "a,ā = thermal(0,10,5000;dist=\"W\")\n",
    "figure(figsize=(2,2))\n",
    "scatter(real(a),imag(ā),s=1,c=\"blue\")\n",
    "axis(\"square\")\n",
    "axis([-20,20,-20,20]);\n",
    "mean(a.*ā)-.5"
   ]
  },
  {
   "cell_type": "code",
   "execution_count": 7,
   "metadata": {},
   "outputs": [
    {
     "name": "stdout",
     "output_type": "stream",
     "text": [
      "search: \u001b[0m\u001b[1ms\u001b[22m\u001b[0m\u001b[1mq\u001b[22m\u001b[0m\u001b[1mu\u001b[22m\u001b[0m\u001b[1me\u001b[22m\u001b[0m\u001b[1me\u001b[22m\u001b[0m\u001b[1mz\u001b[22m\u001b[0m\u001b[1me\u001b[22m\u001b[0m\u001b[1md\u001b[22m\n",
      "\n"
     ]
    },
    {
     "data": {
      "text/markdown": [
       "```\n",
       "a,ā = squeezed(β,ϵ,N;dist=\"+P\")\n",
       "```\n",
       "\n",
       "Sample the phase-space distribution for a squeezed state.\n",
       "\n",
       "`β`: coherent (complex) amplitude.\n",
       "\n",
       "`ϵ`: complex valued squeezing parameter.\n",
       "\n",
       "`N`: number of samples.\n",
       "\n",
       "`dist`: phase-space distribution; can be `W` or `+P`.\n",
       "\n",
       "For standard `P,Q,W` distributions, `a` and `ā` are complex conjugate, while for `+P` etc, `a` and `ā` are independent variables.\n"
      ],
      "text/plain": [
       "\u001b[36m  a,ā = squeezed(β,ϵ,N;dist=\"+P\")\u001b[39m\n",
       "\n",
       "  Sample the phase-space distribution for a squeezed state.\n",
       "\n",
       "  \u001b[36mβ\u001b[39m: coherent (complex) amplitude.\n",
       "\n",
       "  \u001b[36mϵ\u001b[39m: complex valued squeezing parameter.\n",
       "\n",
       "  \u001b[36mN\u001b[39m: number of samples.\n",
       "\n",
       "  \u001b[36mdist\u001b[39m: phase-space distribution; can be \u001b[36mW\u001b[39m or \u001b[36m+P\u001b[39m.\n",
       "\n",
       "  For standard \u001b[36mP,Q,W\u001b[39m distributions, \u001b[36ma\u001b[39m and \u001b[36mā\u001b[39m are complex conjugate, while for\n",
       "  \u001b[36m+P\u001b[39m etc, \u001b[36ma\u001b[39m and \u001b[36mā\u001b[39m are independent variables."
      ]
     },
     "execution_count": 7,
     "metadata": {},
     "output_type": "execute_result"
    }
   ],
   "source": [
    "?squeezed"
   ]
  },
  {
   "cell_type": "code",
   "execution_count": 8,
   "metadata": {},
   "outputs": [
    {
     "name": "stdout",
     "output_type": "stream",
     "text": [
      "104.55947099335448 + 0.0im\n"
     ]
    },
    {
     "data": {
      "image/png": "[encoded data removed]",
      "text/plain": [
       "Figure(PyObject <Figure size 200x200 with 1 Axes>)"
      ]
     },
     "metadata": {},
     "output_type": "display_data"
    },
    {
     "name": "stdout",
     "output_type": "stream",
     "text": [
      "104.53383099788888\n"
     ]
    }
   ],
   "source": [
    "β = 10\n",
    "ϕ = π/16\n",
    "r = 1.5\n",
    "ϵ = r*exp(2*im*ϕ)\n",
    "N = 10000\n",
    "a,ā = squeezed(β,ϵ,N,dist=\"W\")\n",
    "figure(figsize=(2,2))\n",
    "scatter(real(a),imag(ā),s=1,c=\"blue\")\n",
    "axis(\"square\")\n",
    "axis([-20,20,-20,20]);\n",
    "println(mean(a.*ā)-.5)\n",
    "println(sinh(abs(ϵ)).^2 + abs2(β))"
   ]
  },
  {
   "cell_type": "code",
   "execution_count": 9,
   "metadata": {},
   "outputs": [
    {
     "data": {
      "image/png": "[encoded data removed]",
      "text/plain": [
       "Figure(PyObject <Figure size 200x200 with 1 Axes>)"
      ]
     },
     "metadata": {},
     "output_type": "display_data"
    },
    {
     "name": "stdout",
     "output_type": "stream",
     "text": [
      "113.31146117936031\n",
      "113.15411641800824\n"
     ]
    }
   ],
   "source": [
    "β = 10\n",
    "ϕ = π/16\n",
    "r = 2\n",
    "ϵ = r*exp(2*im*ϕ)\n",
    "N = 10000\n",
    "a,ā = squeezed(β,ϵ,N;dist=\"+P\")\n",
    "figure(figsize=(2,2))\n",
    "scatter(real(a),imag(a),s=1,c=\"blue\")\n",
    "axis(\"square\")\n",
    "axis([-20,20,-20,20]);\n",
    "println(real(mean(a.*ā)))\n",
    "println(sinh(abs(ϵ)).^2+abs2(β))"
   ]
  },
  {
   "cell_type": "code",
   "execution_count": 10,
   "metadata": {},
   "outputs": [
    {
     "name": "stdout",
     "output_type": "stream",
     "text": [
      "search: \u001b[0m\u001b[1mf\u001b[22m\u001b[0m\u001b[1mo\u001b[22m\u001b[0m\u001b[1mc\u001b[22m\u001b[0m\u001b[1mk\u001b[22m \u001b[0m\u001b[1mf\u001b[22m\u001b[0m\u001b[1mo\u001b[22mrea\u001b[0m\u001b[1mc\u001b[22mh Uni\u001b[0m\u001b[1mf\u001b[22m\u001b[0m\u001b[1mo\u001b[22mrmS\u001b[0m\u001b[1mc\u001b[22maling \u001b[0m\u001b[1mF\u001b[22misherN\u001b[0m\u001b[1mo\u001b[22mn\u001b[0m\u001b[1mc\u001b[22mentralHypergeometric\n",
      "\n"
     ]
    },
    {
     "data": {
      "text/markdown": [
       "```\n",
       "a,ā = fock(n,N;dist=\"+P\")\n",
       "```\n",
       "\n",
       "Sample the phase-space distribution for a Fock state.\n",
       "\n",
       "`n`: number of the fock state |n⟩.\n",
       "\n",
       "`N`: number of samples.\n",
       "\n",
       "`dist`: phase-space distribution can be either `W`, `+W`, or `+P`.\n",
       "\n",
       "For standard `P,Q,W` distributions, `a` and `ā` are complex conjugate, while for `+P` etc, `a` and `ā` are independent variables.\n",
       "\n",
       "## Wigner representation\n",
       "\n",
       "  * The standard `W` is sampled using an approximation that reproduces operator averages accuratley for large `n`, but neglects some quantum correlations.\n",
       "  * The `+W` sampling is carried out in a doubled phase space, where the distribution is positive semi-definite, and hence may be sampled exactly for any `n`. Fast evaluation is achieved for large `n` using an accurate asymptotic expansion `(n>320)`.\n",
       "\n",
       "External links\n",
       "\n",
       "[Numerical representation of quantum states in the positive-P and Wigner representations, Olsen, Bradley, Optics Communications 282, 3924 (2009)](http://dx.doi.org/10.1016/j.optcom.2009.06.033)\n"
      ],
      "text/plain": [
       "\u001b[36m  a,ā = fock(n,N;dist=\"+P\")\u001b[39m\n",
       "\n",
       "  Sample the phase-space distribution for a Fock state.\n",
       "\n",
       "  \u001b[36mn\u001b[39m: number of the fock state |n⟩.\n",
       "\n",
       "  \u001b[36mN\u001b[39m: number of samples.\n",
       "\n",
       "  \u001b[36mdist\u001b[39m: phase-space distribution can be either \u001b[36mW\u001b[39m, \u001b[36m+W\u001b[39m, or \u001b[36m+P\u001b[39m.\n",
       "\n",
       "  For standard \u001b[36mP,Q,W\u001b[39m distributions, \u001b[36ma\u001b[39m and \u001b[36mā\u001b[39m are complex conjugate, while for\n",
       "  \u001b[36m+P\u001b[39m etc, \u001b[36ma\u001b[39m and \u001b[36mā\u001b[39m are independent variables.\n",
       "\n",
       "\u001b[1m  Wigner representation\u001b[22m\n",
       "\u001b[1m  =======================\u001b[22m\n",
       "\n",
       "    •    The standard \u001b[36mW\u001b[39m is sampled using an approximation that reproduces\n",
       "        operator averages accuratley for large \u001b[36mn\u001b[39m, but neglects some\n",
       "        quantum correlations.\n",
       "\n",
       "    •    The \u001b[36m+W\u001b[39m sampling is carried out in a doubled phase space, where the\n",
       "        distribution is positive semi-definite, and hence may be sampled\n",
       "        exactly for any \u001b[36mn\u001b[39m. Fast evaluation is achieved for large \u001b[36mn\u001b[39m using\n",
       "        an accurate asymptotic expansion \u001b[36m(n>320)\u001b[39m.\n",
       "\n",
       "  External links\n",
       "\n",
       "  Numerical representation of quantum states in the positive-P and Wigner\n",
       "  representations, Olsen, Bradley, Optics Communications 282, 3924 (2009)\n",
       "  (http://dx.doi.org/10.1016/j.optcom.2009.06.033)"
      ]
     },
     "execution_count": 10,
     "metadata": {},
     "output_type": "execute_result"
    }
   ],
   "source": [
    "?fock"
   ]
  },
  {
   "cell_type": "code",
   "execution_count": 11,
   "metadata": {},
   "outputs": [
    {
     "name": "stdout",
     "output_type": "stream",
     "text": [
      " \n",
      "n = 100 Fock state.\n",
      "N = 1000000 samples.\n",
      " \n",
      "averages\n",
      "<â> = -0.011816549024790634 - 0.00566288839375873im\n",
      "<â⁺â> = 100.00032011156729\n",
      "V(n̂) = -0.0007295487703231629\n",
      "rel. num. var. = "
     ]
    },
    {
     "data": {
      "image/png": "[encoded data removed]",
      "text/plain": [
       "Figure(PyObject <Figure size 200x200 with 1 Axes>)"
      ]
     },
     "metadata": {},
     "output_type": "display_data"
    },
    {
     "name": "stdout",
     "output_type": "stream",
     "text": [
      "0.00027010074039246625\n"
     ]
    }
   ],
   "source": [
    "n = 100\n",
    "N = 1000000\n",
    "a,ā = fock(n,N;dist=\"W\")\n",
    "\n",
    "figure(figsize=(2,2))\n",
    "scatter(real(a),imag(a),s=.5,c=\"blue\")\n",
    "axis(\"square\")\n",
    "axis([-sqrt(3n),sqrt(3n),-sqrt(3n),sqrt(3n)])\n",
    "n̄ = mean(abs2.(a))-.5\n",
    "Vn= mean(abs2.(a).^2)-mean(abs2.(a))-n̄.^2\n",
    "println(\" \")\n",
    "println(\"n = $n Fock state.\")\n",
    "println(\"N = $N samples.\")\n",
    "println(\" \")\n",
    "println(\"averages\")\n",
    "println(\"<â> = \", mean(a))\n",
    "println(\"<â⁺â> = \",n̄)\n",
    "println(\"V(n̂) = \",Vn)\n",
    "println(\"rel. num. var. = \",sqrt(abs(Vn))/abs(n̄))"
   ]
  },
  {
   "cell_type": "code",
   "execution_count": 14,
   "metadata": {},
   "outputs": [
    {
     "name": "stdout",
     "output_type": "stream",
     "text": [
      "  0.465205 seconds (1.67 M allocations: 178.128 MiB, 53.13% gc time)\n"
     ]
    },
    {
     "data": {
      "image/png": "[encoded data removed]",
      "text/plain": [
       "Figure(PyObject <Figure size 200x200 with 1 Axes>)"
      ]
     },
     "metadata": {},
     "output_type": "display_data"
    },
    {
     "name": "stdout",
     "output_type": "stream",
     "text": [
      " \n",
      "n = 100 Fock state.\n",
      "N = 1000000 samples.\n",
      " \n",
      "averages\n",
      "<â> = -0.002344212687675532 + 0.003409488164792393im\n",
      "<â⁺â> = 100.00341005244604 + 0.0034339390606391925im\n",
      "V(n̂) = 0.07724429090012563 + 0.11722206648310085im\n",
      "rel. num. var. = 0.0037466587541111133\n"
     ]
    }
   ],
   "source": [
    "n = 100\n",
    "N = 1000000\n",
    "@time a,ā = fock(n,N,dist=\"+P\")\n",
    "figure(figsize=(2,2))\n",
    "scatter(real(a),imag(a),s=.5,c=\"blue\")\n",
    "axis(\"square\")\n",
    "axis([-sqrt(2n),sqrt(2n),-sqrt(2n),sqrt(2n)])\n",
    "n̄ = mean(ā.*a)\n",
    "Vn= mean(ā.^2 .* a.^2)+mean(ā.*a)-n̄.^2\n",
    "println(\" \")\n",
    "println(\"n = $n Fock state.\")\n",
    "println(\"N = $N samples.\")\n",
    "println(\" \")\n",
    "println(\"averages\")\n",
    "println(\"<â> = \", mean(a))\n",
    "println(\"<â⁺â> = \",n̄)\n",
    "println(\"V(n̂) = \",Vn)\n",
    "println(\"rel. num. var. = \",sqrt(abs(Vn))/abs(n̄))"
   ]
  },
  {
   "cell_type": "code",
   "execution_count": 16,
   "metadata": {},
   "outputs": [
    {
     "name": "stdout",
     "output_type": "stream",
     "text": [
      "  6.818405 seconds (103.48 k allocations: 155.539 MiB, 0.50% gc time)\n",
      " "
     ]
    },
    {
     "data": {
      "image/png": "[encoded data removed]",
      "text/plain": [
       "Figure(PyObject <Figure size 200x200 with 1 Axes>)"
      ]
     },
     "metadata": {},
     "output_type": "display_data"
    },
    {
     "name": "stdout",
     "output_type": "stream",
     "text": [
      "\n",
      "n = 100 Fock state.\n",
      "N = 1000000 samples.\n",
      " \n",
      "averages\n",
      "<â> = -0.0002583419996452567 - 0.013159213649783282im\n",
      "<â⁺â> = 99.99532724161402 - 0.002454216719241654im\n",
      "V(n̂) = -0.03050542801793199 + 0.2910402189803418im\n",
      "rel. num. var. = 0.005409823635163482\n"
     ]
    }
   ],
   "source": [
    "n = 100\n",
    "N = 1000000\n",
    "@time a,ā = fock(n,N,dist=\"+W\")\n",
    "\n",
    "figure(figsize=(2,2))\n",
    "scatter(real(a),imag(a),s=.5,c=\"blue\")\n",
    "axis(\"square\")\n",
    "axis([-sqrt(3n),sqrt(3n),-sqrt(3n),sqrt(3n)])\n",
    "n̄ = mean(ā.*a)-.5\n",
    "Vn= mean(ā.^2 .* a.^2)-mean(ā.*a)-n̄.^2\n",
    "println(\" \")\n",
    "println(\"n = $n Fock state.\")\n",
    "println(\"N = $N samples.\")\n",
    "println(\" \")\n",
    "println(\"averages\")\n",
    "println(\"<â> = \", mean(a))\n",
    "println(\"<â⁺â> = \",n̄)\n",
    "println(\"V(n̂) = \",Vn)\n",
    "println(\"rel. num. var. = \",sqrt(abs(Vn))/abs(n̄))"
   ]
  },
  {
   "cell_type": "code",
   "execution_count": 20,
   "metadata": {},
   "outputs": [
    {
     "name": "stdout",
     "output_type": "stream",
     "text": [
      "  0.003290 seconds (1.04 k allocations: 1.717 MiB)\n"
     ]
    },
    {
     "data": {
      "image/png": "[encoded data removed]",
      "text/plain": [
       "Figure(PyObject <Figure size 200x200 with 1 Axes>)"
      ]
     },
     "metadata": {},
     "output_type": "display_data"
    },
    {
     "name": "stdout",
     "output_type": "stream",
     "text": [
      " \n",
      "n = 321 Fock state.\n",
      "N = 10000 samples.\n",
      " \n",
      "averages\n",
      "<â> = -0.03670185788013434 + 0.012015078151130138im\n",
      "<â⁺â> = 321.0512794041959 + 0.11726767398032503im\n",
      "V(n̂) = -15.167233914326061 + 16.654151473089954im\n",
      "rel. num. var. =0.01478306244185235\n"
     ]
    }
   ],
   "source": [
    "#for n>320 uses asymptotic expansion\n",
    "n=321\n",
    "N=10000\n",
    "@time a,ā = fock(n,N,dist=\"+W\")\n",
    "figure(figsize=(2,2))\n",
    "scatter(real(a),imag(a),s=.5,c=\"blue\")\n",
    "axis(\"square\")\n",
    "axis([-sqrt(2n),sqrt(2n),-sqrt(2n),sqrt(2n)])\n",
    "n̄ = mean(ā.*a)-.5\n",
    "Vn= mean(ā.^2 .* a.^2)-mean(ā.*a)-n̄.^2\n",
    "println(\" \")\n",
    "println(\"n = $n Fock state.\")\n",
    "println(\"N = $N samples.\")\n",
    "println(\" \")\n",
    "println(\"averages\")\n",
    "println(\"<â> = \", mean(a))\n",
    "println(\"<â⁺â> = \",n̄)\n",
    "println(\"V(n̂) = \",Vn)\n",
    "println(\"rel. num. var. =\",sqrt(abs(Vn))/abs(n̄))"
   ]
  },
  {
   "cell_type": "code",
   "execution_count": 22,
   "metadata": {},
   "outputs": [
    {
     "name": "stdout",
     "output_type": "stream",
     "text": [
      "  0.003624 seconds (1.25 k allocations: 1.720 MiB)\n",
      " "
     ]
    },
    {
     "data": {
      "image/png": "[encoded data removed]",
      "text/plain": [
       "Figure(PyObject <Figure size 200x200 with 1 Axes>)"
      ]
     },
     "metadata": {},
     "output_type": "display_data"
    },
    {
     "name": "stdout",
     "output_type": "stream",
     "text": [
      "\n",
      "n = 10000 Fock state.\n",
      "N = 10000 samples.\n",
      " \n",
      "averages\n",
      "<â> = -0.057306748819657694 - 0.16417364951134875im\n",
      "<â⁺â> = 9999.452442092448 + 0.9087739051048639im\n",
      "V(n̂) = -447.25328463315964 + 753.7163161841308im\n",
      "rel. num. var. =0.0029606125954338004\n"
     ]
    }
   ],
   "source": [
    "#push n and N\n",
    "n=10000\n",
    "N=10000\n",
    "@time a,ā = fock(n,N,dist=\"+W\")\n",
    "figure(figsize=(2,2))\n",
    "scatter(real(a),imag(a),s=.5,c=\"blue\")\n",
    "axis(\"square\")\n",
    "axis([-sqrt(2n),sqrt(2n),-sqrt(2n),sqrt(2n)])\n",
    "n̄ = mean(ā.*a)-.5\n",
    "Vn= mean(ā.^2 .* a.^2)-mean(ā.*a)-n̄.^2\n",
    "println(\" \")\n",
    "println(\"n = $n Fock state.\")\n",
    "println(\"N = $N samples.\")\n",
    "println(\" \")\n",
    "println(\"averages\")\n",
    "println(\"<â> = \", mean(a))\n",
    "println(\"<â⁺â> = \",n̄)\n",
    "println(\"V(n̂) = \",Vn)\n",
    "println(\"rel. num. var. =\",sqrt(abs(Vn))/abs(n̄))"
   ]
  },
  {
   "cell_type": "code",
   "execution_count": 23,
   "metadata": {},
   "outputs": [
    {
     "name": "stdout",
     "output_type": "stream",
     "text": [
      "search: \u001b[0m\u001b[1mc\u001b[22m\u001b[0m\u001b[1mr\u001b[22m\u001b[0m\u001b[1me\u001b[22m\u001b[0m\u001b[1ms\u001b[22m\u001b[0m\u001b[1mc\u001b[22m\u001b[0m\u001b[1me\u001b[22m\u001b[0m\u001b[1mn\u001b[22m\u001b[0m\u001b[1mt\u001b[22m \u001b[0m\u001b[1mC\u001b[22ma\u001b[0m\u001b[1mr\u001b[22mt\u001b[0m\u001b[1me\u001b[22m\u001b[0m\u001b[1ms\u001b[22mianIndi\u001b[0m\u001b[1mc\u001b[22m\u001b[0m\u001b[1me\u001b[22ms\n",
      "\n"
     ]
    },
    {
     "data": {
      "text/markdown": [
       "```\n",
       "a,ā = crescent(β,ϵ,q,N;dist=\"+P\")\n",
       "```\n",
       "\n",
       "Sample the phase-space distribution for a crescent state. First samples a squeezed state, then introduces a searing factor in phase-space in the form of a gaussian distributed random phase.\n",
       "\n",
       "`β` is coherent (complex) amplitude.\n",
       "\n",
       "`ϵ`: squeezing paramter.\n",
       "\n",
       "`q`: shearing parameter.\n",
       "\n",
       "`N`: number of samples.\n",
       "\n",
       "`dist`: phase-space distribution. Can be `+P`,`Q` or `W`.\n",
       "\n",
       "For standard `P,Q,W` distributions, `a` and `ā` are complex conjugate, while for `+P` etc, `a` and `ā` are independent variables.\n"
      ],
      "text/plain": [
       "\u001b[36m  a,ā = crescent(β,ϵ,q,N;dist=\"+P\")\u001b[39m\n",
       "\n",
       "  Sample the phase-space distribution for a crescent state. First samples a\n",
       "  squeezed state, then introduces a searing factor in phase-space in the form\n",
       "  of a gaussian distributed random phase.\n",
       "\n",
       "  \u001b[36mβ\u001b[39m is coherent (complex) amplitude.\n",
       "\n",
       "  \u001b[36mϵ\u001b[39m: squeezing paramter.\n",
       "\n",
       "  \u001b[36mq\u001b[39m: shearing parameter.\n",
       "\n",
       "  \u001b[36mN\u001b[39m: number of samples.\n",
       "\n",
       "  \u001b[36mdist\u001b[39m: phase-space distribution. Can be \u001b[36m+P\u001b[39m,\u001b[36mQ\u001b[39m or \u001b[36mW\u001b[39m.\n",
       "\n",
       "  For standard \u001b[36mP,Q,W\u001b[39m distributions, \u001b[36ma\u001b[39m and \u001b[36mā\u001b[39m are complex conjugate, while for\n",
       "  \u001b[36m+P\u001b[39m etc, \u001b[36ma\u001b[39m and \u001b[36mā\u001b[39m are independent variables."
      ]
     },
     "execution_count": 23,
     "metadata": {},
     "output_type": "execute_result"
    }
   ],
   "source": [
    "?crescent"
   ]
  },
  {
   "cell_type": "code",
   "execution_count": 24,
   "metadata": {},
   "outputs": [
    {
     "data": {
      "image/png": "[encoded data removed]",
      "text/plain": [
       "Figure(PyObject <Figure size 200x200 with 1 Axes>)"
      ]
     },
     "metadata": {},
     "output_type": "display_data"
    },
    {
     "name": "stdout",
     "output_type": "stream",
     "text": [
      "99.73089412852262 + 0.0im\n",
      "100.0\n"
     ]
    }
   ],
   "source": [
    "β = 10\n",
    "ϵ = 0\n",
    "q = .5\n",
    "N = 5000\n",
    "a,ā = crescent(β,ϵ,q,N;dist=\"W\")\n",
    "figure(figsize=(2,2))\n",
    "scatter(real(a),imag(a),s=1,c=\"blue\")\n",
    "axis(\"square\")\n",
    "axis([-20,20,-20,20]);\n",
    "println(mean(a.*ā)-.5)\n",
    "#not quite the right moments for crescent state, but a sanity check of sorts:\n",
    "println(sinh(abs(ϵ)).^2+abs2(β)) "
   ]
  },
  {
   "cell_type": "code",
   "execution_count": 25,
   "metadata": {},
   "outputs": [
    {
     "data": {
      "image/png": "[encoded data removed]",
      "text/plain": [
       "Figure(PyObject <Figure size 200x200 with 1 Axes>)"
      ]
     },
     "metadata": {},
     "output_type": "display_data"
    },
    {
     "name": "stdout",
     "output_type": "stream",
     "text": [
      "100.0007697278656 + 0.0im\n",
      "100.0\n"
     ]
    }
   ],
   "source": [
    "β = 10\n",
    "ϵ = 0\n",
    "q = .4\n",
    "N = 5000\n",
    "a,ā = crescent(β,ϵ,q,N;dist=\"Q\")\n",
    "figure(figsize=(2,2))\n",
    "scatter(real(a),imag(a),s=1,c=\"blue\")\n",
    "axis(\"square\")\n",
    "axis([-20,20,-20,20]);\n",
    "println(mean(a.*ā)-1)\n",
    "println(sinh(abs(ϵ)).^2+abs2(β)) #not quite the right moments for crescent state, but a check of sorts"
   ]
  },
  {
   "cell_type": "code",
   "execution_count": 26,
   "metadata": {
    "scrolled": true
   },
   "outputs": [
    {
     "data": {
      "image/png": "[encoded data removed]",
      "text/plain": [
       "Figure(PyObject <Figure size 200x200 with 1 Axes>)"
      ]
     },
     "metadata": {},
     "output_type": "display_data"
    },
    {
     "name": "stdout",
     "output_type": "stream",
     "text": [
      "100.38082341823147 + 0.22019719066361282im\n",
      "100.0\n"
     ]
    }
   ],
   "source": [
    "β = 10\n",
    "ϵ = 0\n",
    "q = .4\n",
    "N = 5000\n",
    "a,ā = crescent(β,ϵ,q,N;dist=\"+P\")\n",
    "figure(figsize=(2,2))\n",
    "scatter(real(a),imag(a),s=1,c=\"blue\")\n",
    "axis(\"square\")\n",
    "axis([-20,20,-20,20]);\n",
    "println(mean(a.*ā))\n",
    "println(sinh(abs(ϵ)).^2+abs2(β)) #not quite the right moments for crescent state, but a check of sorts"
   ]
  },
  {
   "cell_type": "code",
   "execution_count": null,
   "metadata": {},
   "outputs": [],
   "source": [
    "#=\n",
    "Test standard truncted Wigner as simple loop over separate calls to\n",
    "OrdinaryDiffEq\n",
    "=#\n",
    "\n",
    "using DifferentialEquations, PyPlot\n",
    "\n",
    "#using RandomNumbers.Xorshifts\n",
    "#r1 = Xorshift1024Star()\n",
    "\n",
    "#=\n",
    "This function from PhaseSpaceTools.jl (unregistered, my github) is the only one that could affect the initial condtion\n",
    "See dist=\"W\" (line 54), where ultimatelly it is just a call to rand() that ensures an indeterminate phase over [0,2π).\n",
    "I tried to using RandomNumbers.jl to see if this would improve rand() [might reveal if this is really the issue], but\n",
    "the result of dynamics is the same.\n",
    "=#\n",
    "\n",
    "using Revise, PhaseSpaceTools, PyPlot\n",
    "\n",
    "#lets do some checks for the fock state sampler\n",
    "n = 10\n",
    "N = 10000\n",
    "a,ā = fock(n,N;dist=\"W\")\n",
    "\n",
    "figure(figsize=(4,4))\n",
    "scatter(real(a),imag(a),s=.5,c=\"blue\")\n",
    "axis(\"square\")\n",
    "axis([-sqrt(3n),sqrt(3n),-sqrt(3n),sqrt(3n)])\n",
    "n̄ = mean(abs2.(a))-.5\n",
    "Vn= mean(abs2.(a).^2)-mean(abs2.(a))-n̄.^2\n",
    "println(\" \")\n",
    "println(\"n = $n Fock state.\")\n",
    "println(\"N = $N samples.\")\n",
    "println(\" \")\n",
    "println(\"Operator averages:\")\n",
    "println(\"<â> = \", mean(a))\n",
    "println(\"<â⁺â> = \",n̄)\n",
    "println(\"V(n̂) = \",Vn)\n",
    "println(\"rel. num. var. = \",sqrt(abs(Vn))/abs(n̄))\n",
    "\n",
    "#has right statistics for means and variances:\n",
    "#no mean field (first av.), mean number is n (second av.),\n",
    "#small number variance (3rd av.), and small relative number variance (4th av.)\n",
    "\n",
    "#now solve ode as simple loop (no noise in dynamics, so test of either ode dynamics or initial condition sampling)\n",
    "\n",
    "#ode\n",
    "f = @ode_def_bare Drift begin\n",
    "  dα₁ = -2*im*χ*abs2(α₁)*α₁ + im*J*α₂\n",
    "  dα₂ = -2*im*χ*abs2(α₂)*α₂ + im*J*α₁\n",
    "end χ=>0.2 J=1.0\n",
    "\n",
    "\n",
    "#time\n",
    "ti = 0.\n",
    "tf = 10.\n",
    "Nt = 100\n",
    "tspan = (ti,tf)\n",
    "t = collect(linspace(ti,tf,Nt))\n",
    "a0= complex(ones(Nt))\n",
    "\n",
    "\n",
    "function boser(Ntraj)\n",
    "Na = 10\n",
    "Nb = 0\n",
    "n1 = zeros(complex(Nt))\n",
    "n2 = zeros(complex(Nt))\n",
    "\n",
    "#just an honest loop\n",
    "for j=1:Ntraj\n",
    "    a,ā = fock(Na,1,dist=\"W\")\n",
    "    b,b̄ = fock(Nb,1,dist=\"W\")\n",
    "    prob = ODEProblem(f,[a[1];b[1]],tspan)\n",
    "\n",
    "    alg = DP5()\n",
    "    dt = 1/1000\n",
    "\n",
    "    sol = solve(prob,alg,reltol=1e-7,dt=dt,saveat=t)\n",
    "\n",
    "    α₁ = sol[1,:]\n",
    "    α₂ = sol[2,:]\n",
    "    n1 .+= abs2.(α₁)\n",
    "    n2 .+= abs2.(α₂)\n",
    "end\n",
    "\n",
    "n1/=Ntraj\n",
    "n2/=Ntraj\n",
    "n1+=-.5\n",
    "n2+=-.5\n",
    "return n1,n2\n",
    "end\n",
    "\n",
    "#compile\n",
    "_n1,_n2=boser(1)\n",
    "\n",
    "n1,n2=boser(5000)\n",
    "\n",
    "f1=figure(figsize=(4,4))\n",
    "plot(t,n1)\n",
    "plot(t,n2)\n",
    "xlim(ti,tf)\n",
    "\n",
    "#Now compare with exact evolution in number state basis\n",
    "using QuantumOptics\n",
    "\n",
    "χ=0.2\n",
    "J=1\n",
    "Nbasis = 40\n",
    "b1 = FockBasis(Nbasis)\n",
    "b2 = FockBasis(Nbasis)\n",
    "bas= b1⊗b2\n",
    "a = destroy(b1)\n",
    "a⁺ = create(b1)\n",
    "b = destroy(b2)\n",
    "b⁺= create(b2)\n",
    "Ia= identityoperator(b1)\n",
    "Ib= identityoperator(b2)\n",
    "\n",
    "H = χ*((a⁺*a⁺*a*a) ⊗ Ib + Ia ⊗ (b⁺*b⁺*b*b)) - J*(a⊗b⁺ + a⁺⊗b)\n",
    "\n",
    "ti = 0.0\n",
    "tf = 10.0\n",
    "Nt = 100\n",
    "t = collect(linspace(ti,tf,Nt))\n",
    "psi0 = fockstate(b1, 10) ⊗ fockstate(b2,0)\n",
    "tout, psit = timeevolution.schroedinger(t, psi0, H)\n",
    "\n",
    "na = number(b1);nb = number(b2)\n",
    "Na = real(expect(na⊗Ib,psit))\n",
    "Nb = real(expect(Ia⊗nb,psit))\n",
    "\n",
    "#figure(figsize=(5,4))\n",
    "#xlim(0, tf)\n",
    "#ylim(0,10)\n",
    "plot(t,Na,\"-.\")\n",
    "plot(t,Nb,\"-.\")\n",
    "#plot(t,n1,\"--\")\n",
    "#plot(t,n2,\"--\")\n",
    "xlabel(L\"t\")\n",
    "ylabel(L\"\\langle \\hat n \\rangle\")\n",
    "legend([L\"N_a (W)\",L\"N_b (W)\",L\"N_a\",L\"N_b\"],loc=\"lower right\");\n",
    "#savefig(\"compareExact_Wigner.pdf\")"
   ]
  }
 ],
 "metadata": {
  "kernelspec": {
   "display_name": "Julia 1.0.1",
   "language": "julia",
   "name": "julia-1.0"
  },
  "language_info": {
   "file_extension": ".jl",
   "mimetype": "application/julia",
   "name": "julia",
   "version": "1.0.1"
  }
 },
 "nbformat": 4,
 "nbformat_minor": 2
}
