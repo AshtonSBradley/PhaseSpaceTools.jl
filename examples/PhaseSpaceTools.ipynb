{
 "cells": [
  {
   "cell_type": "markdown",
   "metadata": {},
   "source": [
    "Sampling single mode initial states using methods presented in the article\n",
    "- [Olsen, Bradley, Opt. Comm. 282 (2009) 3924-3929](https://doi.org/10.1016/j.optcom.2009.06.033); errata [Olsen, Lewis-Swan, Bradley, Opt. Comm. 370 (2016) 327-328](https://doi.org/10.1016/j.optcom.2016.02.068)\n",
    "\n",
    "We also sample some new distributions:\n",
    "- fock state for +W\n",
    "- thermal state for +P\n",
    "\n",
    "More detailed errata for [Olsen, Bradley, Opt. Comm. 282 (2009) 3924-3929](https://doi.org/10.1016/j.optcom.2009.06.033)\n"
   ]
  },
  {
   "cell_type": "code",
   "execution_count": null,
   "metadata": {},
   "outputs": [],
   "source": [
    "using PhaseSpaceTools, PyPlot, QuadGK"
   ]
  },
  {
   "cell_type": "code",
   "execution_count": null,
   "metadata": {},
   "outputs": [],
   "source": [
    "b=10\n",
    "N=1000\n",
    "a,ā = coherent(b,N,dist=\"W\")\n",
    "figure(figsize=(2,2))\n",
    "scatter(real(a),imag(a),s=1,c=\"blue\")\n",
    "axis(\"square\")\n",
    "axis([-20,20,-20,20]);\n",
    "println(mean(a.*ā)-.5)"
   ]
  },
  {
   "cell_type": "code",
   "execution_count": null,
   "metadata": {},
   "outputs": [],
   "source": [
    "a,ā = thermal(0,10,5000;dist=\"P\")\n",
    "figure(figsize=(2,2))\n",
    "scatter(real(a),imag(a),s=1,c=\"blue\")\n",
    "axis(\"square\")\n",
    "axis([-20,20,-20,20]);\n",
    "mean(a.*ā)"
   ]
  },
  {
   "cell_type": "code",
   "execution_count": null,
   "metadata": {},
   "outputs": [],
   "source": [
    "a,ā = thermal(0,10,5000;dist=\"W\")\n",
    "figure(figsize=(2,2))\n",
    "scatter(real(a),imag(ā),s=1,c=\"blue\")\n",
    "axis(\"square\")\n",
    "axis([-20,20,-20,20]);\n",
    "mean(a.*ā)-.5"
   ]
  },
  {
   "cell_type": "code",
   "execution_count": null,
   "metadata": {},
   "outputs": [],
   "source": [
    "β = 10\n",
    "ϕ = π/16\n",
    "r = 1.5\n",
    "ϵ = r*exp(2*im*ϕ)\n",
    "N = 5000\n",
    "a,ā = squeezed(β,ϵ,N,dist=\"W\")\n",
    "figure(figsize=(2,2))\n",
    "scatter(real(a),imag(ā),s=1,c=\"blue\")\n",
    "axis(\"square\")\n",
    "axis([-20,20,-20,20]);\n",
    "println(mean(a.*ā)-.5)\n",
    "println(sinh(abs(ϵ)).^2+abs2(β))"
   ]
  },
  {
   "cell_type": "code",
   "execution_count": null,
   "metadata": {},
   "outputs": [],
   "source": [
    "β = 10\n",
    "ϕ = π/16\n",
    "r = 2\n",
    "ϵ = r*exp(2*im*ϕ)\n",
    "N = 100000\n",
    "a,ā = squeezed(β,ϵ,N;dist=\"+P\")\n",
    "figure(figsize=(2,2))\n",
    "scatter(real(a),imag(a),s=1,c=\"blue\")\n",
    "axis(\"square\")\n",
    "axis([-20,20,-20,20]);\n",
    "println(real(mean(a.*ā)))\n",
    "println(sinh(abs(ϵ)).^2+abs2(β))"
   ]
  },
  {
   "cell_type": "code",
   "execution_count": null,
   "metadata": {},
   "outputs": [],
   "source": [
    "n = 100\n",
    "N = 100000\n",
    "a,ā = fock(n,N;dist=\"W\")\n",
    "figure(figsize=(2,2))\n",
    "scatter(real(a),imag(ā),s=.5,c=\"blue\")\n",
    "axis(\"square\")\n",
    "axis([-20,20,-20,20]);\n",
    "println(mean(a.*ā)-.5)\n",
    "println(n)"
   ]
  },
  {
   "cell_type": "code",
   "execution_count": null,
   "metadata": {},
   "outputs": [],
   "source": [
    "n = 160\n",
    "N = 10000\n",
    "a,ā = fock(n,N;dist=\"+P\")\n",
    "figure(figsize=(2,2))\n",
    "scatter(real(a),imag(a),s=.5,c=\"blue\")\n",
    "axis(\"square\")\n",
    "axis([-20,20,-20,20]);\n",
    "println(mean(a.*ā))\n",
    "println(n)"
   ]
  },
  {
   "cell_type": "code",
   "execution_count": null,
   "metadata": {},
   "outputs": [],
   "source": [
    "β = 10\n",
    "ϵ = 0\n",
    "q = .5\n",
    "N = 5000\n",
    "a,ā = crescent(β,ϵ,q,N;dist=\"W\")\n",
    "figure(figsize=(2,2))\n",
    "scatter(real(a),imag(a),s=1,c=\"blue\")\n",
    "axis(\"square\")\n",
    "axis([-20,20,-20,20]);\n",
    "println(mean(a.*ā)-.5)\n",
    "#not quite the right moments for crescent state, but a sanity check of sorts:\n",
    "println(sinh(abs(ϵ)).^2+abs2(β)) \n"
   ]
  },
  {
   "cell_type": "code",
   "execution_count": null,
   "metadata": {},
   "outputs": [],
   "source": [
    "β = 10\n",
    "ϵ = 0\n",
    "q = .4\n",
    "N = 5000\n",
    "a,ā = crescent(β,ϵ,q,N;dist=\"Q\")\n",
    "figure(figsize=(2,2))\n",
    "scatter(real(a),imag(a),s=1,c=\"blue\")\n",
    "axis(\"square\")\n",
    "axis([-20,20,-20,20]);\n",
    "println(mean(a.*ā)-1)\n",
    "println(sinh(abs(ϵ)).^2+abs2(β)) #not quite the right moments for crescent state, but a check of sorts"
   ]
  },
  {
   "cell_type": "code",
   "execution_count": null,
   "metadata": {
    "scrolled": true
   },
   "outputs": [],
   "source": [
    "β = 10\n",
    "ϵ = 0\n",
    "q = .4\n",
    "N = 5000\n",
    "a,ā = crescent(β,ϵ,q,N;dist=\"+P\")\n",
    "figure(figsize=(2,2))\n",
    "scatter(real(a),imag(a),s=1,c=\"blue\")\n",
    "axis(\"square\")\n",
    "axis([-20,20,-20,20]);\n",
    "println(mean(a.*ā))\n",
    "println(sinh(abs(ϵ)).^2+abs2(β)) #not quite the right moments for crescent state, but a check of sorts"
   ]
  },
  {
   "cell_type": "markdown",
   "metadata": {
    "collapsed": true
   },
   "source": [
    "# implement fock states for +W"
   ]
  },
  {
   "cell_type": "code",
   "execution_count": null,
   "metadata": {},
   "outputs": [],
   "source": [
    "function reject(P,w,N,Pmax)\n",
    "    #rejection sampling the probability distribution P over the window w=[w1,w2]\n",
    "    #Pmax must be numerical with value max(P) <= Pmax \n",
    "    #initialize sample vector\n",
    "    samples = Array{Float64}(1)\n",
    "    while length(samples) < N + 1 \n",
    "        y = w[1] + rand()*(w[2]-w[1])\n",
    "        z = rand()*Pmax\n",
    "        if z < P(y)\n",
    "            push!(samples,y)\n",
    "        end\n",
    "    end\n",
    "    return samples[2:end]\n",
    "end\n",
    "    \n"
   ]
  },
  {
   "cell_type": "code",
   "execution_count": null,
   "metadata": {},
   "outputs": [],
   "source": [
    "f(x)=0.5*(exp(-x^2/2)/sqrt(2π)+exp(-(x-10)^2/8)/sqrt(8π))"
   ]
  },
  {
   "cell_type": "code",
   "execution_count": null,
   "metadata": {},
   "outputs": [],
   "source": [
    "weighted_hist(x; kws...) = PyPlot.plt[:hist](x; weights=ones(length(x))/length(x), kws...)"
   ]
  },
  {
   "cell_type": "code",
   "execution_count": null,
   "metadata": {},
   "outputs": [],
   "source": [
    "a = reject(f,[-5,18],100000,f(0.))\n",
    "figure(figsize=(6,2))\n",
    "b = weighted_hist(a,bins=60);"
   ]
  },
  {
   "cell_type": "code",
   "execution_count": null,
   "metadata": {},
   "outputs": [],
   "source": [
    "mean(a),sqrt(var(a))"
   ]
  },
  {
   "cell_type": "markdown",
   "metadata": {},
   "source": [
    "### Distribution to sample"
   ]
  },
  {
   "cell_type": "code",
   "execution_count": null,
   "metadata": {},
   "outputs": [],
   "source": [
    "@pyimport mpmath as mp\n",
    "lagbig(x,n)=mp.laguerre(n,0,x)"
   ]
  },
  {
   "cell_type": "code",
   "execution_count": null,
   "metadata": {},
   "outputs": [],
   "source": [
    "@pyimport scipy as sp\n",
    "@pyimport scipy.special as sps\n",
    "laguerre(x,n)=sps.eval_laguerre(n,x)"
   ]
  },
  {
   "cell_type": "code",
   "execution_count": null,
   "metadata": {},
   "outputs": [],
   "source": [
    "lagbig(.1,10000)"
   ]
  },
  {
   "cell_type": "code",
   "execution_count": null,
   "metadata": {},
   "outputs": [],
   "source": [
    "laguerre(.1,10000)"
   ]
  },
  {
   "cell_type": "markdown",
   "metadata": {},
   "source": [
    "Distribution \n",
    "$$P_n(x)=\\frac{4}{3}e^{-2x^2/3}L_n(-4x^2/3)\\frac{x}{3^n}$$\n",
    "or, using \n",
    "$$L_n(-x)=\\sum_{k=0}^n\\binom{n}{k}\\frac{x^k}{k!}$$\n",
    "we have\n",
    "$$P_n(x)=\\frac{4x}{3^{n+1}}e^{-2x^2/3}\\sum_{k=0}^n\\binom{n}{k}\\frac{(4x^2/3)^k}{k!}$$"
   ]
  },
  {
   "cell_type": "code",
   "execution_count": null,
   "metadata": {},
   "outputs": [],
   "source": [
    "function P(x,n)\n",
    "    #P(x,n)=(4/3)*exp(-2*x^2/3)*x*laguerre(-4*x^2/3,n)/(3^n)\n",
    "    return (4/3)*exp(-2*x^2/3 + log(x) + log(laguerre(-4*x^2/3,n)) - n*log(3))\n",
    "end\n",
    "n=10\n",
    "println(sqrt(n))\n",
    "println(quadgk(x->P(x,n),0,10))\n",
    "x̄=quadgk(x->P(x,n).*x,0,10);println(x̄)\n",
    "x2=quadgk(x->P(x,n).*x.^2,0,10)\n",
    "sigx=sqrt(x2[1]-x̄[1].^2)\n",
    "x̄[1]+6sigx,x̄[1]-6sigx"
   ]
  },
  {
   "cell_type": "markdown",
   "metadata": {},
   "source": [
    "Asymptotic expansion\n",
    "$$L_n(-x)=\\frac{e^{-x/2}}{2\\sqrt{\\pi}[x(n+1)]^{1/4}}e^{2\\sqrt{x(n+1)}}$$"
   ]
  },
  {
   "cell_type": "markdown",
   "metadata": {},
   "source": [
    "and hence\n",
    "$$P_n(x)=\\frac{4}{3}e^{-2x^2/3}L_n(-4x^2/3)\\frac{x}{3^{n}}\\longrightarrow \\frac{4}{3}e^{-2x^2/3}\\frac{e^{-2x^2/3}}{2\\sqrt{\\pi}[4x^2(n+1)/3]^{1/4}}e^{2\\sqrt{4x^2/3(n+1)}}\\frac{x}{3^{n}}$$\n",
    "or \n",
    "$$P_n(x)\\longrightarrow \\frac{2}{3\\sqrt{\\pi}}\\frac{e^{-(\\sqrt{4x^2/3}-\\sqrt{n+1})^2}}{[4x^2(n+1)/3]^{1/4}}\\frac{xe^{n+1}}{3^{n}}$$"
   ]
  },
  {
   "cell_type": "code",
   "execution_count": null,
   "metadata": {},
   "outputs": [],
   "source": [
    "n=0\n",
    "x=linspace(0,25,1000);dx=x[2]-x[1];\n",
    "plot(x,P.(x,n));\n",
    "x1=max(0,sqrt(n+1)-5);x2=sqrt(n+1)+5\n",
    "plot(sqrt(n+1)*ones(x),linspace(0,.6,1000))\n",
    "plot(x1*ones(x),linspace(0,.6,1000))\n",
    "plot(x2*ones(x),linspace(0,.6,1000))\n",
    "sum(P.(x,n)*dx)\n",
    "maximum(P.(x,n))"
   ]
  },
  {
   "cell_type": "code",
   "execution_count": null,
   "metadata": {},
   "outputs": [],
   "source": [
    "n=1\n",
    "x1=max(0,sqrt(n)-5);x2=sqrt(n)+5\n",
    "N=10000\n",
    "Nb=50\n",
    "a = reject(x->P.(x,n),[x1,x2],N,.6)\n",
    "figure(figsize=(7,3))\n",
    "b = weighted_hist(a,bins=Nb);"
   ]
  },
  {
   "cell_type": "code",
   "execution_count": null,
   "metadata": {},
   "outputs": [],
   "source": [
    "import PhaseSpaceTools.fock\n",
    "\n",
    "weighted_hist(x; kws...) = PyPlot.plt[:hist](x; weights=ones(length(x))/length(x), kws...)\n",
    "\n",
    "function reject(P,w,N,Pmax)\n",
    "    #rejection sampling the probability distribution P over the window w=[w1,w2]\n",
    "    #Pmax must be numerical with value max(P) <= Pmax \n",
    "    #initialize sample vector\n",
    "    samples = Array{Float64}(1)\n",
    "    while length(samples) < N + 1 \n",
    "        y = w[1] + rand()*(w[2]-w[1])\n",
    "        z = rand()*Pmax\n",
    "        if z < P(y)\n",
    "            push!(samples,y)\n",
    "        end\n",
    "    end\n",
    "    return samples[2:end]\n",
    "end\n",
    "\n",
    "@pyimport scipy as sp\n",
    "@pyimport scipy.special as sps\n",
    "laguerre(x,n)=sps.eval_laguerre(n,x)\n",
    "\n",
    "function P(x,n)\n",
    "#P(x,n)=(4/3)*exp(-2*x^2/3)*x*laguerre(-4*x^2/3,n)/(3^n)\n",
    "    return (4/3)*exp(-2*x^2/3 + log(x) + log(laguerre(-4*x^2/3,n)) - n*log(3))\n",
    "end"
   ]
  },
  {
   "cell_type": "code",
   "execution_count": null,
   "metadata": {},
   "outputs": [],
   "source": [
    "\"\"\"\n",
    "```julia\n",
    "a,ā = fock(n,N;dist)\n",
    "```\n",
    "samples phase space distribution for a Fock state\n",
    "`n` is number of fock state\n",
    "\n",
    "`N` is number of samples\n",
    "\n",
    "`dist` is distribution. Can be either `W` or `+P`(default)\n",
    "\"\"\"\n",
    "function fock(n,N;dist=\"+P\")\n",
    "if dist==\"+P\"\n",
    "    γ = (randn(N)+im*randn(N))/sqrt(2)\n",
    "    d = Gamma(n+1,1)\n",
    "    z = rand(d,N)\n",
    "    μ = sqrt.(z).*exp.(2π*im*rand(N))\n",
    "    α = μ + γ\n",
    "    ᾱ = conj(μ - γ)\n",
    "    return α, ᾱ\n",
    "elseif dist==\"W\"\n",
    "    p = 0.5*sqrt(2*n+1+2*sqrt(n^2+n))\n",
    "    q = 1/(4*p)\n",
    "    α = (p + q*randn(N)).*exp.(2π*im*rand(N))\n",
    "    ᾱ = conj(α)\n",
    "    return α,ᾱ\n",
    "elseif dist==\"+W\" \n",
    "    γ = (randn(N)+im*randn(N))/sqrt(2)\n",
    "    x1= max(0,sqrt(n)-5); x2 = sqrt(n)+5\n",
    "    (n==0||n==1)?Pmax=0.71:Pmax=0.6\n",
    "    z = reject(x->P.(x,n),[x1,x2],N,Pmax)\n",
    "    μ = z.*exp.(2π*im*rand(N))\n",
    "    α = μ + γ\n",
    "    ᾱ = conj(μ - γ)\n",
    "    return α, ᾱ    \n",
    "else error(\"distribution not implemented\")\n",
    "        \n",
    "end\n",
    "end"
   ]
  },
  {
   "cell_type": "code",
   "execution_count": null,
   "metadata": {},
   "outputs": [],
   "source": [
    "a,ā = fock(0,100000,dist=\"+W\")"
   ]
  },
  {
   "cell_type": "code",
   "execution_count": null,
   "metadata": {},
   "outputs": [],
   "source": [
    "n̄ = mean(a.*ā)-.5"
   ]
  },
  {
   "cell_type": "code",
   "execution_count": null,
   "metadata": {},
   "outputs": [],
   "source": [
    "Vn = mean(a.^2.*ā.^2) - n̄ - n̄^2 #+P"
   ]
  },
  {
   "cell_type": "code",
   "execution_count": null,
   "metadata": {},
   "outputs": [],
   "source": [
    "n = 20\n",
    "N = 5000\n",
    "a,ā = fock(n,N)\n",
    "figure(figsize=(2,2))\n",
    "scatter(real(a),imag(a),s=.5,c=\"blue\")\n",
    "axis(\"square\")\n",
    "axis([-20,20,-20,20]);\n",
    "println(mean(a.*ā))\n",
    "println(n)"
   ]
  },
  {
   "cell_type": "code",
   "execution_count": null,
   "metadata": {},
   "outputs": [],
   "source": []
  }
 ],
 "metadata": {
  "kernelspec": {
   "display_name": "Julia 0.6.2",
   "language": "julia",
   "name": "julia-0.6"
  },
  "language_info": {
   "file_extension": ".jl",
   "mimetype": "application/julia",
   "name": "julia",
   "version": "0.6.2"
  }
 },
 "nbformat": 4,
 "nbformat_minor": 2
}
