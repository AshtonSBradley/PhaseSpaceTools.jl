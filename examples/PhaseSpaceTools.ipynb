{
 "cells": [
  {
   "cell_type": "markdown",
   "metadata": {
    "nbpresent": {
     "id": "0a377fd8-87f0-481f-9087-e27d254bba59"
    },
    "slideshow": {
     "slide_type": "slide"
    }
   },
   "source": [
    "# Sampling quantum states\n",
    "Sampling single mode quantum states for use in quantum phase space simulations using the truncated Wigner and +P distributions. Similar methods can be applied to multimode simulations of Bose-Einstein condensates.\n",
    "\n",
    "We use the methods presented in the article\n",
    "- [Olsen, Bradley, Opt. Comm. 282 (2009) 3924-3929](https://doi.org/10.1016/j.optcom.2009.06.033)\n",
    "\n",
    "with erratum [Olsen, Lewis-Swan, Bradley, Opt. Comm. 370 (2016) 327-328](https://doi.org/10.1016/j.optcom.2016.02.068)\n",
    "\n",
    "A complete erratum can be found at [SciPost](https://scipost.org/commentaries/10.1016/j.optcom.2009.06.033/).\n",
    "\n",
    "We add sampling for the additional distributions:\n",
    "- fock state for +W\n",
    "- thermal state for +P\n",
    "\n",
    "\n",
    "For more information on Bose-Einstein condensate applications, see the review \n",
    "\n",
    "___Dynamics and statistical mechanics of ultra-cold Bose gases using c-field techniques___, P. B. Blakie, A. S. Bradley, M. J. Davis, R. J. Ballagh, and C. W. Gardiner, [Advances in Phyiscs 57, 363 (2008)](http://dx.doi.org/10.1080/00018730802564254)\n",
    "\n"
   ]
  },
  {
   "cell_type": "code",
   "execution_count": 1,
   "metadata": {
    "nbpresent": {
     "id": "d97d1f8b-59ea-4d80-b822-8930e4fa528d"
    },
    "slideshow": {
     "slide_type": "skip"
    }
   },
   "outputs": [
    {
     "name": "stderr",
     "output_type": "stream",
     "text": [
      "┌ Info: Recompiling stale cache file /Users/abradley/.julia/compiled/v1.1/PhaseSpaceTools/hvSNh.ji for PhaseSpaceTools [0e21426a-da0a-11e8-1f13-43a2532b2fa8]\n",
      "└ @ Base loading.jl:1184\n",
      "┌ Warning: Implicit vectorized function is deprecated in favor of compact broadcast syntax.\n",
      "│   caller = include at boot.jl:326 [inlined]\n",
      "└ @ Core ./boot.jl:326\n",
      "┌ Warning: Implicit vectorized function is deprecated in favor of compact broadcast syntax.\n",
      "│   caller = include at boot.jl:326 [inlined]\n",
      "└ @ Core ./boot.jl:326\n",
      "┌ Warning: Implicit vectorized function is deprecated in favor of compact broadcast syntax.\n",
      "│   caller = eval(::Module, ::Any) at boot.jl:328\n",
      "└ @ Core ./boot.jl:328\n"
     ]
    },
    {
     "data": {
      "text/plain": [
       "Plots.GRBackend()"
      ]
     },
     "execution_count": 1,
     "metadata": {},
     "output_type": "execute_result"
    }
   ],
   "source": [
    "using PhaseSpaceTools, Plots, LaTeXStrings\n",
    "gr(size=(250,250),xlabel=L\"\\alpha_r\",ylabel=L\"\\alpha_i\",\n",
    "    xlims=(-20,20),ylims=(-20,20),ms=.2,\n",
    "    legend=false,grid=false,aspect_ratio=1,colorbar=true)"
   ]
  },
  {
   "cell_type": "code",
   "execution_count": null,
   "metadata": {
    "nbpresent": {
     "id": "384c8a51-a62a-47a4-b582-9033d7087816"
    },
    "slideshow": {
     "slide_type": "skip"
    }
   },
   "outputs": [],
   "source": [
    "function showmeansW(a,ā)\n",
    "    n̄ = mean(a.*ā)-.5\n",
    "    Vn= mean(a.^2 .*ā.^2)-mean(a.*ā)-n̄.^2\n",
    "    println(\" \")\n",
    "    println(\"N = $N samples.\")\n",
    "    println(\" \")\n",
    "    println(\"Averages\")\n",
    "    println(\"<â> = \", mean(a))\n",
    "    println(\"<â⁺â> = \",n̄)\n",
    "    println(\"V(n̂) = \",Vn)\n",
    "    println(\"Relative number variance = \",sqrt(abs(Vn))/abs(n̄))\n",
    "end"
   ]
  },
  {
   "cell_type": "code",
   "execution_count": null,
   "metadata": {
    "nbpresent": {
     "id": "87dc394f-1d18-4a98-8b36-42d37f6ad3de"
    },
    "slideshow": {
     "slide_type": "slide"
    }
   },
   "outputs": [],
   "source": [
    "?wigner"
   ]
  },
  {
   "cell_type": "code",
   "execution_count": null,
   "metadata": {
    "nbpresent": {
     "id": "f5ef596a-f413-4177-8031-ef6f06ea6d6d"
    }
   },
   "outputs": [],
   "source": [
    "b = 10\n",
    "N = 100000\n",
    "state = Coherent(b)\n",
    "a,ā = wigner(state,N)\n",
    "histogram2d(real(a),imag(a))"
   ]
  },
  {
   "cell_type": "code",
   "execution_count": null,
   "metadata": {},
   "outputs": [],
   "source": [
    "showmeansW(a,ā)"
   ]
  },
  {
   "cell_type": "code",
   "execution_count": null,
   "metadata": {
    "nbpresent": {
     "id": "16d6c1de-2a53-4c6b-ada0-032ff8b741af"
    }
   },
   "outputs": [],
   "source": [
    "b = 10\n",
    "N = 100000\n",
    "state = Thermal(0,b)\n",
    "a,ā = wigner(state,N)\n",
    "histogram2d(real(a),imag(a))"
   ]
  },
  {
   "cell_type": "code",
   "execution_count": null,
   "metadata": {
    "nbpresent": {
     "id": "72f894ca-b7f9-45d7-87f5-58635e9bc712"
    }
   },
   "outputs": [],
   "source": [
    "showmeansW(a,ā)"
   ]
  },
  {
   "cell_type": "code",
   "execution_count": null,
   "metadata": {
    "nbpresent": {
     "id": "b8a05d4c-b819-4854-a6e7-f062e83fb56a"
    }
   },
   "outputs": [],
   "source": [
    "β = 10\n",
    "ϕ = π/16\n",
    "r = 1\n",
    "ϵ = r*exp(2*im*ϕ)\n",
    "N = 100000\n",
    "state = Squeezed(β,ϵ)\n",
    "a,ā = wigner(state,N)\n",
    "histogram2d(real(a),imag(a))"
   ]
  },
  {
   "cell_type": "code",
   "execution_count": null,
   "metadata": {
    "nbpresent": {
     "id": "8403a143-452f-4d13-bcd6-6d89c9cd37cc"
    }
   },
   "outputs": [],
   "source": [
    "showmeansW(a,ā)"
   ]
  },
  {
   "cell_type": "code",
   "execution_count": null,
   "metadata": {
    "nbpresent": {
     "id": "02b869e8-4f78-4c67-9bef-434f1a7dbfda"
    }
   },
   "outputs": [],
   "source": [
    "β = 10\n",
    "ϕ = π/16\n",
    "r = 1\n",
    "ϵ = r*exp(2*im*ϕ)\n",
    "N = 100000\n",
    "state = Squeezed(β,ϵ)\n",
    "a,ā = positiveP(state,N)\n",
    "histogram2d(real(a),imag(a))"
   ]
  },
  {
   "cell_type": "code",
   "execution_count": null,
   "metadata": {
    "nbpresent": {
     "id": "037a8794-f93a-49f9-86de-b95ee22c36ba"
    }
   },
   "outputs": [],
   "source": [
    "n = 10\n",
    "N = 1000\n",
    "state = Fock(n)\n",
    "a,ā = wigner(state,N)\n",
    "scatter(real(a),imag(a))\n",
    "am = sqrt(3n);xlims!(-am,am);ylims!(-am,am)"
   ]
  },
  {
   "cell_type": "code",
   "execution_count": null,
   "metadata": {
    "nbpresent": {
     "id": "7b2510a9-22b4-4028-8e3f-e099d49c361c"
    }
   },
   "outputs": [],
   "source": [
    "N=10000\n",
    "a,ā = wigner(state,N)\n",
    "showmeansW(a,ā)"
   ]
  },
  {
   "cell_type": "code",
   "execution_count": null,
   "metadata": {
    "nbpresent": {
     "id": "30bbcd7b-e574-4b8a-9e5e-dfaa5249b67d"
    }
   },
   "outputs": [],
   "source": [
    "n = 100\n",
    "N = 1000\n",
    "state = Fock(n)\n",
    "a,ā = positiveP(state,N)\n",
    " \n",
    "scatter(real(a),imag(a))\n",
    "am = sqrt(3n);xlims!(-am,am);ylims!(-am,am)"
   ]
  },
  {
   "cell_type": "code",
   "execution_count": null,
   "metadata": {
    "nbpresent": {
     "id": "faef919b-a74d-4551-82bd-b5ab44ca4b02"
    }
   },
   "outputs": [],
   "source": [
    "N = 10000;\n",
    "a,ā = positiveP(state,N)"
   ]
  },
  {
   "cell_type": "code",
   "execution_count": null,
   "metadata": {
    "nbpresent": {
     "id": "2620dfd6-d31b-47cc-9bf3-d39f567a413a"
    }
   },
   "outputs": [],
   "source": [
    "n = 100\n",
    "N = 1000\n",
    "a,ā = positiveW(state,N)\n",
    "\n",
    "scatter(real(a),imag(a))\n",
    "am = sqrt(3n);xlims!(-am,am);ylims!(-am,am)"
   ]
  },
  {
   "cell_type": "code",
   "execution_count": null,
   "metadata": {
    "nbpresent": {
     "id": "22851196-ff05-439e-a576-9a8c819a7508"
    }
   },
   "outputs": [],
   "source": [
    "N = 100000;\n",
    "a,ā = positiveP(state,N)\n",
    "# showmeansP(a,ā)"
   ]
  },
  {
   "cell_type": "code",
   "execution_count": null,
   "metadata": {
    "nbpresent": {
     "id": "d6d0ac35-8a24-4de7-9241-c8807ac1836f"
    }
   },
   "outputs": [],
   "source": [
    "#for n>320 uses asymptotic expansion\n",
    "n=321\n",
    "state = Fock(n)\n",
    "N=1000\n",
    "a,ā = positiveW(state,N)\n",
    "am = sqrt(3n);xlims!(-am,am);ylims!(-am,am)"
   ]
  },
  {
   "cell_type": "code",
   "execution_count": null,
   "metadata": {
    "nbpresent": {
     "id": "f84e2e39-389f-4f76-9a88-2b1a006bde42"
    }
   },
   "outputs": [],
   "source": [
    "N = 100000;\n",
    "a,ā = positiveP(state,N)\n",
    "# showmeansP(n,N,a,ā)"
   ]
  },
  {
   "cell_type": "code",
   "execution_count": null,
   "metadata": {
    "nbpresent": {
     "id": "eeccd006-c808-4c84-8fa8-b0fdba0c928a"
    }
   },
   "outputs": [],
   "source": [
    "#push n and N\n",
    "n=10000\n",
    "state = Fock(n)\n",
    "N=100000\n",
    "a,ā = positiveW(state,N)\n",
    "# averages(n,N,a,ā)"
   ]
  },
  {
   "cell_type": "code",
   "execution_count": null,
   "metadata": {
    "nbpresent": {
     "id": "239bb3aa-895e-4843-b4c6-d7d74550792b"
    }
   },
   "outputs": [],
   "source": [
    "methods(Crescent)"
   ]
  },
  {
   "cell_type": "code",
   "execution_count": null,
   "metadata": {
    "nbpresent": {
     "id": "9e3acfed-f248-4efa-ad4b-de3ff87a6829"
    }
   },
   "outputs": [],
   "source": [
    "β = 10\n",
    "ϵ = 0\n",
    "q = .5\n",
    "N = 500\n",
    "state = Crescent(β,ϵ,q)\n",
    "a,ā = wigner(state,N)\n",
    "scatter(real(a),imag(a))"
   ]
  },
  {
   "cell_type": "markdown",
   "metadata": {
    "nbpresent": {
     "id": "62444297-2635-4676-a26d-23b92a237ab9"
    }
   },
   "source": [
    "not quite the right moments for crescent state, but a sanity check of sorts:"
   ]
  },
  {
   "cell_type": "code",
   "execution_count": null,
   "metadata": {
    "nbpresent": {
     "id": "d9a3a4f9-dc77-4445-a05b-8fa4a6a5a0da"
    }
   },
   "outputs": [],
   "source": [
    "mean(a.*ā)-.5, sinh(abs(ϵ)).^2+abs2(β)"
   ]
  },
  {
   "cell_type": "code",
   "execution_count": null,
   "metadata": {
    "nbpresent": {
     "id": "116f7360-1d27-49f8-a393-20ede3fc76f7"
    }
   },
   "outputs": [],
   "source": [
    "β = 10\n",
    "ϵ = 0\n",
    "q = .4\n",
    "N = 500\n",
    "state = Crescent(β,ϵ,q)\n",
    "a,ā = husimiQ(state,N)\n",
    "scatter(real(a),imag(a))"
   ]
  },
  {
   "cell_type": "code",
   "execution_count": null,
   "metadata": {
    "nbpresent": {
     "id": "ecf9c263-03ca-4fa6-bb76-32e4f3769d8b"
    }
   },
   "outputs": [],
   "source": [
    "mean(a.*ā)-1,sinh(abs(ϵ)).^2+abs2(β) "
   ]
  },
  {
   "cell_type": "code",
   "execution_count": null,
   "metadata": {
    "nbpresent": {
     "id": "ef74597d-d69f-41b4-b3c8-f0fc89ba42c7"
    },
    "scrolled": true
   },
   "outputs": [],
   "source": [
    "β = 10\n",
    "ϵ = 0\n",
    "q = .4\n",
    "N = 5000\n",
    "state = Crescent(β,ϵ,q)\n",
    "a,ā = positiveP(state,N)\n",
    "scatter(real(a),imag(a))"
   ]
  },
  {
   "cell_type": "code",
   "execution_count": null,
   "metadata": {
    "nbpresent": {
     "id": "6ae6dc94-fe96-4fad-99e1-ab84ec5be5fb"
    }
   },
   "outputs": [],
   "source": [
    "mean(a.*ā),sinh(abs(ϵ)).^2+abs2(β)"
   ]
  },
  {
   "cell_type": "code",
   "execution_count": null,
   "metadata": {},
   "outputs": [],
   "source": []
  }
 ],
 "metadata": {
  "@webio": {
   "lastCommId": null,
   "lastKernelId": null
  },
  "kernelspec": {
   "display_name": "Julia 1.1.0",
   "language": "julia",
   "name": "julia-1.1"
  },
  "language_info": {
   "file_extension": ".jl",
   "mimetype": "application/julia",
   "name": "julia",
   "version": "1.1.0"
  },
  "nbpresent": {
   "slides": {
    "01486085-dfdd-4ce1-a7fa-a4cd06b86d90": {
     "id": "01486085-dfdd-4ce1-a7fa-a4cd06b86d90",
     "prev": null,
     "regions": {
      "65b51181-10f0-4f84-87ca-2eb93164012c": {
       "attrs": {
        "height": 0.8,
        "width": 0.45,
        "x": 0.5,
        "y": 0.1
       },
       "id": "65b51181-10f0-4f84-87ca-2eb93164012c"
      },
      "de0f7922-3dcc-4ddd-8be0-9555f9010a5d": {
       "attrs": {
        "height": 0.8,
        "width": 0.5327374344827587,
        "x": -0.26448275862068965,
        "y": 0.18827586206896552
       },
       "id": "de0f7922-3dcc-4ddd-8be0-9555f9010a5d"
      }
     }
    },
    "7978c8e0-736b-44da-88c2-8a1e68d4eaca": {
     "id": "7978c8e0-736b-44da-88c2-8a1e68d4eaca",
     "prev": "01486085-dfdd-4ce1-a7fa-a4cd06b86d90",
     "regions": {
      "35d893f6-1642-4586-88f4-7baaba2e38ea": {
       "attrs": {
        "height": 0.8,
        "width": 0.45,
        "x": 0.5,
        "y": 0.1
       },
       "id": "35d893f6-1642-4586-88f4-7baaba2e38ea"
      },
      "fb90e88a-092e-456b-aef7-e51a8382dc78": {
       "attrs": {
        "height": 0.8,
        "width": 0.45,
        "x": 0.05,
        "y": 0.1
       },
       "id": "fb90e88a-092e-456b-aef7-e51a8382dc78"
      }
     }
    }
   },
   "themes": {}
  }
 },
 "nbformat": 4,
 "nbformat_minor": 2
}
