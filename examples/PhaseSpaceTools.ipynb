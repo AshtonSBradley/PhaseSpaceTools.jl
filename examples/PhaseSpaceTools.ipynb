{
 "cells": [
  {
   "cell_type": "markdown",
   "metadata": {},
   "source": [
    "Sampling single mode initial states using methods presented in the article\n",
    "- [Olsen, Bradley, Opt. Comm. 282 (2009) 3924-3929](https://doi.org/10.1016/j.optcom.2009.06.033); errata [Olsen, Lewis-Swan, Bradley, Opt. Comm. 370 (2016) 327-328](https://doi.org/10.1016/j.optcom.2016.02.068)\n",
    "\n",
    "We also sample some new distributions:\n",
    "- fock state for +W\n",
    "- thermal state for +P"
   ]
  },
  {
   "cell_type": "code",
   "execution_count": 1,
   "metadata": {},
   "outputs": [
    {
     "name": "stderr",
     "output_type": "stream",
     "text": [
      "┌ Info: Recompiling stale cache file /Users/abradley/.julia/compiled/v1.0/PhaseSpaceTools/hvSNh.ji for PhaseSpaceTools [0e21426a-da0a-11e8-1f13-43a2532b2fa8]\n",
      "└ @ Base loading.jl:1190\n",
      "┌ Info: Recompiling stale cache file /Users/abradley/.julia/compiled/v1.0/PyPlot/oatAj.ji for PyPlot [d330b81b-6aea-500a-939a-2ce795aea3ee]\n",
      "└ @ Base loading.jl:1190\n"
     ]
    }
   ],
   "source": [
    "using PhaseSpaceTools, PyPlot, Revise"
   ]
  },
  {
   "cell_type": "code",
   "execution_count": 2,
   "metadata": {},
   "outputs": [
    {
     "name": "stdout",
     "output_type": "stream",
     "text": [
      "search: \u001b[0m\u001b[1mc\u001b[22m\u001b[0m\u001b[1mo\u001b[22m\u001b[0m\u001b[1mh\u001b[22m\u001b[0m\u001b[1me\u001b[22m\u001b[0m\u001b[1mr\u001b[22m\u001b[0m\u001b[1me\u001b[22m\u001b[0m\u001b[1mn\u001b[22m\u001b[0m\u001b[1mt\u001b[22m \u001b[0m\u001b[1mc\u001b[22m\u001b[0m\u001b[1mo\u001b[22m\u001b[0m\u001b[1mh\u001b[22m\u001b[0m\u001b[1me\u001b[22m\u001b[0m\u001b[1mr\u001b[22m\u001b[0m\u001b[1me\u001b[22m\n",
      "\n"
     ]
    },
    {
     "data": {
      "text/latex": [
       "\\begin{verbatim}\n",
       "a,ā = coherent(β,N;dist=:posP)\n",
       "\\end{verbatim}\n",
       "Sample the phase-space distribution for a coherent state.\n",
       "\n",
       "\\texttt{β}: coherent (complex) amplitude.\n",
       "\n",
       "\\texttt{N}: number of samples.\n",
       "\n",
       "\\texttt{dist}: phase-space distribution, either \\texttt{:W} or \\texttt{:posP}.\n",
       "\n",
       "For a coherent state in +P, the distribution is just a point on the complex plane at the position of the coherent amplitude.\n",
       "\n",
       "For standard \\texttt{P,Q,W} distributions, \\texttt{a} and \\texttt{ā} are complex conjugate, while for \\texttt{+P} etc, \\texttt{a} and \\texttt{ā} are independent variables.\n",
       "\n"
      ],
      "text/markdown": [
       "```\n",
       "a,ā = coherent(β,N;dist=:posP)\n",
       "```\n",
       "\n",
       "Sample the phase-space distribution for a coherent state.\n",
       "\n",
       "`β`: coherent (complex) amplitude.\n",
       "\n",
       "`N`: number of samples.\n",
       "\n",
       "`dist`: phase-space distribution, either `:W` or `:posP`.\n",
       "\n",
       "For a coherent state in +P, the distribution is just a point on the complex plane at the position of the coherent amplitude.\n",
       "\n",
       "For standard `P,Q,W` distributions, `a` and `ā` are complex conjugate, while for `+P` etc, `a` and `ā` are independent variables.\n"
      ],
      "text/plain": [
       "\u001b[36m  a,ā = coherent(β,N;dist=:posP)\u001b[39m\n",
       "\n",
       "  Sample the phase-space distribution for a coherent state.\n",
       "\n",
       "  \u001b[36mβ\u001b[39m: coherent (complex) amplitude.\n",
       "\n",
       "  \u001b[36mN\u001b[39m: number of samples.\n",
       "\n",
       "  \u001b[36mdist\u001b[39m: phase-space distribution, either \u001b[36m:W\u001b[39m or \u001b[36m:posP\u001b[39m.\n",
       "\n",
       "  For a coherent state in +P, the distribution is just a point on the complex\n",
       "  plane at the position of the coherent amplitude.\n",
       "\n",
       "  For standard \u001b[36mP,Q,W\u001b[39m distributions, \u001b[36ma\u001b[39m and \u001b[36mā\u001b[39m are complex conjugate, while for\n",
       "  \u001b[36m+P\u001b[39m etc, \u001b[36ma\u001b[39m and \u001b[36mā\u001b[39m are independent variables."
      ]
     },
     "execution_count": 2,
     "metadata": {},
     "output_type": "execute_result"
    }
   ],
   "source": [
    "?coherent"
   ]
  },
  {
   "cell_type": "code",
   "execution_count": 3,
   "metadata": {},
   "outputs": [
    {
     "data": {
      "image/png": "[encoded data removed]",
      "text/plain": [
       "Figure(PyObject <Figure size 200x200 with 1 Axes>)"
      ]
     },
     "metadata": {},
     "output_type": "display_data"
    },
    {
     "name": "stdout",
     "output_type": "stream",
     "text": [
      "99.81257186666916 + 0.0im\n",
      "9.989794816793985 + 0.018327181599518405im\n"
     ]
    }
   ],
   "source": [
    "b=10\n",
    "N=1000\n",
    "a,ā = coherent(b,N,dist=:W)\n",
    "figure(figsize=(2,2))\n",
    "scatter(real(a),imag(a),s=1,c=\"blue\")\n",
    "axis(\"square\")\n",
    "axis([-20,20,-20,20]);\n",
    "println(mean(a.*ā)-.5)\n",
    "println(mean(a))"
   ]
  },
  {
   "cell_type": "code",
   "execution_count": 4,
   "metadata": {},
   "outputs": [
    {
     "name": "stdout",
     "output_type": "stream",
     "text": [
      "search: \u001b[0m\u001b[1mt\u001b[22m\u001b[0m\u001b[1mh\u001b[22m\u001b[0m\u001b[1me\u001b[22m\u001b[0m\u001b[1mr\u001b[22m\u001b[0m\u001b[1mm\u001b[22m\u001b[0m\u001b[1ma\u001b[22m\u001b[0m\u001b[1ml\u001b[22m Noncen\u001b[0m\u001b[1mt\u001b[22mral\u001b[0m\u001b[1mH\u001b[22myp\u001b[0m\u001b[1me\u001b[22m\u001b[0m\u001b[1mr\u001b[22mgeo\u001b[0m\u001b[1mm\u001b[22metric FisherNoncen\u001b[0m\u001b[1mt\u001b[22mral\u001b[0m\u001b[1mH\u001b[22myp\u001b[0m\u001b[1me\u001b[22m\u001b[0m\u001b[1mr\u001b[22mgeo\u001b[0m\u001b[1mm\u001b[22metric\n",
      "\n"
     ]
    },
    {
     "data": {
      "text/latex": [
       "\\begin{verbatim}\n",
       "a,ā = thermal(β,n̄,N;dist=:P)\n",
       "\\end{verbatim}\n",
       "Sample the phase-space distribution for a thermal state.\n",
       "\n",
       "\\texttt{β}: coherent (complex) displacement.\n",
       "\n",
       "\\texttt{n̄}: thermal average population.\n",
       "\n",
       "\\texttt{N}: number of samples.\n",
       "\n",
       "\\texttt{dist}: phase-space distribution. Can be \\texttt{:P}, \\texttt{:Q} or \\texttt{:W}.\n",
       "\n",
       "For standard \\texttt{P,Q,W} distributions, \\texttt{a} and \\texttt{ā} are complex conjugate, while for \\texttt{+P} etc, \\texttt{a} and \\texttt{ā} are independent variables.\n",
       "\n"
      ],
      "text/markdown": [
       "```\n",
       "a,ā = thermal(β,n̄,N;dist=:P)\n",
       "```\n",
       "\n",
       "Sample the phase-space distribution for a thermal state.\n",
       "\n",
       "`β`: coherent (complex) displacement.\n",
       "\n",
       "`n̄`: thermal average population.\n",
       "\n",
       "`N`: number of samples.\n",
       "\n",
       "`dist`: phase-space distribution. Can be `:P`, `:Q` or `:W`.\n",
       "\n",
       "For standard `P,Q,W` distributions, `a` and `ā` are complex conjugate, while for `+P` etc, `a` and `ā` are independent variables.\n"
      ],
      "text/plain": [
       "\u001b[36m  a,ā = thermal(β,n̄,N;dist=:P)\u001b[39m\n",
       "\n",
       "  Sample the phase-space distribution for a thermal state.\n",
       "\n",
       "  \u001b[36mβ\u001b[39m: coherent (complex) displacement.\n",
       "\n",
       "  \u001b[36mn̄\u001b[39m: thermal average population.\n",
       "\n",
       "  \u001b[36mN\u001b[39m: number of samples.\n",
       "\n",
       "  \u001b[36mdist\u001b[39m: phase-space distribution. Can be \u001b[36m:P\u001b[39m, \u001b[36m:Q\u001b[39m or \u001b[36m:W\u001b[39m.\n",
       "\n",
       "  For standard \u001b[36mP,Q,W\u001b[39m distributions, \u001b[36ma\u001b[39m and \u001b[36mā\u001b[39m are complex conjugate, while for\n",
       "  \u001b[36m+P\u001b[39m etc, \u001b[36ma\u001b[39m and \u001b[36mā\u001b[39m are independent variables."
      ]
     },
     "execution_count": 4,
     "metadata": {},
     "output_type": "execute_result"
    }
   ],
   "source": [
    "?thermal"
   ]
  },
  {
   "cell_type": "code",
   "execution_count": 5,
   "metadata": {},
   "outputs": [
    {
     "data": {
      "image/png": "[encoded data removed]",
      "text/plain": [
       "Figure(PyObject <Figure size 200x200 with 1 Axes>)"
      ]
     },
     "metadata": {},
     "output_type": "display_data"
    },
    {
     "data": {
      "text/plain": [
       "9.856339727168338 + 0.0im"
      ]
     },
     "execution_count": 5,
     "metadata": {},
     "output_type": "execute_result"
    }
   ],
   "source": [
    "a,ā = thermal(0,10,5000;dist=:P)\n",
    "figure(figsize=(2,2))\n",
    "scatter(real(a),imag(a),s=1,c=\"blue\")\n",
    "axis(\"square\")\n",
    "axis([-20,20,-20,20]);\n",
    "mean(a.*ā)"
   ]
  },
  {
   "cell_type": "code",
   "execution_count": 6,
   "metadata": {},
   "outputs": [
    {
     "data": {
      "image/png": "[encoded data removed]",
      "text/plain": [
       "Figure(PyObject <Figure size 200x200 with 1 Axes>)"
      ]
     },
     "metadata": {},
     "output_type": "display_data"
    },
    {
     "data": {
      "text/plain": [
       "10.00398711625217 + 0.0im"
      ]
     },
     "execution_count": 6,
     "metadata": {},
     "output_type": "execute_result"
    }
   ],
   "source": [
    "a,ā = thermal(0,10,5000;dist=:W)\n",
    "figure(figsize=(2,2))\n",
    "scatter(real(a),imag(ā),s=1,c=\"blue\")\n",
    "axis(\"square\")\n",
    "axis([-20,20,-20,20]);\n",
    "mean(a.*ā)-.5"
   ]
  },
  {
   "cell_type": "code",
   "execution_count": 7,
   "metadata": {},
   "outputs": [
    {
     "name": "stdout",
     "output_type": "stream",
     "text": [
      "search: \u001b[0m\u001b[1ms\u001b[22m\u001b[0m\u001b[1mq\u001b[22m\u001b[0m\u001b[1mu\u001b[22m\u001b[0m\u001b[1me\u001b[22m\u001b[0m\u001b[1me\u001b[22m\u001b[0m\u001b[1mz\u001b[22m\u001b[0m\u001b[1me\u001b[22m\u001b[0m\u001b[1md\u001b[22m\n",
      "\n"
     ]
    },
    {
     "data": {
      "text/latex": [
       "\\begin{verbatim}\n",
       "a,ā = squeezed(β,ϵ,N;dist=:posP)\n",
       "\\end{verbatim}\n",
       "Sample the phase-space distribution for a squeezed state.\n",
       "\n",
       "\\texttt{β}: coherent (complex) amplitude.\n",
       "\n",
       "\\texttt{ϵ}: complex valued squeezing parameter.\n",
       "\n",
       "\\texttt{N}: number of samples.\n",
       "\n",
       "\\texttt{dist}: phase-space distribution; can be \\texttt{:W} or \\texttt{:posP}.\n",
       "\n",
       "For standard \\texttt{P,Q,W} distributions, \\texttt{a} and \\texttt{ā} are complex conjugate, while for \\texttt{+P} etc, \\texttt{a} and \\texttt{ā} are independent variables.\n",
       "\n"
      ],
      "text/markdown": [
       "```\n",
       "a,ā = squeezed(β,ϵ,N;dist=:posP)\n",
       "```\n",
       "\n",
       "Sample the phase-space distribution for a squeezed state.\n",
       "\n",
       "`β`: coherent (complex) amplitude.\n",
       "\n",
       "`ϵ`: complex valued squeezing parameter.\n",
       "\n",
       "`N`: number of samples.\n",
       "\n",
       "`dist`: phase-space distribution; can be `:W` or `:posP`.\n",
       "\n",
       "For standard `P,Q,W` distributions, `a` and `ā` are complex conjugate, while for `+P` etc, `a` and `ā` are independent variables.\n"
      ],
      "text/plain": [
       "\u001b[36m  a,ā = squeezed(β,ϵ,N;dist=:posP)\u001b[39m\n",
       "\n",
       "  Sample the phase-space distribution for a squeezed state.\n",
       "\n",
       "  \u001b[36mβ\u001b[39m: coherent (complex) amplitude.\n",
       "\n",
       "  \u001b[36mϵ\u001b[39m: complex valued squeezing parameter.\n",
       "\n",
       "  \u001b[36mN\u001b[39m: number of samples.\n",
       "\n",
       "  \u001b[36mdist\u001b[39m: phase-space distribution; can be \u001b[36m:W\u001b[39m or \u001b[36m:posP\u001b[39m.\n",
       "\n",
       "  For standard \u001b[36mP,Q,W\u001b[39m distributions, \u001b[36ma\u001b[39m and \u001b[36mā\u001b[39m are complex conjugate, while for\n",
       "  \u001b[36m+P\u001b[39m etc, \u001b[36ma\u001b[39m and \u001b[36mā\u001b[39m are independent variables."
      ]
     },
     "execution_count": 7,
     "metadata": {},
     "output_type": "execute_result"
    }
   ],
   "source": [
    "?squeezed"
   ]
  },
  {
   "cell_type": "code",
   "execution_count": 8,
   "metadata": {},
   "outputs": [
    {
     "data": {
      "image/png": "[encoded data removed]",
      "text/plain": [
       "Figure(PyObject <Figure size 200x200 with 1 Axes>)"
      ]
     },
     "metadata": {},
     "output_type": "display_data"
    },
    {
     "name": "stdout",
     "output_type": "stream",
     "text": [
      "104.48782273911925 + 0.0im\n",
      "104.53383099788888\n"
     ]
    }
   ],
   "source": [
    "β = 10\n",
    "ϕ = π/16\n",
    "r = 1.5\n",
    "ϵ = r*exp(2*im*ϕ)\n",
    "N = 10000\n",
    "a,ā = squeezed(β,ϵ,N,dist=:W)\n",
    "figure(figsize=(2,2))\n",
    "scatter(real(a),imag(ā),s=1,c=\"blue\")\n",
    "axis(\"square\")\n",
    "axis([-20,20,-20,20]);\n",
    "println(mean(a.*ā)-.5)\n",
    "println(sinh(abs(ϵ)).^2 + abs2(β))"
   ]
  },
  {
   "cell_type": "code",
   "execution_count": 9,
   "metadata": {},
   "outputs": [
    {
     "data": {
      "image/png": "[encoded data removed]",
      "text/plain": [
       "Figure(PyObject <Figure size 200x200 with 1 Axes>)"
      ]
     },
     "metadata": {},
     "output_type": "display_data"
    },
    {
     "name": "stdout",
     "output_type": "stream",
     "text": [
      "113.3409971035603\n",
      "113.15411641800824\n"
     ]
    }
   ],
   "source": [
    "β = 10\n",
    "ϕ = π/16\n",
    "r = 2\n",
    "ϵ = r*exp(2*im*ϕ)\n",
    "N = 10000\n",
    "a,ā = squeezed(β,ϵ,N;dist=:posP)\n",
    "figure(figsize=(2,2))\n",
    "scatter(real(a),imag(a),s=1,c=\"blue\")\n",
    "axis(\"square\")\n",
    "axis([-20,20,-20,20]);\n",
    "println(real(mean(a.*ā)))\n",
    "println(sinh(abs(ϵ)).^2+abs2(β))"
   ]
  },
  {
   "cell_type": "code",
   "execution_count": 10,
   "metadata": {},
   "outputs": [
    {
     "name": "stdout",
     "output_type": "stream",
     "text": [
      "search: \u001b[0m\u001b[1mf\u001b[22m\u001b[0m\u001b[1mo\u001b[22m\u001b[0m\u001b[1mc\u001b[22m\u001b[0m\u001b[1mk\u001b[22m \u001b[0m\u001b[1mf\u001b[22m\u001b[0m\u001b[1mo\u001b[22mrea\u001b[0m\u001b[1mc\u001b[22mh Uni\u001b[0m\u001b[1mf\u001b[22m\u001b[0m\u001b[1mo\u001b[22mrmS\u001b[0m\u001b[1mc\u001b[22maling \u001b[0m\u001b[1mF\u001b[22misherN\u001b[0m\u001b[1mo\u001b[22mn\u001b[0m\u001b[1mc\u001b[22mentralHypergeometric\n",
      "\n"
     ]
    },
    {
     "data": {
      "text/latex": [
       "\\begin{verbatim}\n",
       "a,ā = fock(n,N;dist=:posP)\n",
       "\\end{verbatim}\n",
       "Sample the phase-space distribution for a Fock state.\n",
       "\n",
       "\\texttt{n}: number of the fock state |n⟩.\n",
       "\n",
       "\\texttt{N}: number of samples.\n",
       "\n",
       "\\texttt{dist}: phase-space distribution can be either \\texttt{:W}, \\texttt{:posW}, or \\texttt{:posP}.\n",
       "\n",
       "For standard \\texttt{P,Q,W} distributions, \\texttt{a} and \\texttt{ā} are complex conjugate, while for \\texttt{+P} etc, \\texttt{a} and \\texttt{ā} are independent variables.\n",
       "\n",
       "\\subsection{Wigner representation}\n",
       "\\begin{itemize}\n",
       "\\item The standard \\texttt{W} is sampled using an approximation that reproduces operator averages accuratley for large \\texttt{n}, but neglects some quantum correlations.\n",
       "\n",
       "\n",
       "\\item The \\texttt{+W} sampling is carried out in a doubled phase space, where the distribution is positive semi-definite, and hence may be sampled exactly for any \\texttt{n}.\n",
       "\n",
       "\n",
       "\\item Fast evaluation is achieved for large \\texttt{n (>320)} using an accurate asymptotic expansion .\n",
       "\n",
       "\\end{itemize}\n",
       "\\section{External links}\n",
       "\\_\\_\\_Numerical representation of quantum states in the positive-P and Wigner representations\\_\\_\\_, M. K. Olsen, A. S. Bradley, \\href{http://dx.doi.org/10.1016/j.optcom.2009.06.033}{Optics Communications 282, 3924 (2009)}\n",
       "\n"
      ],
      "text/markdown": [
       "```\n",
       "a,ā = fock(n,N;dist=:posP)\n",
       "```\n",
       "\n",
       "Sample the phase-space distribution for a Fock state.\n",
       "\n",
       "`n`: number of the fock state |n⟩.\n",
       "\n",
       "`N`: number of samples.\n",
       "\n",
       "`dist`: phase-space distribution can be either `:W`, `:posW`, or `:posP`.\n",
       "\n",
       "For standard `P,Q,W` distributions, `a` and `ā` are complex conjugate, while for `+P` etc, `a` and `ā` are independent variables.\n",
       "\n",
       "## Wigner representation\n",
       "\n",
       "  * The standard `W` is sampled using an approximation that reproduces operator averages accuratley for large `n`, but neglects some quantum correlations.\n",
       "  * The `+W` sampling is carried out in a doubled phase space, where the distribution is positive semi-definite, and hence may be sampled exactly for any `n`.\n",
       "  * Fast evaluation is achieved for large `n (>320)` using an accurate asymptotic expansion .\n",
       "\n",
       "# External links\n",
       "\n",
       "___Numerical representation of quantum states in the positive-P and Wigner representations___, M. K. Olsen, A. S. Bradley, [Optics Communications 282, 3924 (2009)](http://dx.doi.org/10.1016/j.optcom.2009.06.033)\n"
      ],
      "text/plain": [
       "\u001b[36m  a,ā = fock(n,N;dist=:posP)\u001b[39m\n",
       "\n",
       "  Sample the phase-space distribution for a Fock state.\n",
       "\n",
       "  \u001b[36mn\u001b[39m: number of the fock state |n⟩.\n",
       "\n",
       "  \u001b[36mN\u001b[39m: number of samples.\n",
       "\n",
       "  \u001b[36mdist\u001b[39m: phase-space distribution can be either \u001b[36m:W\u001b[39m, \u001b[36m:posW\u001b[39m, or \u001b[36m:posP\u001b[39m.\n",
       "\n",
       "  For standard \u001b[36mP,Q,W\u001b[39m distributions, \u001b[36ma\u001b[39m and \u001b[36mā\u001b[39m are complex conjugate, while for\n",
       "  \u001b[36m+P\u001b[39m etc, \u001b[36ma\u001b[39m and \u001b[36mā\u001b[39m are independent variables.\n",
       "\n",
       "\u001b[1m  Wigner representation\u001b[22m\n",
       "\u001b[1m  =======================\u001b[22m\n",
       "\n",
       "    •    The standard \u001b[36mW\u001b[39m is sampled using an approximation that reproduces\n",
       "        operator averages accuratley for large \u001b[36mn\u001b[39m, but neglects some\n",
       "        quantum correlations.\n",
       "\n",
       "    •    The \u001b[36m+W\u001b[39m sampling is carried out in a doubled phase space, where the\n",
       "        distribution is positive semi-definite, and hence may be sampled\n",
       "        exactly for any \u001b[36mn\u001b[39m.\n",
       "\n",
       "    •    Fast evaluation is achieved for large \u001b[36mn (>320)\u001b[39m using an accurate\n",
       "        asymptotic expansion .\n",
       "\n",
       "\u001b[1m  External links\u001b[22m\n",
       "\u001b[1m  ≡≡≡≡≡≡≡≡≡≡≡≡≡≡≡≡\u001b[22m\n",
       "\n",
       "  ___Numerical representation of quantum states in the positive-P and Wigner\n",
       "  representations___, M. K. Olsen, A. S. Bradley, Optics Communications 282,\n",
       "  3924 (2009) (http://dx.doi.org/10.1016/j.optcom.2009.06.033)"
      ]
     },
     "execution_count": 10,
     "metadata": {},
     "output_type": "execute_result"
    }
   ],
   "source": [
    "?fock"
   ]
  },
  {
   "cell_type": "code",
   "execution_count": 11,
   "metadata": {},
   "outputs": [
    {
     "data": {
      "image/png": "[encoded data removed]",
      "text/plain": [
       "Figure(PyObject <Figure size 200x200 with 1 Axes>)"
      ]
     },
     "metadata": {},
     "output_type": "display_data"
    },
    {
     "name": "stdout",
     "output_type": "stream",
     "text": [
      " \n",
      "n = 100 Fock state.\n",
      "N = 1000000 samples.\n",
      " \n",
      "averages\n",
      "<â> = 0.005092523598376918 - 0.0006703092819669405im\n",
      "<â⁺â> = 99.99940983104202\n",
      "V(n̂) = 0.00031198472424875945\n",
      "rel. num. var. = 0.0001766319356049045\n"
     ]
    }
   ],
   "source": [
    "n = 100\n",
    "N = 1000000\n",
    "a,ā = fock(n,N;dist=:W)\n",
    "\n",
    "figure(figsize=(2,2))\n",
    "scatter(real(a),imag(a),s=.5,c=\"blue\")\n",
    "axis(\"square\")\n",
    "axis([-sqrt(3n),sqrt(3n),-sqrt(3n),sqrt(3n)])\n",
    "n̄ = mean(abs2.(a))-.5\n",
    "Vn= mean(abs2.(a).^2)-mean(abs2.(a))-n̄.^2\n",
    "println(\" \")\n",
    "println(\"n = $n Fock state.\")\n",
    "println(\"N = $N samples.\")\n",
    "println(\" \")\n",
    "println(\"averages\")\n",
    "println(\"<â> = \", mean(a))\n",
    "println(\"<â⁺â> = \",n̄)\n",
    "println(\"V(n̂) = \",Vn)\n",
    "println(\"rel. num. var. = \",sqrt(abs(Vn))/abs(n̄))"
   ]
  },
  {
   "cell_type": "code",
   "execution_count": 16,
   "metadata": {},
   "outputs": [
    {
     "name": "stdout",
     "output_type": "stream",
     "text": [
      "  0.132336 seconds (1.67 M allocations: 132.353 MiB, 20.19% gc time)\n"
     ]
    },
    {
     "data": {
      "image/png": "[encoded data removed]",
      "text/plain": [
       "Figure(PyObject <Figure size 200x200 with 1 Axes>)"
      ]
     },
     "metadata": {},
     "output_type": "display_data"
    },
    {
     "name": "stdout",
     "output_type": "stream",
     "text": [
      " \n",
      "n = 100 Fock state.\n",
      "N = 1000000 samples.\n",
      " \n",
      "averages\n",
      "<â> = -0.006931161879807054 + 0.00022609772912093285im\n",
      "<â⁺â> = 99.9800492049146 + 0.02372530526076026im\n",
      "V(n̂) = -0.23257427913631545 + 0.6259050618081465im\n",
      "rel. num. var. = 0.008173034518084378\n"
     ]
    }
   ],
   "source": [
    "n = 100\n",
    "N = 1000000\n",
    "@time a,ā = fock(n,N,dist=:posP)\n",
    "figure(figsize=(2,2))\n",
    "scatter(real(a),imag(a),s=.5,c=\"blue\")\n",
    "axis(\"square\")\n",
    "axis([-sqrt(2n),sqrt(2n),-sqrt(2n),sqrt(2n)])\n",
    "n̄ = mean(ā.*a)\n",
    "Vn= mean(ā.^2 .* a.^2)+mean(ā.*a)-n̄.^2\n",
    "println(\" \")\n",
    "println(\"n = $n Fock state.\")\n",
    "println(\"N = $N samples.\")\n",
    "println(\" \")\n",
    "println(\"averages\")\n",
    "println(\"<â> = \", mean(a))\n",
    "println(\"<â⁺â> = \",n̄)\n",
    "println(\"V(n̂) = \",Vn)\n",
    "println(\"rel. num. var. = \",sqrt(abs(Vn))/abs(n̄))"
   ]
  },
  {
   "cell_type": "code",
   "execution_count": 17,
   "metadata": {},
   "outputs": [
    {
     "name": "stdout",
     "output_type": "stream",
     "text": [
      "  4.296321 seconds (103.34 k allocations: 109.760 MiB, 1.48% gc time)\n"
     ]
    },
    {
     "data": {
      "image/png": "[encoded data removed]",
      "text/plain": [
       "Figure(PyObject <Figure size 200x200 with 1 Axes>)"
      ]
     },
     "metadata": {},
     "output_type": "display_data"
    },
    {
     "name": "stdout",
     "output_type": "stream",
     "text": [
      " \n",
      "n = 100 Fock state.\n",
      "N = 1000000 samples.\n",
      " \n",
      "averages\n",
      "<â> = 0.005051191443288421 - 0.004119541019226464im\n",
      "<â⁺â> = 99.9920651860356 + 0.014622466098780753im\n",
      "V(n̂) = -0.381637216445597 + 0.5133836166572849im\n",
      "rel. num. var. = 0.007998728169416703\n"
     ]
    }
   ],
   "source": [
    "n = 100\n",
    "N = 1000000\n",
    "@time a,ā = fock(n,N,dist=:posW)\n",
    "\n",
    "figure(figsize=(2,2))\n",
    "scatter(real(a),imag(a),s=.5,c=\"blue\")\n",
    "axis(\"square\")\n",
    "axis([-sqrt(3n),sqrt(3n),-sqrt(3n),sqrt(3n)])\n",
    "n̄ = mean(ā.*a)-.5\n",
    "Vn= mean(ā.^2 .* a.^2)-mean(ā.*a)-n̄.^2\n",
    "println(\" \")\n",
    "println(\"n = $n Fock state.\")\n",
    "println(\"N = $N samples.\")\n",
    "println(\" \")\n",
    "println(\"averages\")\n",
    "println(\"<â> = \", mean(a))\n",
    "println(\"<â⁺â> = \",n̄)\n",
    "println(\"V(n̂) = \",Vn)\n",
    "println(\"rel. num. var. = \",sqrt(abs(Vn))/abs(n̄))"
   ]
  },
  {
   "cell_type": "code",
   "execution_count": 18,
   "metadata": {},
   "outputs": [
    {
     "data": {
      "image/png": "[encoded data removed]",
      "text/plain": [
       "Figure(PyObject <Figure size 200x200 with 1 Axes>)"
      ]
     },
     "metadata": {},
     "output_type": "display_data"
    },
    {
     "name": "stdout",
     "output_type": "stream",
     "text": [
      "  0.001836 seconds (1.05 k allocations: 1.259 MiB)\n",
      " \n",
      "n = 321 Fock state.\n",
      "N = 10000 samples.\n",
      " \n",
      "averages\n",
      "<â> = 0.05932730120568531 - 0.014274938683649754im\n",
      "<â⁺â> = 321.39586760420946 + 0.18939751358558946im\n",
      "V(n̂) = 1.3151227222260786 + 1.9563741452678158im\n",
      "rel. num. var. =0.00477714816126637\n"
     ]
    }
   ],
   "source": [
    "#for n>320 uses asymptotic expansion\n",
    "n=321\n",
    "N=10000\n",
    "@time a,ā = fock(n,N,dist=:posW)\n",
    "figure(figsize=(2,2))\n",
    "scatter(real(a),imag(a),s=.5,c=\"blue\")\n",
    "axis(\"square\")\n",
    "axis([-sqrt(2n),sqrt(2n),-sqrt(2n),sqrt(2n)])\n",
    "n̄ = mean(ā.*a)-.5\n",
    "Vn= mean(ā.^2 .* a.^2)-mean(ā.*a)-n̄.^2\n",
    "println(\" \")\n",
    "println(\"n = $n Fock state.\")\n",
    "println(\"N = $N samples.\")\n",
    "println(\" \")\n",
    "println(\"averages\")\n",
    "println(\"<â> = \", mean(a))\n",
    "println(\"<â⁺â> = \",n̄)\n",
    "println(\"V(n̂) = \",Vn)\n",
    "println(\"rel. num. var. =\",sqrt(abs(Vn))/abs(n̄))"
   ]
  },
  {
   "cell_type": "code",
   "execution_count": 19,
   "metadata": {},
   "outputs": [
    {
     "data": {
      "image/png": "[encoded data removed]",
      "text/plain": [
       "Figure(PyObject <Figure size 200x200 with 1 Axes>)"
      ]
     },
     "metadata": {},
     "output_type": "display_data"
    },
    {
     "name": "stdout",
     "output_type": "stream",
     "text": [
      "  0.001888 seconds (1.10 k allocations: 1.260 MiB)\n",
      " \n",
      "n = 10000 Fock state.\n",
      "N = 10000 samples.\n",
      " \n",
      "averages\n",
      "<â> = -0.6423496252465395 - 0.5845683930738638im\n",
      "<â⁺â> = 9999.336475665586 - 1.5026003190820987im\n",
      "V(n̂) = 269.3660989254713 + 120.51262586293524im\n",
      "rel. num. var. =0.0017179485314355516\n"
     ]
    }
   ],
   "source": [
    "#push n and N\n",
    "n=10000\n",
    "N=10000\n",
    "@time a,ā = fock(n,N,dist=:posW)\n",
    "figure(figsize=(2,2))\n",
    "scatter(real(a),imag(a),s=.5,c=\"blue\")\n",
    "axis(\"square\")\n",
    "axis([-sqrt(2n),sqrt(2n),-sqrt(2n),sqrt(2n)])\n",
    "n̄ = mean(ā.*a)-.5\n",
    "Vn= mean(ā.^2 .* a.^2)-mean(ā.*a)-n̄.^2\n",
    "println(\" \")\n",
    "println(\"n = $n Fock state.\")\n",
    "println(\"N = $N samples.\")\n",
    "println(\" \")\n",
    "println(\"averages\")\n",
    "println(\"<â> = \", mean(a))\n",
    "println(\"<â⁺â> = \",n̄)\n",
    "println(\"V(n̂) = \",Vn)\n",
    "println(\"rel. num. var. =\",sqrt(abs(Vn))/abs(n̄))"
   ]
  },
  {
   "cell_type": "code",
   "execution_count": 20,
   "metadata": {},
   "outputs": [
    {
     "name": "stdout",
     "output_type": "stream",
     "text": [
      "search: \u001b[0m\u001b[1mc\u001b[22m\u001b[0m\u001b[1mr\u001b[22m\u001b[0m\u001b[1me\u001b[22m\u001b[0m\u001b[1ms\u001b[22m\u001b[0m\u001b[1mc\u001b[22m\u001b[0m\u001b[1me\u001b[22m\u001b[0m\u001b[1mn\u001b[22m\u001b[0m\u001b[1mt\u001b[22m \u001b[0m\u001b[1mC\u001b[22ma\u001b[0m\u001b[1mr\u001b[22mt\u001b[0m\u001b[1me\u001b[22m\u001b[0m\u001b[1ms\u001b[22mianIndi\u001b[0m\u001b[1mc\u001b[22m\u001b[0m\u001b[1me\u001b[22ms\n",
      "\n"
     ]
    },
    {
     "data": {
      "text/latex": [
       "\\begin{verbatim}\n",
       "a,ā = crescent(β,ϵ,q,N;dist=:posP)\n",
       "\\end{verbatim}\n",
       "Sample the phase-space distribution for a crescent state. First samples a squeezed state, then introduces a searing factor in phase-space in the form of a gaussian distributed random phase.\n",
       "\n",
       "\\texttt{β} is coherent (complex) amplitude.\n",
       "\n",
       "\\texttt{ϵ}: squeezing paramter.\n",
       "\n",
       "\\texttt{q}: shearing parameter.\n",
       "\n",
       "\\texttt{N}: number of samples.\n",
       "\n",
       "\\texttt{dist}: phase-space distribution. Can be \\texttt{:posP},\\texttt{:Q} or \\texttt{:W}.\n",
       "\n",
       "For standard \\texttt{P,Q,W} distributions, \\texttt{a} and \\texttt{ā} are complex conjugate, while for \\texttt{+P} etc, \\texttt{a} and \\texttt{ā} are independent variables.\n",
       "\n"
      ],
      "text/markdown": [
       "```\n",
       "a,ā = crescent(β,ϵ,q,N;dist=:posP)\n",
       "```\n",
       "\n",
       "Sample the phase-space distribution for a crescent state. First samples a squeezed state, then introduces a searing factor in phase-space in the form of a gaussian distributed random phase.\n",
       "\n",
       "`β` is coherent (complex) amplitude.\n",
       "\n",
       "`ϵ`: squeezing paramter.\n",
       "\n",
       "`q`: shearing parameter.\n",
       "\n",
       "`N`: number of samples.\n",
       "\n",
       "`dist`: phase-space distribution. Can be `:posP`,`:Q` or `:W`.\n",
       "\n",
       "For standard `P,Q,W` distributions, `a` and `ā` are complex conjugate, while for `+P` etc, `a` and `ā` are independent variables.\n"
      ],
      "text/plain": [
       "\u001b[36m  a,ā = crescent(β,ϵ,q,N;dist=:posP)\u001b[39m\n",
       "\n",
       "  Sample the phase-space distribution for a crescent state. First samples a\n",
       "  squeezed state, then introduces a searing factor in phase-space in the form\n",
       "  of a gaussian distributed random phase.\n",
       "\n",
       "  \u001b[36mβ\u001b[39m is coherent (complex) amplitude.\n",
       "\n",
       "  \u001b[36mϵ\u001b[39m: squeezing paramter.\n",
       "\n",
       "  \u001b[36mq\u001b[39m: shearing parameter.\n",
       "\n",
       "  \u001b[36mN\u001b[39m: number of samples.\n",
       "\n",
       "  \u001b[36mdist\u001b[39m: phase-space distribution. Can be \u001b[36m:posP\u001b[39m,\u001b[36m:Q\u001b[39m or \u001b[36m:W\u001b[39m.\n",
       "\n",
       "  For standard \u001b[36mP,Q,W\u001b[39m distributions, \u001b[36ma\u001b[39m and \u001b[36mā\u001b[39m are complex conjugate, while for\n",
       "  \u001b[36m+P\u001b[39m etc, \u001b[36ma\u001b[39m and \u001b[36mā\u001b[39m are independent variables."
      ]
     },
     "execution_count": 20,
     "metadata": {},
     "output_type": "execute_result"
    }
   ],
   "source": [
    "?crescent"
   ]
  },
  {
   "cell_type": "code",
   "execution_count": 21,
   "metadata": {},
   "outputs": [
    {
     "data": {
      "image/png": "[encoded data removed]",
      "text/plain": [
       "Figure(PyObject <Figure size 200x200 with 1 Axes>)"
      ]
     },
     "metadata": {},
     "output_type": "display_data"
    },
    {
     "name": "stdout",
     "output_type": "stream",
     "text": [
      "100.26557973371304 + 0.0im\n",
      "100.0\n"
     ]
    }
   ],
   "source": [
    "β = 10\n",
    "ϵ = 0\n",
    "q = .5\n",
    "N = 5000\n",
    "a,ā = crescent(β,ϵ,q,N;dist=:W)\n",
    "figure(figsize=(2,2))\n",
    "scatter(real(a),imag(a),s=1,c=\"blue\")\n",
    "axis(\"square\")\n",
    "axis([-20,20,-20,20]);\n",
    "println(mean(a.*ā)-.5)\n",
    "#not quite the right moments for crescent state, but a sanity check of sorts:\n",
    "println(sinh(abs(ϵ)).^2+abs2(β)) "
   ]
  },
  {
   "cell_type": "code",
   "execution_count": 22,
   "metadata": {},
   "outputs": [
    {
     "data": {
      "image/png": "[encoded data removed]",
      "text/plain": [
       "Figure(PyObject <Figure size 200x200 with 1 Axes>)"
      ]
     },
     "metadata": {},
     "output_type": "display_data"
    },
    {
     "name": "stdout",
     "output_type": "stream",
     "text": [
      "100.3275338388525 + 0.0im\n",
      "100.0\n"
     ]
    }
   ],
   "source": [
    "β = 10\n",
    "ϵ = 0\n",
    "q = .4\n",
    "N = 5000\n",
    "a,ā = crescent(β,ϵ,q,N;dist=:Q)\n",
    "figure(figsize=(2,2))\n",
    "scatter(real(a),imag(a),s=1,c=\"blue\")\n",
    "axis(\"square\")\n",
    "axis([-20,20,-20,20]);\n",
    "println(mean(a.*ā)-1)\n",
    "println(sinh(abs(ϵ)).^2+abs2(β)) #not quite the right moments for crescent state, but a check of sorts"
   ]
  },
  {
   "cell_type": "code",
   "execution_count": 23,
   "metadata": {
    "scrolled": true
   },
   "outputs": [
    {
     "data": {
      "image/png": "[encoded data removed]",
      "text/plain": [
       "Figure(PyObject <Figure size 200x200 with 1 Axes>)"
      ]
     },
     "metadata": {},
     "output_type": "display_data"
    },
    {
     "name": "stdout",
     "output_type": "stream",
     "text": [
      "100.12420046693906 - 0.18868048687463146im\n",
      "100.0\n"
     ]
    }
   ],
   "source": [
    "β = 10\n",
    "ϵ = 0\n",
    "q = .4\n",
    "N = 5000\n",
    "a,ā = crescent(β,ϵ,q,N;dist=:posP)\n",
    "figure(figsize=(2,2))\n",
    "scatter(real(a),imag(a),s=1,c=\"blue\")\n",
    "axis(\"square\")\n",
    "axis([-20,20,-20,20]);\n",
    "println(mean(a.*ā))\n",
    "println(sinh(abs(ϵ)).^2+abs2(β)) #not quite the right moments for crescent state, but a check of sorts"
   ]
  },
  {
   "cell_type": "code",
   "execution_count": 25,
   "metadata": {},
   "outputs": [
    {
     "name": "stdout",
     "output_type": "stream",
     "text": [
      " \n",
      "n = 10 Fock state.\n",
      "N = 10000 samples.\n",
      " \n",
      "Operator averages:\n",
      "<â> = 0.018246168093307813 + 0.003315554072715332im\n",
      "<â⁺â> = 9.994966548119043\n",
      "V(n̂) = -0.002025944925804879\n",
      "rel. num. var. = 0.004503316517808491\n"
     ]
    },
    {
     "ename": "LoadError",
     "evalue": "The syntax for ParameterizedFunctions has changed. Simply list the parameters at the end, i.e. `a b c d`, instead of `a=5.0 b=>3.0 ...`. Parameters are defined in the problem type. See the documentation for more information.",
     "output_type": "error",
     "traceback": [
      "The syntax for ParameterizedFunctions has changed. Simply list the parameters at the end, i.e. `a b c d`, instead of `a=5.0 b=>3.0 ...`. Parameters are defined in the problem type. See the documentation for more information.",
      "",
      "Stacktrace:",
      " [1] error(::String) at ./error.jl:33",
      " [2] #ode_def_opts#1(::Symbol, ::Function, ::Symbol, ::Dict{Symbol,Bool}, ::Expr, ::Expr, ::Vararg{Expr,N} where N) at /Users/abradley/.julia/packages/ParameterizedFunctions/ozDxQ/src/ode_def_opts.jl:8",
      " [3] ode_def_opts(::Symbol, ::Dict{Symbol,Bool}, ::Expr, ::Expr, ::Vararg{Expr,N} where N) at /Users/abradley/.julia/packages/ParameterizedFunctions/ozDxQ/src/ode_def_opts.jl:5",
      " [4] @ode_def_bare(::LineNumberNode, ::Module, ::Any, ::Any, ::Vararg{Any,N} where N) at /Users/abradley/.julia/packages/ParameterizedFunctions/ozDxQ/src/macros.jl:25"
     ]
    }
   ],
   "source": [
    "#=\n",
    "Test standard truncted Wigner as simple loop over separate calls to\n",
    "OrdinaryDiffEq\n",
    "=#\n",
    "\n",
    "using DifferentialEquations, PyPlot\n",
    "\n",
    "#using RandomNumbers.Xorshifts\n",
    "#r1 = Xorshift1024Star()\n",
    "\n",
    "#=\n",
    "This function from PhaseSpaceTools.jl (unregistered, my github) is the only one that could affect the initial condtion\n",
    "See dist=\"W\" (line 54), where ultimatelly it is just a call to rand() that ensures an indeterminate phase over [0,2π).\n",
    "I tried to using RandomNumbers.jl to see if this would improve rand() [might reveal if this is really the issue], but\n",
    "the result of dynamics is the same.\n",
    "=#\n",
    "\n",
    "using Revise, PhaseSpaceTools, PyPlot\n",
    "\n",
    "#lets do some checks for the fock state sampler\n",
    "n = 10\n",
    "N = 10000\n",
    "a,ā = fock(n,N;dist=:W)\n",
    "\n",
    "figure(figsize=(4,4))\n",
    "scatter(real(a),imag(a),s=.5,c=\"blue\")\n",
    "axis(\"square\")\n",
    "axis([-sqrt(3n),sqrt(3n),-sqrt(3n),sqrt(3n)])\n",
    "n̄ = mean(abs2.(a))-.5\n",
    "Vn= mean(abs2.(a).^2)-mean(abs2.(a))-n̄.^2\n",
    "println(\" \")\n",
    "println(\"n = $n Fock state.\")\n",
    "println(\"N = $N samples.\")\n",
    "println(\" \")\n",
    "println(\"Operator averages:\")\n",
    "println(\"<â> = \", mean(a))\n",
    "println(\"<â⁺â> = \",n̄)\n",
    "println(\"V(n̂) = \",Vn)\n",
    "println(\"rel. num. var. = \",sqrt(abs(Vn))/abs(n̄))\n",
    "\n",
    "#has right statistics for means and variances:\n",
    "#no mean field (first av.), mean number is n (second av.),\n",
    "#small number variance (3rd av.), and small relative number variance (4th av.)\n",
    "\n",
    "#now solve ode as simple loop (no noise in dynamics, so test of either ode dynamics or initial condition sampling)\n",
    "\n",
    "#ode\n",
    "f = @ode_def_bare Drift begin\n",
    "  dα₁ = -2*im*χ*abs2(α₁)*α₁ + im*J*α₂\n",
    "  dα₂ = -2*im*χ*abs2(α₂)*α₂ + im*J*α₁\n",
    "end χ, J \n",
    "\n",
    " p = [0.2 1.0]\n",
    "\n",
    "#time\n",
    "ti = 0.\n",
    "tf = 10.\n",
    "Nt = 100\n",
    "tspan = (ti,tf)\n",
    "t = collect(linspace(ti,tf,Nt))\n",
    "a0= complex(ones(Nt))\n",
    "\n",
    "\n",
    "function boser(Ntraj)\n",
    "Na = 10\n",
    "Nb = 0\n",
    "n1 = zeros(complex(Nt))\n",
    "n2 = zeros(complex(Nt))\n",
    "\n",
    "#just an honest loop\n",
    "for j=1:Ntraj\n",
    "    a,ā = fock(Na,1,dist=:W)\n",
    "    b,b̄ = fock(Nb,1,dist=:W)\n",
    "    prob = ODEProblem(f,[a[1];b[1]],tspan,p)\n",
    "\n",
    "    alg = DP5()\n",
    "    dt = 1/1000\n",
    "\n",
    "    sol = solve(prob,alg,reltol=1e-7,dt=dt,saveat=t)\n",
    "\n",
    "    α₁ = sol[1,:]\n",
    "    α₂ = sol[2,:]\n",
    "    n1 .+= abs2.(α₁)\n",
    "    n2 .+= abs2.(α₂)\n",
    "end\n",
    "\n",
    "n1/=Ntraj\n",
    "n2/=Ntraj\n",
    "n1+=-.5\n",
    "n2+=-.5\n",
    "return n1,n2\n",
    "end\n",
    "\n",
    "#compile\n",
    "_n1,_n2=boser(1)\n",
    "\n",
    "n1,n2=boser(5000)\n",
    "\n",
    "f1=figure(figsize=(4,4))\n",
    "plot(t,n1)\n",
    "plot(t,n2)\n",
    "xlim(ti,tf)\n",
    "\n",
    "#Now compare with exact evolution in number state basis\n",
    "using QuantumOptics\n",
    "\n",
    "χ=0.2\n",
    "J=1\n",
    "Nbasis = 40\n",
    "b1 = FockBasis(Nbasis)\n",
    "b2 = FockBasis(Nbasis)\n",
    "bas= b1⊗b2\n",
    "a = destroy(b1)\n",
    "a⁺ = create(b1)\n",
    "b = destroy(b2)\n",
    "b⁺= create(b2)\n",
    "Ia= identityoperator(b1)\n",
    "Ib= identityoperator(b2)\n",
    "\n",
    "H = χ*((a⁺*a⁺*a*a) ⊗ Ib + Ia ⊗ (b⁺*b⁺*b*b)) - J*(a⊗b⁺ + a⁺⊗b)\n",
    "\n",
    "ti = 0.0\n",
    "tf = 10.0\n",
    "Nt = 100\n",
    "t = collect(linspace(ti,tf,Nt))\n",
    "psi0 = fockstate(b1, 10) ⊗ fockstate(b2,0)\n",
    "tout, psit = timeevolution.schroedinger(t, psi0, H)\n",
    "\n",
    "na = number(b1);nb = number(b2)\n",
    "Na = real(expect(na⊗Ib,psit))\n",
    "Nb = real(expect(Ia⊗nb,psit))\n",
    "\n",
    "#figure(figsize=(5,4))\n",
    "#xlim(0, tf)\n",
    "#ylim(0,10)\n",
    "plot(t,Na,\"-.\")\n",
    "plot(t,Nb,\"-.\")\n",
    "#plot(t,n1,\"--\")\n",
    "#plot(t,n2,\"--\")\n",
    "xlabel(L\"t\")\n",
    "ylabel(L\"\\langle \\hat n \\rangle\")\n",
    "legend([L\"N_a (W)\",L\"N_b (W)\",L\"N_a\",L\"N_b\"],loc=\"lower right\");\n",
    "#savefig(\"compareExact_Wigner.pdf\")"
   ]
  },
  {
   "cell_type": "code",
   "execution_count": null,
   "metadata": {},
   "outputs": [],
   "source": []
  }
 ],
 "metadata": {
  "kernelspec": {
   "display_name": "Julia 1.0.2",
   "language": "julia",
   "name": "julia-1.0"
  },
  "language_info": {
   "file_extension": ".jl",
   "mimetype": "application/julia",
   "name": "julia",
   "version": "1.0.2"
  }
 },
 "nbformat": 4,
 "nbformat_minor": 2
}
