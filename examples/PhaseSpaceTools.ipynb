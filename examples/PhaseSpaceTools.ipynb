{
 "cells": [
  {
   "cell_type": "markdown",
   "metadata": {},
   "source": [
    "Sampling single mode initial states using methods presented in the article\n",
    "- [Olsen, Bradley, Opt. Comm. 282 (2009) 3924-3929](https://doi.org/10.1016/j.optcom.2009.06.033); errata [Olsen, Lewis-Swan, Bradley, Opt. Comm. 370 (2016) 327-328](https://doi.org/10.1016/j.optcom.2016.02.068)\n",
    "\n",
    "We also sample some new distributions:\n",
    "- fock state for +W\n",
    "- thermal state for +P"
   ]
  },
  {
   "cell_type": "code",
   "execution_count": 1,
   "metadata": {},
   "outputs": [],
   "source": [
    "using PhaseSpaceTools, PyPlot"
   ]
  },
  {
   "cell_type": "code",
   "execution_count": 3,
   "metadata": {},
   "outputs": [
    {
     "name": "stdout",
     "output_type": "stream",
     "text": [
      "search: \u001b[1mc\u001b[22m\u001b[1mo\u001b[22m\u001b[1mh\u001b[22m\u001b[1me\u001b[22m\u001b[1mr\u001b[22m\u001b[1me\u001b[22m\u001b[1mn\u001b[22m\u001b[1mt\u001b[22m \u001b[1mc\u001b[22m\u001b[1mo\u001b[22m\u001b[1mh\u001b[22m\u001b[1me\u001b[22m\u001b[1mr\u001b[22m\u001b[1me\u001b[22m\n",
      "\n"
     ]
    },
    {
     "data": {
      "text/markdown": [
       "```\n",
       "a,ā = coherent(β,N;dist=\"+P\")\n",
       "```\n",
       "\n",
       "Sample the phase-space distribution for a coherent state.\n",
       "\n",
       "`β`: coherent (complex) amplitude.\n",
       "\n",
       "`N`: number of samples.\n",
       "\n",
       "`dist`: phase-space distrubtion. Can be either `W` or `+P`.\n",
       "\n",
       "For a coherent state in +P, the distribution is just a point on the complex plane at the position of the coherent amplitude.\n",
       "\n",
       "For standard `P,Q,W` distributions, `a` and `ā` are complex conjugate, while for `+P` etc, `a` and `ā` are independent variables.\n"
      ],
      "text/plain": [
       "```\n",
       "a,ā = coherent(β,N;dist=\"+P\")\n",
       "```\n",
       "\n",
       "Sample the phase-space distribution for a coherent state.\n",
       "\n",
       "`β`: coherent (complex) amplitude.\n",
       "\n",
       "`N`: number of samples.\n",
       "\n",
       "`dist`: phase-space distrubtion. Can be either `W` or `+P`.\n",
       "\n",
       "For a coherent state in +P, the distribution is just a point on the complex plane at the position of the coherent amplitude.\n",
       "\n",
       "For standard `P,Q,W` distributions, `a` and `ā` are complex conjugate, while for `+P` etc, `a` and `ā` are independent variables.\n"
      ]
     },
     "execution_count": 3,
     "metadata": {},
     "output_type": "execute_result"
    }
   ],
   "source": [
    "?coherent"
   ]
  },
  {
   "cell_type": "code",
   "execution_count": 2,
   "metadata": {},
   "outputs": [
    {
     "data": {
      "image/png": "[encoded data removed]",
      "text/plain": [
       "PyPlot.Figure(PyObject <matplotlib.figure.Figure object at 0x1323edb10>)"
      ]
     },
     "metadata": {},
     "output_type": "display_data"
    },
    {
     "name": "stdout",
     "output_type": "stream",
     "text": [
      "100.06037365838272 + 0.0im\n",
      "10.002503730933222 + 0.013168596923652812im\n"
     ]
    }
   ],
   "source": [
    "b=10\n",
    "N=1000\n",
    "a,ā = coherent(b,N,dist=\"W\")\n",
    "figure(figsize=(2,2))\n",
    "scatter(real(a),imag(a),s=1,c=\"blue\")\n",
    "axis(\"square\")\n",
    "axis([-20,20,-20,20]);\n",
    "println(mean(a.*ā)-.5)\n",
    "println(mean(a))"
   ]
  },
  {
   "cell_type": "code",
   "execution_count": 5,
   "metadata": {},
   "outputs": [
    {
     "name": "stdout",
     "output_type": "stream",
     "text": [
      "search: \u001b[1mt\u001b[22m\u001b[1mh\u001b[22m\u001b[1me\u001b[22m\u001b[1mr\u001b[22m\u001b[1mm\u001b[22m\u001b[1ma\u001b[22m\u001b[1ml\u001b[22m\n",
      "\n"
     ]
    },
    {
     "data": {
      "text/markdown": [
       "```\n",
       "a,ā = thermal(β,n̄,N;dist=\"P\")\n",
       "```\n",
       "\n",
       "Sample the phase-space distribution for a thermal state.\n",
       "\n",
       "`β`: coherent (complex) displacement.\n",
       "\n",
       "`n̄`: thermal average population.\n",
       "\n",
       "`N`: number of samples.\n",
       "\n",
       "`dist`: phase-space distribution. Can be `P`, `Q` or `W`.\n",
       "\n",
       "For standard `P,Q,W` distributions, `a` and `ā` are complex conjugate, while for `+P` etc, `a` and `ā` are independent variables.\n"
      ],
      "text/plain": [
       "```\n",
       "a,ā = thermal(β,n̄,N;dist=\"P\")\n",
       "```\n",
       "\n",
       "Sample the phase-space distribution for a thermal state.\n",
       "\n",
       "`β`: coherent (complex) displacement.\n",
       "\n",
       "`n̄`: thermal average population.\n",
       "\n",
       "`N`: number of samples.\n",
       "\n",
       "`dist`: phase-space distribution. Can be `P`, `Q` or `W`.\n",
       "\n",
       "For standard `P,Q,W` distributions, `a` and `ā` are complex conjugate, while for `+P` etc, `a` and `ā` are independent variables.\n"
      ]
     },
     "execution_count": 5,
     "metadata": {},
     "output_type": "execute_result"
    }
   ],
   "source": [
    "?thermal"
   ]
  },
  {
   "cell_type": "code",
   "execution_count": 3,
   "metadata": {},
   "outputs": [
    {
     "data": {
      "image/png": "[encoded data removed]",
      "text/plain": [
       "PyPlot.Figure(PyObject <matplotlib.figure.Figure object at 0x13457b290>)"
      ]
     },
     "metadata": {},
     "output_type": "display_data"
    },
    {
     "data": {
      "text/plain": [
       "9.976650698478496 + 0.0im"
      ]
     },
     "execution_count": 3,
     "metadata": {},
     "output_type": "execute_result"
    }
   ],
   "source": [
    "a,ā = thermal(0,10,5000;dist=\"P\")\n",
    "figure(figsize=(2,2))\n",
    "scatter(real(a),imag(a),s=1,c=\"blue\")\n",
    "axis(\"square\")\n",
    "axis([-20,20,-20,20]);\n",
    "mean(a.*ā)"
   ]
  },
  {
   "cell_type": "code",
   "execution_count": 4,
   "metadata": {},
   "outputs": [
    {
     "data": {
      "image/png": "[encoded data removed]",
      "text/plain": [
       "PyPlot.Figure(PyObject <matplotlib.figure.Figure object at 0x1345db3d0>)"
      ]
     },
     "metadata": {},
     "output_type": "display_data"
    },
    {
     "data": {
      "text/plain": [
       "10.123127137470412 + 0.0im"
      ]
     },
     "execution_count": 4,
     "metadata": {},
     "output_type": "execute_result"
    }
   ],
   "source": [
    "a,ā = thermal(0,10,5000;dist=\"W\")\n",
    "figure(figsize=(2,2))\n",
    "scatter(real(a),imag(ā),s=1,c=\"blue\")\n",
    "axis(\"square\")\n",
    "axis([-20,20,-20,20]);\n",
    "mean(a.*ā)-.5"
   ]
  },
  {
   "cell_type": "code",
   "execution_count": 7,
   "metadata": {},
   "outputs": [
    {
     "name": "stdout",
     "output_type": "stream",
     "text": [
      "search: \u001b[1ms\u001b[22m\u001b[1mq\u001b[22m\u001b[1mu\u001b[22m\u001b[1me\u001b[22m\u001b[1me\u001b[22m\u001b[1mz\u001b[22m\u001b[1me\u001b[22m\u001b[1md\u001b[22m \u001b[1ms\u001b[22m\u001b[1mq\u001b[22m\u001b[1mu\u001b[22m\u001b[1me\u001b[22m\u001b[1me\u001b[22m\u001b[1mz\u001b[22m\u001b[1me\u001b[22m\n",
      "\n"
     ]
    },
    {
     "data": {
      "text/markdown": [
       "```\n",
       "a,ā = squeezed(β,ϵ,N;dist=\"+P\")\n",
       "```\n",
       "\n",
       "Sample the phase-space distribution for a squeezed state.\n",
       "\n",
       "`β`: coherent (complex) amplitude.\n",
       "\n",
       "`ϵ`: complex valued squeezing parameter.\n",
       "\n",
       "`N`: number of samples.\n",
       "\n",
       "`dist`: phase-space distribution; can be `W` or `+P`.\n",
       "\n",
       "For standard `P,Q,W` distributions, `a` and `ā` are complex conjugate, while for `+P` etc, `a` and `ā` are independent variables.\n"
      ],
      "text/plain": [
       "```\n",
       "a,ā = squeezed(β,ϵ,N;dist=\"+P\")\n",
       "```\n",
       "\n",
       "Sample the phase-space distribution for a squeezed state.\n",
       "\n",
       "`β`: coherent (complex) amplitude.\n",
       "\n",
       "`ϵ`: complex valued squeezing parameter.\n",
       "\n",
       "`N`: number of samples.\n",
       "\n",
       "`dist`: phase-space distribution; can be `W` or `+P`.\n",
       "\n",
       "For standard `P,Q,W` distributions, `a` and `ā` are complex conjugate, while for `+P` etc, `a` and `ā` are independent variables.\n"
      ]
     },
     "execution_count": 7,
     "metadata": {},
     "output_type": "execute_result"
    }
   ],
   "source": [
    "?squeezed"
   ]
  },
  {
   "cell_type": "code",
   "execution_count": 5,
   "metadata": {},
   "outputs": [
    {
     "data": {
      "image/png": "[encoded data removed]",
      "text/plain": [
       "PyPlot.Figure(PyObject <matplotlib.figure.Figure object at 0x1345a7e90>)"
      ]
     },
     "metadata": {},
     "output_type": "display_data"
    },
    {
     "name": "stdout",
     "output_type": "stream",
     "text": [
      "104.60084878748064 + 0.0im\n",
      "104.53383099788888\n"
     ]
    }
   ],
   "source": [
    "β = 10\n",
    "ϕ = π/16\n",
    "r = 1.5\n",
    "ϵ = r*exp(2*im*ϕ)\n",
    "N = 10000\n",
    "a,ā = squeezed(β,ϵ,N,dist=\"W\")\n",
    "figure(figsize=(2,2))\n",
    "scatter(real(a),imag(ā),s=1,c=\"blue\")\n",
    "axis(\"square\")\n",
    "axis([-20,20,-20,20]);\n",
    "println(mean(a.*ā)-.5)\n",
    "println(sinh(abs(ϵ)).^2+abs2(β))"
   ]
  },
  {
   "cell_type": "code",
   "execution_count": 6,
   "metadata": {},
   "outputs": [
    {
     "data": {
      "image/png": "[encoded data removed]",
      "text/plain": [
       "PyPlot.Figure(PyObject <matplotlib.figure.Figure object at 0x134969f50>)"
      ]
     },
     "metadata": {},
     "output_type": "display_data"
    },
    {
     "name": "stdout",
     "output_type": "stream",
     "text": [
      "113.09030150990365\n",
      "113.15411641800824\n"
     ]
    }
   ],
   "source": [
    "β = 10\n",
    "ϕ = π/16\n",
    "r = 2\n",
    "ϵ = r*exp(2*im*ϕ)\n",
    "N = 10000\n",
    "a,ā = squeezed(β,ϵ,N;dist=\"+P\")\n",
    "figure(figsize=(2,2))\n",
    "scatter(real(a),imag(a),s=1,c=\"blue\")\n",
    "axis(\"square\")\n",
    "axis([-20,20,-20,20]);\n",
    "println(real(mean(a.*ā)))\n",
    "println(sinh(abs(ϵ)).^2+abs2(β))"
   ]
  },
  {
   "cell_type": "code",
   "execution_count": 10,
   "metadata": {},
   "outputs": [
    {
     "name": "stdout",
     "output_type": "stream",
     "text": [
      "search: \u001b[1mf\u001b[22m\u001b[1mo\u001b[22m\u001b[1mc\u001b[22m\u001b[1mk\u001b[22m \u001b[1mf\u001b[22m\u001b[1mo\u001b[22mrea\u001b[1mc\u001b[22mh Uni\u001b[1mf\u001b[22m\u001b[1mo\u001b[22mrmS\u001b[1mc\u001b[22maling \u001b[1mf\u001b[22muncti\u001b[1mo\u001b[22mnlo\u001b[1mc\u001b[22m @\u001b[1mf\u001b[22muncti\u001b[1mo\u001b[22mnlo\u001b[1mc\u001b[22m\n",
      "\n"
     ]
    },
    {
     "data": {
      "text/markdown": [
       "```\n",
       "a,ā = fock(n,N;dist=\"+P\")\n",
       "```\n",
       "\n",
       "Sample the phase-space distribution for a Fock state.\n",
       "\n",
       "`n`: number of the fock state |n⟩.\n",
       "\n",
       "`N`: number of samples.\n",
       "\n",
       "`dist`: phase-space distribution can be either `W`, `+W`, or `+P`.\n",
       "\n",
       "For standard `P,Q,W` distributions, `a` and `ā` are complex conjugate, while for `+P` etc, `a` and `ā` are independent variables.\n",
       "\n",
       "## Wigner representation\n",
       "\n",
       "  * The standard `W` is sampled using an approximation that reproduces operator averages accuratley for large `n`, but neglects some quantum correlations.\n",
       "  * The `+W` sampling is carried out in a doubled phase space, where the distribution is positive semi-definite, and hence may be sampled exactly for any `n`. Fast evaluation is achieved for large `n` using an accurate asymptotic expansion `(n>320)`.\n"
      ],
      "text/plain": [
       "```\n",
       "a,ā = fock(n,N;dist=\"+P\")\n",
       "```\n",
       "\n",
       "Sample the phase-space distribution for a Fock state.\n",
       "\n",
       "`n`: number of the fock state |n⟩.\n",
       "\n",
       "`N`: number of samples.\n",
       "\n",
       "`dist`: phase-space distribution can be either `W`, `+W`, or `+P`.\n",
       "\n",
       "For standard `P,Q,W` distributions, `a` and `ā` are complex conjugate, while for `+P` etc, `a` and `ā` are independent variables.\n",
       "\n",
       "## Wigner representation\n",
       "\n",
       "  * The standard `W` is sampled using an approximation that reproduces operator averages accuratley for large `n`, but neglects some quantum correlations.\n",
       "  * The `+W` sampling is carried out in a doubled phase space, where the distribution is positive semi-definite, and hence may be sampled exactly for any `n`. Fast evaluation is achieved for large `n` using an accurate asymptotic expansion `(n>320)`.\n"
      ]
     },
     "execution_count": 10,
     "metadata": {},
     "output_type": "execute_result"
    }
   ],
   "source": [
    "?fock"
   ]
  },
  {
   "cell_type": "code",
   "execution_count": 5,
   "metadata": {},
   "outputs": [
    {
     "data": {
      "image/png": "[encoded data removed]",
      "text/plain": [
       "PyPlot.Figure(PyObject <matplotlib.figure.Figure object at 0x13b6f3f50>)"
      ]
     },
     "metadata": {},
     "output_type": "display_data"
    },
    {
     "name": "stdout",
     "output_type": "stream",
     "text": [
      " \n",
      "n = 100 Fock state.\n",
      "N = 1000000 samples.\n",
      " \n",
      "averages\n",
      "<â> = 0.007555393597693727 + 0.012224332709270303im\n",
      "<â⁺â> = 99.99959604949156\n",
      "V(n̂) = 8.108401016215794e-5\n",
      "rel. num. var. = 9.004702396229977e-5\n"
     ]
    }
   ],
   "source": [
    "n = 100\n",
    "N = 1000000\n",
    "a,ā = fock(n,N;dist=\"W\")\n",
    "\n",
    "figure(figsize=(2,2))\n",
    "scatter(real(a),imag(a),s=.5,c=\"blue\")\n",
    "axis(\"square\")\n",
    "axis([-sqrt(3n),sqrt(3n),-sqrt(3n),sqrt(3n)])\n",
    "n̄ = mean(abs2.(a))-.5\n",
    "Vn= mean(abs2.(a).^2)-mean(abs2.(a))-n̄.^2\n",
    "println(\" \")\n",
    "println(\"n = $n Fock state.\")\n",
    "println(\"N = $N samples.\")\n",
    "println(\" \")\n",
    "println(\"averages\")\n",
    "println(\"<â> = \", mean(a))\n",
    "println(\"<â⁺â> = \",n̄)\n",
    "println(\"V(n̂) = \",Vn)\n",
    "println(\"rel. num. var. = \",sqrt(abs(Vn))/abs(n̄))"
   ]
  },
  {
   "cell_type": "code",
   "execution_count": 8,
   "metadata": {},
   "outputs": [
    {
     "name": "stdout",
     "output_type": "stream",
     "text": [
      "  0.189650 seconds (44 allocations: 152.589 MiB, 39.88% gc time)\n",
      " "
     ]
    },
    {
     "data": {
      "image/png": "[encoded data removed]",
      "text/plain": [
       "PyPlot.Figure(PyObject <matplotlib.figure.Figure object at 0x11c24bb10>)"
      ]
     },
     "metadata": {},
     "output_type": "display_data"
    },
    {
     "name": "stdout",
     "output_type": "stream",
     "text": [
      "\n",
      "n = 100 Fock state.\n",
      "N = 1000000 samples.\n",
      " \n",
      "averages\n",
      "<â> = -0.005420032523918334 + 0.006070226650599843im\n",
      "<â⁺â> = 100.00160522246864 - 0.007570146562961451im\n",
      "V(n̂) = 0.29401814178163477 - 0.09995029679843959im\n",
      "rel. num. var. = 0.005572545790503147\n"
     ]
    }
   ],
   "source": [
    "n = 100\n",
    "N = 1000000\n",
    "@time a,ā = fock(n,N,dist=\"+P\")\n",
    "figure(figsize=(2,2))\n",
    "scatter(real(a),imag(a),s=.5,c=\"blue\")\n",
    "axis(\"square\")\n",
    "axis([-sqrt(2n),sqrt(2n),-sqrt(2n),sqrt(2n)])\n",
    "n̄ = mean(ā.*a)\n",
    "Vn= mean(ā.^2.*a.^2)+mean(ā.*a)-n̄.^2\n",
    "println(\" \")\n",
    "println(\"n = $n Fock state.\")\n",
    "println(\"N = $N samples.\")\n",
    "println(\" \")\n",
    "println(\"averages\")\n",
    "println(\"<â> = \", mean(a))\n",
    "println(\"<â⁺â> = \",n̄)\n",
    "println(\"V(n̂) = \",Vn)\n",
    "println(\"rel. num. var. = \",sqrt(abs(Vn))/abs(n̄))"
   ]
  },
  {
   "cell_type": "code",
   "execution_count": 59,
   "metadata": {},
   "outputs": [],
   "source": [
    "#=let's check that if we make lots of separate calls and average, we get the same stats as one call\n",
    "a=[1.+im*1.]\n",
    "ā=[1.+im*1.]\n",
    "for j=1:N\n",
    "    b,b̄ = fock(n,1,dist=\"+W\")\n",
    "    push!(a,b[1]);push!(ā,b̄[1])\n",
    "end\n",
    "=#"
   ]
  },
  {
   "cell_type": "code",
   "execution_count": 6,
   "metadata": {},
   "outputs": [
    {
     "name": "stdout",
     "output_type": "stream",
     "text": [
      "  5.317376 seconds (140 allocations: 161.596 MiB, 1.47% gc time)\n",
      " "
     ]
    },
    {
     "data": {
      "image/png": "[encoded data removed]",
      "text/plain": [
       "PyPlot.Figure(PyObject <matplotlib.figure.Figure object at 0x12f95c250>)"
      ]
     },
     "metadata": {},
     "output_type": "display_data"
    },
    {
     "name": "stdout",
     "output_type": "stream",
     "text": [
      "\n",
      "n = 100 Fock state.\n",
      "N = 1000000 samples.\n",
      " \n",
      "averages\n",
      "<â> = 0.0015535738903260442 - 0.007883451499402314im\n",
      "<â⁺â> = 99.99097097503028 - 0.018584005480134756im\n",
      "V(n̂) = -0.05938285145202826 - 0.23781749769587845im\n",
      "rel. num. var. = 0.004951399700135956\n"
     ]
    }
   ],
   "source": [
    "n = 100\n",
    "N = 1000000\n",
    "@time a,ā = fock(n,N,dist=\"+W\")\n",
    "\n",
    "figure(figsize=(2,2))\n",
    "scatter(real(a),imag(a),s=.5,c=\"blue\")\n",
    "axis(\"square\")\n",
    "axis([-sqrt(3n),sqrt(3n),-sqrt(3n),sqrt(3n)])\n",
    "n̄ = mean(ā.*a)-.5\n",
    "Vn= mean(ā.^2.*a.^2)-mean(ā.*a)-n̄.^2\n",
    "println(\" \")\n",
    "println(\"n = $n Fock state.\")\n",
    "println(\"N = $N samples.\")\n",
    "println(\" \")\n",
    "println(\"averages\")\n",
    "println(\"<â> = \", mean(a))\n",
    "println(\"<â⁺â> = \",n̄)\n",
    "println(\"V(n̂) = \",Vn)\n",
    "println(\"rel. num. var. = \",sqrt(abs(Vn))/abs(n̄))"
   ]
  },
  {
   "cell_type": "code",
   "execution_count": null,
   "metadata": {},
   "outputs": [],
   "source": [
    "#=\n",
    "n = 10 Fock state, 10000 samples\n",
    " \n",
    "averages\n",
    "<â> = 0.013788850239513201 - 0.005329092432429048im\n",
    "<â⁺â> = 10.002153003000107\n",
    "V(n̂) = 0.00249710284272453\n",
    "rel. num. var. = 0.004996026356912298\n",
    "=#"
   ]
  },
  {
   "cell_type": "code",
   "execution_count": 106,
   "metadata": {},
   "outputs": [
    {
     "name": "stdout",
     "output_type": "stream",
     "text": [
      "  0.004072 seconds (51 allocations: 1.778 MiB)\n"
     ]
    },
    {
     "data": {
      "image/png": "[encoded data removed]",
      "text/plain": [
       "PyPlot.Figure(PyObject <matplotlib.figure.Figure object at 0x1257f6290>)"
      ]
     },
     "metadata": {},
     "output_type": "display_data"
    },
    {
     "name": "stdout",
     "output_type": "stream",
     "text": [
      " \n",
      "n = 321 Fock state.\n",
      "N = 10000 samples.\n",
      " \n",
      "averages\n",
      "<â> = 0.012427089782225221 - 0.016801967985461033im\n",
      "<â⁺â> = 321.0443697617065 + 0.5584735012970539im\n",
      "V(n̂) = 24.608401098274044 + 8.666618267441834im\n",
      "rel. num. var. =0.015910016093256155\n"
     ]
    }
   ],
   "source": [
    "#for n>320 uses asymptotic expansion\n",
    "n=321\n",
    "N=10000\n",
    "@time a,ā = fock(n,N,dist=\"+W\")\n",
    "figure(figsize=(2,2))\n",
    "scatter(real(a),imag(a),s=.5,c=\"blue\")\n",
    "axis(\"square\")\n",
    "axis([-sqrt(2n),sqrt(2n),-sqrt(2n),sqrt(2n)])\n",
    "n̄ = mean(ā.*a)-.5\n",
    "Vn= mean(ā.^2.*a.^2)-mean(ā.*a)-n̄.^2\n",
    "println(\" \")\n",
    "println(\"n = $n Fock state.\")\n",
    "println(\"N = $N samples.\")\n",
    "println(\" \")\n",
    "println(\"averages\")\n",
    "println(\"<â> = \", mean(a))\n",
    "println(\"<â⁺â> = \",n̄)\n",
    "println(\"V(n̂) = \",Vn)\n",
    "println(\"rel. num. var. =\",sqrt(abs(Vn))/abs(n̄))"
   ]
  },
  {
   "cell_type": "code",
   "execution_count": 107,
   "metadata": {},
   "outputs": [
    {
     "name": "stdout",
     "output_type": "stream",
     "text": [
      "  0.005109 seconds (52 allocations: 1.778 MiB)\n"
     ]
    },
    {
     "data": {
      "image/png": "[encoded data removed]",
      "text/plain": [
       "PyPlot.Figure(PyObject <matplotlib.figure.Figure object at 0x134fb6450>)"
      ]
     },
     "metadata": {},
     "output_type": "display_data"
    },
    {
     "name": "stdout",
     "output_type": "stream",
     "text": [
      " \n",
      "n = 10000 Fock state.\n",
      "N = 10000 samples.\n",
      " \n",
      "averages\n",
      "<â⁺â> = 10000.732701425655 - 0.4141789723972981im\n",
      "V(n̂) = -269.3250790834427 + 8.719802071904269im\n",
      "<â> = 0.035480853776490996 + 0.3125906398099439im\n",
      "rel. num. var. =0.001641422299862208\n"
     ]
    }
   ],
   "source": [
    "#push n and N\n",
    "n=10000\n",
    "N=10000\n",
    "@time a,ā = fock(n,N,dist=\"+W\")\n",
    "figure(figsize=(2,2))\n",
    "scatter(real(a),imag(a),s=.5,c=\"blue\")\n",
    "axis(\"square\")\n",
    "axis([-sqrt(2n),sqrt(2n),-sqrt(2n),sqrt(2n)])\n",
    "n̄ = mean(ā.*a)-.5\n",
    "Vn= mean(ā.^2.*a.^2)-mean(ā.*a)-n̄.^2\n",
    "println(\" \")\n",
    "println(\"n = $n Fock state.\")\n",
    "println(\"N = $N samples.\")\n",
    "println(\" \")\n",
    "println(\"averages\")\n",
    "println(\"<â> = \", mean(a))\n",
    "println(\"<â⁺â> = \",n̄)\n",
    "println(\"V(n̂) = \",Vn)\n",
    "println(\"rel. num. var. =\",sqrt(abs(Vn))/abs(n̄))"
   ]
  },
  {
   "cell_type": "code",
   "execution_count": 18,
   "metadata": {},
   "outputs": [
    {
     "name": "stdout",
     "output_type": "stream",
     "text": [
      "search: \u001b[1mc\u001b[22m\u001b[1mr\u001b[22m\u001b[1me\u001b[22m\u001b[1ms\u001b[22m\u001b[1mc\u001b[22m\u001b[1me\u001b[22m\u001b[1mn\u001b[22m\u001b[1mt\u001b[22m\n",
      "\n"
     ]
    },
    {
     "data": {
      "text/markdown": [
       "```\n",
       "a,ā = crescent(β,ϵ,q,N;dist=\"+P\")\n",
       "```\n",
       "\n",
       "Sample the phase-space distribution for a crescent state. First samples a squeezed state, then introduces a searing factor in phase-space in the form of a gaussian distributed random phase.\n",
       "\n",
       "`β` is coherent (complex) amplitude.\n",
       "\n",
       "`ϵ`: squeezing paramter.\n",
       "\n",
       "`q`: shearing parameter.\n",
       "\n",
       "`N`: number of samples.\n",
       "\n",
       "`dist`: phase-space distribution. Can be `+P`,`Q` or `W`.\n",
       "\n",
       "For standard `P,Q,W` distributions, `a` and `ā` are complex conjugate, while for `+P` etc, `a` and `ā` are independent variables.\n"
      ],
      "text/plain": [
       "```\n",
       "a,ā = crescent(β,ϵ,q,N;dist=\"+P\")\n",
       "```\n",
       "\n",
       "Sample the phase-space distribution for a crescent state. First samples a squeezed state, then introduces a searing factor in phase-space in the form of a gaussian distributed random phase.\n",
       "\n",
       "`β` is coherent (complex) amplitude.\n",
       "\n",
       "`ϵ`: squeezing paramter.\n",
       "\n",
       "`q`: shearing parameter.\n",
       "\n",
       "`N`: number of samples.\n",
       "\n",
       "`dist`: phase-space distribution. Can be `+P`,`Q` or `W`.\n",
       "\n",
       "For standard `P,Q,W` distributions, `a` and `ā` are complex conjugate, while for `+P` etc, `a` and `ā` are independent variables.\n"
      ]
     },
     "execution_count": 18,
     "metadata": {},
     "output_type": "execute_result"
    }
   ],
   "source": [
    "?crescent"
   ]
  },
  {
   "cell_type": "code",
   "execution_count": 17,
   "metadata": {},
   "outputs": [
    {
     "data": {
      "image/png": "[encoded data removed]",
      "text/plain": [
       "PyPlot.Figure(PyObject <matplotlib.figure.Figure object at 0x13456af50>)"
      ]
     },
     "metadata": {},
     "output_type": "display_data"
    },
    {
     "name": "stdout",
     "output_type": "stream",
     "text": [
      "100.1085191890046 + 0.0im\n",
      "100.0\n"
     ]
    }
   ],
   "source": [
    "β = 10\n",
    "ϵ = 0\n",
    "q = .5\n",
    "N = 5000\n",
    "a,ā = crescent(β,ϵ,q,N;dist=\"W\")\n",
    "figure(figsize=(2,2))\n",
    "scatter(real(a),imag(a),s=1,c=\"blue\")\n",
    "axis(\"square\")\n",
    "axis([-20,20,-20,20]);\n",
    "println(mean(a.*ā)-.5)\n",
    "#not quite the right moments for crescent state, but a sanity check of sorts:\n",
    "println(sinh(abs(ϵ)).^2+abs2(β)) "
   ]
  },
  {
   "cell_type": "code",
   "execution_count": 18,
   "metadata": {},
   "outputs": [
    {
     "data": {
      "image/png": "[encoded data removed]",
      "text/plain": [
       "PyPlot.Figure(PyObject <matplotlib.figure.Figure object at 0x1347f9210>)"
      ]
     },
     "metadata": {},
     "output_type": "display_data"
    },
    {
     "name": "stdout",
     "output_type": "stream",
     "text": [
      "100.18079674399286 + 0.0im\n",
      "100.0\n"
     ]
    }
   ],
   "source": [
    "β = 10\n",
    "ϵ = 0\n",
    "q = .4\n",
    "N = 5000\n",
    "a,ā = crescent(β,ϵ,q,N;dist=\"Q\")\n",
    "figure(figsize=(2,2))\n",
    "scatter(real(a),imag(a),s=1,c=\"blue\")\n",
    "axis(\"square\")\n",
    "axis([-20,20,-20,20]);\n",
    "println(mean(a.*ā)-1)\n",
    "println(sinh(abs(ϵ)).^2+abs2(β)) #not quite the right moments for crescent state, but a check of sorts"
   ]
  },
  {
   "cell_type": "code",
   "execution_count": 19,
   "metadata": {
    "scrolled": true
   },
   "outputs": [
    {
     "data": {
      "image/png": "[encoded data removed]",
      "text/plain": [
       "PyPlot.Figure(PyObject <matplotlib.figure.Figure object at 0x13466c810>)"
      ]
     },
     "metadata": {},
     "output_type": "display_data"
    },
    {
     "name": "stdout",
     "output_type": "stream",
     "text": [
      "100.25741232534777 - 0.06841305238131193im\n",
      "100.0\n"
     ]
    }
   ],
   "source": [
    "β = 10\n",
    "ϵ = 0\n",
    "q = .4\n",
    "N = 5000\n",
    "a,ā = crescent(β,ϵ,q,N;dist=\"+P\")\n",
    "figure(figsize=(2,2))\n",
    "scatter(real(a),imag(a),s=1,c=\"blue\")\n",
    "axis(\"square\")\n",
    "axis([-20,20,-20,20]);\n",
    "println(mean(a.*ā))\n",
    "println(sinh(abs(ϵ)).^2+abs2(β)) #not quite the right moments for crescent state, but a check of sorts"
   ]
  },
  {
   "cell_type": "code",
   "execution_count": null,
   "metadata": {},
   "outputs": [],
   "source": []
  },
  {
   "cell_type": "code",
   "execution_count": null,
   "metadata": {},
   "outputs": [],
   "source": [
    "#=\n",
    "Test standard truncted Wigner as simple loop over separate calls to\n",
    "OrdinaryDiffEq\n",
    "=#\n",
    "\n",
    "using DifferentialEquations, PyPlot\n",
    "\n",
    "#using RandomNumbers.Xorshifts\n",
    "#r1 = Xorshift1024Star()\n",
    "\n",
    "#=\n",
    "This function from PhaseSpaceTools.jl (unregistered, my github) is the only one that could affect the initial condtion\n",
    "See dist=\"W\" (line 54), where ultimatelly it is just a call to rand() that ensures an indeterminate phase over [0,2π).\n",
    "I tried to using RandomNumbers.jl to see if this would improve rand() [might reveal if this is really the issue], but\n",
    "the result of dynamics is the same.\n",
    "=#\n",
    "\n",
    "using Revise, PhaseSpaceTools, PyPlot\n",
    "\n",
    "#lets do some checks for the fock state sampler\n",
    "n = 10\n",
    "N = 10000\n",
    "a,ā = fock(n,N;dist=\"W\")\n",
    "\n",
    "figure(figsize=(4,4))\n",
    "scatter(real(a),imag(a),s=.5,c=\"blue\")\n",
    "axis(\"square\")\n",
    "axis([-sqrt(3n),sqrt(3n),-sqrt(3n),sqrt(3n)])\n",
    "n̄ = mean(abs2.(a))-.5\n",
    "Vn= mean(abs2.(a).^2)-mean(abs2.(a))-n̄.^2\n",
    "println(\" \")\n",
    "println(\"n = $n Fock state.\")\n",
    "println(\"N = $N samples.\")\n",
    "println(\" \")\n",
    "println(\"Operator averages:\")\n",
    "println(\"<â> = \", mean(a))\n",
    "println(\"<â⁺â> = \",n̄)\n",
    "println(\"V(n̂) = \",Vn)\n",
    "println(\"rel. num. var. = \",sqrt(abs(Vn))/abs(n̄))\n",
    "\n",
    "#has right statistics for means and variances:\n",
    "#no mean field (first av.), mean number is n (second av.),\n",
    "#small number variance (3rd av.), and small relative number variance (4th av.)\n",
    "\n",
    "#now solve ode as simple loop (no noise in dynamics, so test of either ode dynamics or initial condition sampling)\n",
    "\n",
    "#ode\n",
    "f = @ode_def_bare Drift begin\n",
    "  dα₁ = -2*im*χ*abs2(α₁)*α₁ + im*J*α₂\n",
    "  dα₂ = -2*im*χ*abs2(α₂)*α₂ + im*J*α₁\n",
    "end χ=>0.2 J=1.0\n",
    "\n",
    "\n",
    "#time\n",
    "ti = 0.\n",
    "tf = 10.\n",
    "Nt = 100\n",
    "tspan = (ti,tf)\n",
    "t = collect(linspace(ti,tf,Nt))\n",
    "a0= complex(ones(Nt))\n",
    "\n",
    "\n",
    "function boser(Ntraj)\n",
    "Na = 10\n",
    "Nb = 0\n",
    "n1 = zeros(complex(Nt))\n",
    "n2 = zeros(complex(Nt))\n",
    "\n",
    "#just an honest loop\n",
    "for j=1:Ntraj\n",
    "    a,ā = fock(Na,1,dist=\"W\")\n",
    "    b,b̄ = fock(Nb,1,dist=\"W\")\n",
    "    prob = ODEProblem(f,[a[1];b[1]],tspan)\n",
    "\n",
    "    alg = DP5()\n",
    "    dt = 1/1000\n",
    "\n",
    "    sol = solve(prob,alg,reltol=1e-7,dt=dt,saveat=t)\n",
    "\n",
    "    α₁ = sol[1,:]\n",
    "    α₂ = sol[2,:]\n",
    "    n1 .+= abs2.(α₁)\n",
    "    n2 .+= abs2.(α₂)\n",
    "end\n",
    "\n",
    "n1/=Ntraj\n",
    "n2/=Ntraj\n",
    "n1+=-.5\n",
    "n2+=-.5\n",
    "return n1,n2\n",
    "end\n",
    "\n",
    "#compile\n",
    "_n1,_n2=boser(1)\n",
    "\n",
    "n1,n2=boser(5000)\n",
    "\n",
    "f1=figure(figsize=(4,4))\n",
    "plot(t,n1)\n",
    "plot(t,n2)\n",
    "xlim(ti,tf)\n",
    "\n",
    "#Now compare with exact evolution in number state basis\n",
    "using QuantumOptics\n",
    "\n",
    "χ=0.2\n",
    "J=1\n",
    "Nbasis = 40\n",
    "b1 = FockBasis(Nbasis)\n",
    "b2 = FockBasis(Nbasis)\n",
    "bas= b1⊗b2\n",
    "a = destroy(b1)\n",
    "a⁺ = create(b1)\n",
    "b = destroy(b2)\n",
    "b⁺= create(b2)\n",
    "Ia= identityoperator(b1)\n",
    "Ib= identityoperator(b2)\n",
    "\n",
    "H = χ*((a⁺*a⁺*a*a) ⊗ Ib + Ia ⊗ (b⁺*b⁺*b*b)) - J*(a⊗b⁺ + a⁺⊗b)\n",
    "\n",
    "ti = 0.0\n",
    "tf = 10.0\n",
    "Nt = 100\n",
    "t = collect(linspace(ti,tf,Nt))\n",
    "psi0 = fockstate(b1, 10) ⊗ fockstate(b2,0)\n",
    "tout, psit = timeevolution.schroedinger(t, psi0, H)\n",
    "\n",
    "na = number(b1);nb = number(b2)\n",
    "Na = real(expect(na⊗Ib,psit))\n",
    "Nb = real(expect(Ia⊗nb,psit))\n",
    "\n",
    "#figure(figsize=(5,4))\n",
    "#xlim(0, tf)\n",
    "#ylim(0,10)\n",
    "plot(t,Na,\"-.\")\n",
    "plot(t,Nb,\"-.\")\n",
    "#plot(t,n1,\"--\")\n",
    "#plot(t,n2,\"--\")\n",
    "xlabel(L\"t\")\n",
    "ylabel(L\"\\langle \\hat n \\rangle\")\n",
    "legend([L\"N_a (W)\",L\"N_b (W)\",L\"N_a\",L\"N_b\"],loc=\"lower right\");\n",
    "#savefig(\"compareExact_Wigner.pdf\")\n"
   ]
  }
 ],
 "metadata": {
  "kernelspec": {
   "display_name": "Julia 0.6.2",
   "language": "julia",
   "name": "julia-0.6"
  },
  "language_info": {
   "file_extension": ".jl",
   "mimetype": "application/julia",
   "name": "julia",
   "version": "0.6.2"
  }
 },
 "nbformat": 4,
 "nbformat_minor": 2
}
