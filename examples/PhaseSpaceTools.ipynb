{
 "cells": [
  {
   "cell_type": "markdown",
   "metadata": {},
   "source": [
    "Sampling single mode initial states using methods presented in the article\n",
    "- [Olsen, Bradley, Opt. Comm. 282 (2009) 3924-3929](https://doi.org/10.1016/j.optcom.2009.06.033); errata [Olsen, Lewis-Swan, Bradley, Opt. Comm. 370 (2016) 327-328](https://doi.org/10.1016/j.optcom.2016.02.068)\n",
    "\n",
    "We also sample some new distributions:\n",
    "- fock state for +W\n",
    "- thermal state for +P"
   ]
  },
  {
   "cell_type": "code",
   "execution_count": 1,
   "metadata": {},
   "outputs": [
    {
     "name": "stderr",
     "output_type": "stream",
     "text": [
      "\u001b[1m\u001b[36mINFO: \u001b[39m\u001b[22m\u001b[36mRecompiling stale cache file /Users/abradley/.julia/lib/v0.6/PhaseSpaceTools.ji for module PhaseSpaceTools.\n",
      "\u001b[39m"
     ]
    }
   ],
   "source": [
    "using PyPlot, Revise, PhaseSpaceTools"
   ]
  },
  {
   "cell_type": "code",
   "execution_count": null,
   "metadata": {},
   "outputs": [],
   "source": [
    "?coherent"
   ]
  },
  {
   "cell_type": "code",
   "execution_count": null,
   "metadata": {},
   "outputs": [],
   "source": [
    "b=10\n",
    "N=1000\n",
    "a,ā = coherent(b,N,dist=\"W\")\n",
    "figure(figsize=(2,2))\n",
    "scatter(real(a),imag(a),s=1,c=\"blue\")\n",
    "axis(\"square\")\n",
    "axis([-20,20,-20,20]);\n",
    "println(mean(a.*ā)-.5)"
   ]
  },
  {
   "cell_type": "code",
   "execution_count": null,
   "metadata": {},
   "outputs": [],
   "source": [
    "?thermal"
   ]
  },
  {
   "cell_type": "code",
   "execution_count": null,
   "metadata": {},
   "outputs": [],
   "source": [
    "a,ā = thermal(0,10,5000;dist=\"P\")\n",
    "figure(figsize=(2,2))\n",
    "scatter(real(a),imag(a),s=1,c=\"blue\")\n",
    "axis(\"square\")\n",
    "axis([-20,20,-20,20]);\n",
    "mean(a.*ā)"
   ]
  },
  {
   "cell_type": "code",
   "execution_count": null,
   "metadata": {},
   "outputs": [],
   "source": [
    "a,ā = thermal(0,10,5000;dist=\"W\")\n",
    "figure(figsize=(2,2))\n",
    "scatter(real(a),imag(ā),s=1,c=\"blue\")\n",
    "axis(\"square\")\n",
    "axis([-20,20,-20,20]);\n",
    "mean(a.*ā)-.5"
   ]
  },
  {
   "cell_type": "code",
   "execution_count": null,
   "metadata": {},
   "outputs": [],
   "source": [
    "?squeezed"
   ]
  },
  {
   "cell_type": "code",
   "execution_count": null,
   "metadata": {},
   "outputs": [],
   "source": [
    "β = 10\n",
    "ϕ = π/16\n",
    "r = 1.5\n",
    "ϵ = r*exp(2*im*ϕ)\n",
    "N = 10000\n",
    "a,ā = squeezed(β,ϵ,N,dist=\"W\")\n",
    "figure(figsize=(2,2))\n",
    "scatter(real(a),imag(ā),s=1,c=\"blue\")\n",
    "axis(\"square\")\n",
    "axis([-20,20,-20,20]);\n",
    "println(mean(a.*ā)-.5)\n",
    "println(sinh(abs(ϵ)).^2+abs2(β))"
   ]
  },
  {
   "cell_type": "code",
   "execution_count": null,
   "metadata": {},
   "outputs": [],
   "source": [
    "β = 10\n",
    "ϕ = π/16\n",
    "r = 2\n",
    "ϵ = r*exp(2*im*ϕ)\n",
    "N = 10000\n",
    "a,ā = squeezed(β,ϵ,N;dist=\"+P\")\n",
    "figure(figsize=(2,2))\n",
    "scatter(real(a),imag(a),s=1,c=\"blue\")\n",
    "axis(\"square\")\n",
    "axis([-20,20,-20,20]);\n",
    "println(real(mean(a.*ā)))\n",
    "println(sinh(abs(ϵ)).^2+abs2(β))"
   ]
  },
  {
   "cell_type": "code",
   "execution_count": null,
   "metadata": {},
   "outputs": [],
   "source": [
    "?fock"
   ]
  },
  {
   "cell_type": "code",
   "execution_count": null,
   "metadata": {},
   "outputs": [],
   "source": [
    "n = 100\n",
    "N = 10000\n",
    "a,ā = fock(n,N;dist=\"W\")\n",
    "figure(figsize=(2,2))\n",
    "scatter(real(a),imag(ā),s=.5,c=\"blue\")\n",
    "axis(\"square\")\n",
    "axis([-20,20,-20,20]);\n",
    "println(mean(a.*ā)-.5)\n",
    "println(n)"
   ]
  },
  {
   "cell_type": "code",
   "execution_count": 12,
   "metadata": {},
   "outputs": [
    {
     "name": "stdout",
     "output_type": "stream",
     "text": [
      "  0.454652 seconds (40 allocations: 152.589 MiB, 58.20% gc time)\n"
     ]
    },
    {
     "data": {
      "image/png": "[encoded data removed]",
      "text/plain": [
       "PyPlot.Figure(PyObject <matplotlib.figure.Figure object at 0x13d747590>)"
      ]
     },
     "metadata": {},
     "output_type": "display_data"
    },
    {
     "name": "stdout",
     "output_type": "stream",
     "text": [
      "n = 320\n",
      "<a⁺a> = 320.00903669891323 + 0.018170161492585234im\n",
      "V(n̂) = -1.537742841814179 - 0.7837537586041616im\n"
     ]
    }
   ],
   "source": [
    "n = 320\n",
    "N = 1000000\n",
    "@time a,ā = fock(n,N;dist=\"+P\")\n",
    "figure(figsize=(2,2))\n",
    "scatter(real(a),imag(a),s=.5,c=\"blue\")\n",
    "axis(\"square\")\n",
    "axis([-sqrt(2n),sqrt(2n),-sqrt(2n),sqrt(2n)])\n",
    "println(\"n = \", n)\n",
    "n̄ = mean(ā.*a)\n",
    "Vn= mean(ā.^2.*a.^2)+mean(ā.*a)-n̄.^2\n",
    "println(\"<a⁺a> = \", n̄)\n",
    "println(\"V(n̂) = \",Vn)"
   ]
  },
  {
   "cell_type": "code",
   "execution_count": 10,
   "metadata": {},
   "outputs": [
    {
     "name": "stdout",
     "output_type": "stream",
     "text": [
      " 25.180788 seconds (61 allocations: 161.590 MiB, 0.59% gc time)\n"
     ]
    },
    {
     "data": {
      "image/png": "[encoded data removed]",
      "text/plain": [
       "PyPlot.Figure(PyObject <matplotlib.figure.Figure object at 0x13d8890d0>)"
      ]
     },
     "metadata": {},
     "output_type": "display_data"
    },
    {
     "name": "stdout",
     "output_type": "stream",
     "text": [
      "n = 320\n",
      "<a⁺a> = 320.00082160600056 + 0.026465244818023648im\n",
      "V(n̂) = -1.3429188631125726 + 0.29717402784927316im\n"
     ]
    }
   ],
   "source": [
    "n = 320\n",
    "N = 1000000\n",
    "@time a,ā = fock(n,N,dist=\"+W\")\n",
    "figure(figsize=(2,2))\n",
    "scatter(real(a),imag(a),s=.5,c=\"blue\")\n",
    "axis(\"square\")\n",
    "axis([-sqrt(2n),sqrt(2n),-sqrt(2n),sqrt(2n)])\n",
    "println(\"n = \", n)\n",
    "n̄ = mean(ā.*a)-.5\n",
    "Vn= mean(ā.^2.*a.^2)-mean(ā.*a)-n̄.^2\n",
    "println(\"<a⁺a> = \", n̄)\n",
    "println(\"V(n̂) = \",Vn)"
   ]
  },
  {
   "cell_type": "code",
   "execution_count": 9,
   "metadata": {},
   "outputs": [
    {
     "name": "stdout",
     "output_type": "stream",
     "text": [
      "  0.485348 seconds (68 allocations: 161.590 MiB, 27.56% gc time)\n"
     ]
    },
    {
     "data": {
      "image/png": "[encoded data removed]",
      "text/plain": [
       "PyPlot.Figure(PyObject <matplotlib.figure.Figure object at 0x1290fe790>)"
      ]
     },
     "metadata": {},
     "output_type": "display_data"
    },
    {
     "name": "stdout",
     "output_type": "stream",
     "text": [
      "n = 321\n",
      "<a⁺a> = 320.9916243695305 + 0.0011855129745798187im\n",
      "V(n̂) = 1.1572578356426675 + 1.283563946484405im\n"
     ]
    }
   ],
   "source": [
    "#push n and N\n",
    "#for large n>320 uses asymptotic expansion\n",
    "n=321\n",
    "N=1000000\n",
    "@time a,ā = fock(n,N,dist=\"+W\")\n",
    "figure(figsize=(2,2))\n",
    "scatter(real(a),imag(a),s=.5,c=\"blue\")\n",
    "axis(\"square\")\n",
    "axis([-sqrt(2n),sqrt(2n),-sqrt(2n),sqrt(2n)])\n",
    "println(\"n = \", n)\n",
    "n̄ = mean(ā.*a)-.5\n",
    "Vn= mean(ā.^2.*a.^2)-mean(ā.*a)-n̄.^2\n",
    "println(\"<a⁺a> = \", n̄)\n",
    "println(\"V(n̂) = \",Vn)"
   ]
  },
  {
   "cell_type": "code",
   "execution_count": null,
   "metadata": {},
   "outputs": [],
   "source": [
    "?crescent"
   ]
  },
  {
   "cell_type": "code",
   "execution_count": null,
   "metadata": {},
   "outputs": [],
   "source": [
    "β = 10\n",
    "ϵ = 0\n",
    "q = .5\n",
    "N = 5000\n",
    "a,ā = crescent(β,ϵ,q,N;dist=\"W\")\n",
    "figure(figsize=(2,2))\n",
    "scatter(real(a),imag(a),s=1,c=\"blue\")\n",
    "axis(\"square\")\n",
    "axis([-20,20,-20,20]);\n",
    "println(mean(a.*ā)-.5)\n",
    "#not quite the right moments for crescent state, but a sanity check of sorts:\n",
    "println(sinh(abs(ϵ)).^2+abs2(β)) "
   ]
  },
  {
   "cell_type": "code",
   "execution_count": null,
   "metadata": {},
   "outputs": [],
   "source": [
    "β = 10\n",
    "ϵ = 0\n",
    "q = .4\n",
    "N = 5000\n",
    "a,ā = crescent(β,ϵ,q,N;dist=\"Q\")\n",
    "figure(figsize=(2,2))\n",
    "scatter(real(a),imag(a),s=1,c=\"blue\")\n",
    "axis(\"square\")\n",
    "axis([-20,20,-20,20]);\n",
    "println(mean(a.*ā)-1)\n",
    "println(sinh(abs(ϵ)).^2+abs2(β)) #not quite the right moments for crescent state, but a check of sorts"
   ]
  },
  {
   "cell_type": "code",
   "execution_count": null,
   "metadata": {
    "scrolled": true
   },
   "outputs": [],
   "source": [
    "β = 10\n",
    "ϵ = 0\n",
    "q = .4\n",
    "N = 5000\n",
    "a,ā = crescent(β,ϵ,q,N;dist=\"+P\")\n",
    "figure(figsize=(2,2))\n",
    "scatter(real(a),imag(a),s=1,c=\"blue\")\n",
    "axis(\"square\")\n",
    "axis([-20,20,-20,20]);\n",
    "println(mean(a.*ā))\n",
    "println(sinh(abs(ϵ)).^2+abs2(β)) #not quite the right moments for crescent state, but a check of sorts"
   ]
  },
  {
   "cell_type": "markdown",
   "metadata": {
    "collapsed": true
   },
   "source": [
    "# Implement fock states for +W\n",
    "- currently $|n\\rangle$ limited to states with $n<=300$.\n",
    "- asymptotic expansionc for large $n$."
   ]
  },
  {
   "cell_type": "markdown",
   "metadata": {},
   "source": [
    "### Distribution to sample\n",
    "Distribution \n",
    "$$P_n(x)=\\frac{4}{3}e^{-2x^2/3}L_n(-4x^2/3)\\frac{x}{3^n}$$ "
   ]
  },
  {
   "cell_type": "markdown",
   "metadata": {},
   "source": [
    "### Asymptotic expansion\n",
    "$$L_n(-x)=\\frac{e^{-x/2+2\\sqrt{x(n+1)}}}{2\\sqrt{\\pi}(x(n+1))^{1/4}}$$"
   ]
  },
  {
   "cell_type": "markdown",
   "metadata": {},
   "source": [
    "and hence\n",
    "$$P_n(x)\\sim\\frac{2x}{3^{n+1}}\\frac{e^{-4x^2/3+2\\sqrt{4x^2/3(n+1)}}}{\\sqrt{\\pi}(x(n+1))^{1/4}}$$"
   ]
  },
  {
   "cell_type": "markdown",
   "metadata": {},
   "source": [
    "### Asymptotic\n",
    "Expansion\n",
    "$$n!L_n(-x)=e^{-x}\\int_0^\\infty dt\\; e^{-t}t^nI_0(2\\sqrt{tx})$$\n",
    "Hence\n",
    "$$e^{-2x^2/3}L_n(-4x^2/3)=\\frac{e^{-2x^2}}{n!}\\int_0^\\infty dt\\; e^{-t}t^nI_0(2\\sqrt{t4x^2/3})$$"
   ]
  },
  {
   "cell_type": "markdown",
   "metadata": {},
   "source": [
    "Then use asymptotic ($n\\gg 1$, $x\\sim \\sqrt{n}$)\n",
    "$$I_0(x)\\sim \\frac{e^x}{\\sqrt{2\\pi x}}$$\n",
    "and we have\n",
    "$$I_0(2 \\sqrt{t4x^2/3})\\sim \\frac{e^{2 \\sqrt{t4x^2/3}}}{\\sqrt{4\\pi \\sqrt{4tx^2/3}}}$$"
   ]
  },
  {
   "cell_type": "markdown",
   "metadata": {},
   "source": [
    "to give\n",
    "$$e^{-2x^2/3}L_n(-4x^2/3)\\sim\\frac{e^{-2x^2}}{n!\\sqrt{4\\pi x}}(3/4)^{1/4}\\int_0^\\infty dt\\; e^{-t}t^{n-1/4}e^{2 \\sqrt{t4x^2/3}}$$\n",
    "or\n",
    "$$e^{-2x^2/3}L_n(-4x^2/3)\\sim\\frac{e^{-2x^2/3}}{n!\\sqrt{4\\pi x}}(3/4)^{1/4}\\int_0^\\infty dt\\; e^{-(\\sqrt{t}-\\sqrt{4x^2/3})^2}t^{n-1/4}$$"
   ]
  },
  {
   "cell_type": "markdown",
   "metadata": {},
   "source": [
    "For large $n$ the integrand is localized around $x=\\sqrt{n}$. We extend the integrand, and change vars to $s=\\sqrt{t}$, $ds=dt/2\\sqrt{t}$, or $dt=2sds$.\n",
    "Then, neglecting the $1/2$ for large $n$\n",
    "$$e^{-2x^2/3}L_n(-4x^2/3)\\sim\\frac{e^{-2x^2/3}}{n!\\sqrt{\\pi x}}(3/4)^{1/4}\\int_{-\\infty}^\\infty ds\\; e^{-(s-\\sqrt{4x^2/3})^2}s^{2n+3/4}=\\frac{e^{-2x^2/3}}{n!\\sqrt{\\pi x}}(3/4)^{1/4}\\int_{-\\infty}^\\infty ds\\; e^{-s^2}\\left(s+\\sqrt{4x^2/3}\\right)^{2n+3/4}$$\n",
    "Have\n",
    "$$\\int_{-\\infty}^\\infty ds\\; e^{-s^2}s^{2n}=\\Gamma(n+1/2),$$ and since $x\\sim \\sqrt{n}$, have \n",
    "$$\\int_{-\\infty}^\\infty ds\\; e^{-s^2}\\sqrt{4x^2/3}^{2n}\\sim \\sqrt{\\pi}n^n\\left(\\frac{4}{3}\\right)^n$$\n",
    "and this will beat the factorial term. "
   ]
  },
  {
   "cell_type": "markdown",
   "metadata": {},
   "source": [
    "Hence for large $n$, asymptotic form is\n",
    "$$e^{-2x^2/3}L_n(-4x^2/3)\\sim \\frac{e^{-2x^2/3}x^{2n}}{n!}\\left(\\frac{4}{3}\\right)^n$$\n",
    "and the distribution becomes\n",
    "$$P_n(x)\\sim\\frac{e^{-2x^2/3}x^{2n+1}}{n!}\\left(\\frac{2}{3}\\right)^{2n}$$"
   ]
  },
  {
   "cell_type": "code",
   "execution_count": null,
   "metadata": {},
   "outputs": [],
   "source": [
    "weighted_hist(x; kws...) = PyPlot.plt[:hist](x; weights=ones(length(x))/length(x), kws...)"
   ]
  }
 ],
 "metadata": {
  "kernelspec": {
   "display_name": "Julia 0.6.2",
   "language": "julia",
   "name": "julia-0.6"
  },
  "language_info": {
   "file_extension": ".jl",
   "mimetype": "application/julia",
   "name": "julia",
   "version": "0.6.2"
  }
 },
 "nbformat": 4,
 "nbformat_minor": 2
}
