{
 "cells": [
  {
   "cell_type": "markdown",
   "metadata": {},
   "source": [
    "Sampling single mode initial states using methods presented in the article\n",
    "- [Olsen, Bradley, Opt. Comm. 282 (2009) 3924-3929](https://doi.org/10.1016/j.optcom.2009.06.033); errata [Olsen, Lewis-Swan, Bradley, Opt. Comm. 370 (2016) 327-328](https://doi.org/10.1016/j.optcom.2016.02.068)\n",
    "\n",
    "We also sample some new distributions:\n",
    "- fock state for +W\n",
    "- thermal state for +P"
   ]
  },
  {
   "cell_type": "code",
   "execution_count": 1,
   "metadata": {},
   "outputs": [
    {
     "name": "stderr",
     "output_type": "stream",
     "text": [
      "\u001b[1m\u001b[36mINFO: \u001b[39m\u001b[22m\u001b[36mRecompiling stale cache file /Users/abradley/.julia/lib/v0.6/PhaseSpaceTools.ji for module PhaseSpaceTools.\n",
      "\u001b[39m"
     ]
    }
   ],
   "source": [
    "using PhaseSpaceTools, PyPlot, QuadGK"
   ]
  },
  {
   "cell_type": "code",
   "execution_count": 3,
   "metadata": {},
   "outputs": [
    {
     "name": "stdout",
     "output_type": "stream",
     "text": [
      "search: \u001b[1mc\u001b[22m\u001b[1mo\u001b[22m\u001b[1mh\u001b[22m\u001b[1me\u001b[22m\u001b[1mr\u001b[22m\u001b[1me\u001b[22m\u001b[1mn\u001b[22m\u001b[1mt\u001b[22m \u001b[1mc\u001b[22m\u001b[1mo\u001b[22m\u001b[1mh\u001b[22m\u001b[1me\u001b[22m\u001b[1mr\u001b[22m\u001b[1me\u001b[22m\n",
      "\n"
     ]
    },
    {
     "data": {
      "text/markdown": [
       "```julia\n",
       "a,ā = coherent(β,N;dist)\n",
       "```\n",
       "\n",
       "samples phase space distribution for coherent state\n",
       "\n",
       "`β` is coherent amplitude (complex)\n",
       "\n",
       "`N` is number of samples\n",
       "\n",
       "`dist` is distrubtion. Can be either `+P` or `W`\n",
       "\n",
       "For a coherent state in +P the distribution is just a point on the complex plane at the position of the coherent amplitude. Default (no value for dist) will give +P\n"
      ],
      "text/plain": [
       "```julia\n",
       "a,ā = coherent(β,N;dist)\n",
       "```\n",
       "\n",
       "samples phase space distribution for coherent state\n",
       "\n",
       "`β` is coherent amplitude (complex)\n",
       "\n",
       "`N` is number of samples\n",
       "\n",
       "`dist` is distrubtion. Can be either `+P` or `W`\n",
       "\n",
       "For a coherent state in +P the distribution is just a point on the complex plane at the position of the coherent amplitude. Default (no value for dist) will give +P\n"
      ]
     },
     "execution_count": 3,
     "metadata": {},
     "output_type": "execute_result"
    }
   ],
   "source": [
    "?coherent"
   ]
  },
  {
   "cell_type": "code",
   "execution_count": 2,
   "metadata": {},
   "outputs": [
    {
     "data": {
      "image/png": "[encoded data removed]",
      "text/plain": [
       "PyPlot.Figure(PyObject <matplotlib.figure.Figure object at 0x131f34850>)"
      ]
     },
     "metadata": {},
     "output_type": "display_data"
    },
    {
     "name": "stdout",
     "output_type": "stream",
     "text": [
      "99.68128004294816 + 0.0im\n"
     ]
    }
   ],
   "source": [
    "b=10\n",
    "N=1000\n",
    "a,ā = coherent(b,N,dist=\"W\")\n",
    "figure(figsize=(2,2))\n",
    "scatter(real(a),imag(a),s=1,c=\"blue\")\n",
    "axis(\"square\")\n",
    "axis([-20,20,-20,20]);\n",
    "println(mean(a.*ā)-.5)"
   ]
  },
  {
   "cell_type": "code",
   "execution_count": 6,
   "metadata": {},
   "outputs": [
    {
     "name": "stdout",
     "output_type": "stream",
     "text": [
      "search: \u001b[1mt\u001b[22m\u001b[1mh\u001b[22m\u001b[1me\u001b[22m\u001b[1mr\u001b[22m\u001b[1mm\u001b[22m\u001b[1ma\u001b[22m\u001b[1ml\u001b[22m\n",
      "\n"
     ]
    },
    {
     "data": {
      "text/markdown": [
       "```julia\n",
       "a,ā = thermal(β,n̄,N;dist)\n",
       "```\n",
       "\n",
       "samples phase space distribution for a thermal state:\n",
       "\n",
       "`β` is complex displacement\n",
       "\n",
       "`n̄` is thermal average population\n",
       "\n",
       "`N` is number of samples\n",
       "\n",
       "`dist` is the distribution. Can be `P`, `Q` or `W`\n"
      ],
      "text/plain": [
       "```julia\n",
       "a,ā = thermal(β,n̄,N;dist)\n",
       "```\n",
       "\n",
       "samples phase space distribution for a thermal state:\n",
       "\n",
       "`β` is complex displacement\n",
       "\n",
       "`n̄` is thermal average population\n",
       "\n",
       "`N` is number of samples\n",
       "\n",
       "`dist` is the distribution. Can be `P`, `Q` or `W`\n"
      ]
     },
     "execution_count": 6,
     "metadata": {},
     "output_type": "execute_result"
    }
   ],
   "source": [
    "?thermal"
   ]
  },
  {
   "cell_type": "code",
   "execution_count": 3,
   "metadata": {},
   "outputs": [
    {
     "data": {
      "image/png": "[encoded data removed]",
      "text/plain": [
       "PyPlot.Figure(PyObject <matplotlib.figure.Figure object at 0x1340895d0>)"
      ]
     },
     "metadata": {},
     "output_type": "display_data"
    },
    {
     "data": {
      "text/plain": [
       "10.01259411134022 + 0.0im"
      ]
     },
     "execution_count": 3,
     "metadata": {},
     "output_type": "execute_result"
    }
   ],
   "source": [
    "a,ā = thermal(0,10,5000;dist=\"P\")\n",
    "figure(figsize=(2,2))\n",
    "scatter(real(a),imag(a),s=1,c=\"blue\")\n",
    "axis(\"square\")\n",
    "axis([-20,20,-20,20]);\n",
    "mean(a.*ā)"
   ]
  },
  {
   "cell_type": "code",
   "execution_count": 4,
   "metadata": {},
   "outputs": [
    {
     "data": {
      "image/png": "[encoded data removed]",
      "text/plain": [
       "PyPlot.Figure(PyObject <matplotlib.figure.Figure object at 0x13429c310>)"
      ]
     },
     "metadata": {},
     "output_type": "display_data"
    },
    {
     "data": {
      "text/plain": [
       "9.910522506467501 + 0.0im"
      ]
     },
     "execution_count": 4,
     "metadata": {},
     "output_type": "execute_result"
    }
   ],
   "source": [
    "a,ā = thermal(0,10,5000;dist=\"W\")\n",
    "figure(figsize=(2,2))\n",
    "scatter(real(a),imag(ā),s=1,c=\"blue\")\n",
    "axis(\"square\")\n",
    "axis([-20,20,-20,20]);\n",
    "mean(a.*ā)-.5"
   ]
  },
  {
   "cell_type": "code",
   "execution_count": 9,
   "metadata": {},
   "outputs": [
    {
     "name": "stdout",
     "output_type": "stream",
     "text": [
      "search: \u001b[1ms\u001b[22m\u001b[1mq\u001b[22m\u001b[1mu\u001b[22m\u001b[1me\u001b[22m\u001b[1me\u001b[22m\u001b[1mz\u001b[22m\u001b[1me\u001b[22m\u001b[1md\u001b[22m \u001b[1ms\u001b[22m\u001b[1mq\u001b[22m\u001b[1mu\u001b[22m\u001b[1me\u001b[22m\u001b[1me\u001b[22m\u001b[1mz\u001b[22m\u001b[1me\u001b[22m\n",
      "\n"
     ]
    },
    {
     "data": {
      "text/markdown": [
       "```julia\n",
       "a,ā = squeezed(β,ϵ,N;dist)\n",
       "```\n",
       "\n",
       "samples phase space distribution for a squeezed state\n",
       "\n",
       "`β` is coherent amplitude\n",
       "\n",
       "`ϵ` is (complex) squeezing parameter\n",
       "\n",
       "`N` is number of samples\n",
       "\n",
       "`dist` is the distribution; can be `W` or `+P`\n"
      ],
      "text/plain": [
       "```julia\n",
       "a,ā = squeezed(β,ϵ,N;dist)\n",
       "```\n",
       "\n",
       "samples phase space distribution for a squeezed state\n",
       "\n",
       "`β` is coherent amplitude\n",
       "\n",
       "`ϵ` is (complex) squeezing parameter\n",
       "\n",
       "`N` is number of samples\n",
       "\n",
       "`dist` is the distribution; can be `W` or `+P`\n"
      ]
     },
     "execution_count": 9,
     "metadata": {},
     "output_type": "execute_result"
    }
   ],
   "source": [
    "?squeezed"
   ]
  },
  {
   "cell_type": "code",
   "execution_count": 6,
   "metadata": {},
   "outputs": [
    {
     "data": {
      "image/png": "[encoded data removed]",
      "text/plain": [
       "PyPlot.Figure(PyObject <matplotlib.figure.Figure object at 0x13453a390>)"
      ]
     },
     "metadata": {},
     "output_type": "display_data"
    },
    {
     "name": "stdout",
     "output_type": "stream",
     "text": [
      "104.4230337701123 + 0.0im\n",
      "104.53383099788888\n"
     ]
    }
   ],
   "source": [
    "β = 10\n",
    "ϕ = π/16\n",
    "r = 1.5\n",
    "ϵ = r*exp(2*im*ϕ)\n",
    "N = 10000\n",
    "a,ā = squeezed(β,ϵ,N,dist=\"W\")\n",
    "figure(figsize=(2,2))\n",
    "scatter(real(a),imag(ā),s=1,c=\"blue\")\n",
    "axis(\"square\")\n",
    "axis([-20,20,-20,20]);\n",
    "println(mean(a.*ā)-.5)\n",
    "println(sinh(abs(ϵ)).^2+abs2(β))"
   ]
  },
  {
   "cell_type": "code",
   "execution_count": 8,
   "metadata": {},
   "outputs": [
    {
     "data": {
      "image/png": "[encoded data removed]",
      "text/plain": [
       "PyPlot.Figure(PyObject <matplotlib.figure.Figure object at 0x1344e30d0>)"
      ]
     },
     "metadata": {},
     "output_type": "display_data"
    },
    {
     "name": "stdout",
     "output_type": "stream",
     "text": [
      "113.09078247103137\n",
      "113.15411641800824\n"
     ]
    }
   ],
   "source": [
    "β = 10\n",
    "ϕ = π/16\n",
    "r = 2\n",
    "ϵ = r*exp(2*im*ϕ)\n",
    "N = 10000\n",
    "a,ā = squeezed(β,ϵ,N;dist=\"+P\")\n",
    "figure(figsize=(2,2))\n",
    "scatter(real(a),imag(a),s=1,c=\"blue\")\n",
    "axis(\"square\")\n",
    "axis([-20,20,-20,20]);\n",
    "println(real(mean(a.*ā)))\n",
    "println(sinh(abs(ϵ)).^2+abs2(β))"
   ]
  },
  {
   "cell_type": "code",
   "execution_count": 12,
   "metadata": {},
   "outputs": [
    {
     "name": "stdout",
     "output_type": "stream",
     "text": [
      "search: \u001b[1mf\u001b[22m\u001b[1mo\u001b[22m\u001b[1mc\u001b[22m\u001b[1mk\u001b[22m \u001b[1mf\u001b[22m\u001b[1mo\u001b[22mrea\u001b[1mc\u001b[22mh Uni\u001b[1mf\u001b[22m\u001b[1mo\u001b[22mrmS\u001b[1mc\u001b[22maling \u001b[1mf\u001b[22muncti\u001b[1mo\u001b[22mnlo\u001b[1mc\u001b[22m @\u001b[1mf\u001b[22muncti\u001b[1mo\u001b[22mnlo\u001b[1mc\u001b[22m\n",
      "\n"
     ]
    },
    {
     "data": {
      "text/markdown": [
       "```julia\n",
       "a,ā = fock(n,N;dist)\n",
       "```\n",
       "\n",
       "samples phase space distribution for a Fock state `n` is number of fock state\n",
       "\n",
       "`N` is number of samples\n",
       "\n",
       "`dist` is distribution. Can be either `W`, `+W`, or `+P`(default)\n"
      ],
      "text/plain": [
       "```julia\n",
       "a,ā = fock(n,N;dist)\n",
       "```\n",
       "\n",
       "samples phase space distribution for a Fock state `n` is number of fock state\n",
       "\n",
       "`N` is number of samples\n",
       "\n",
       "`dist` is distribution. Can be either `W`, `+W`, or `+P`(default)\n"
      ]
     },
     "execution_count": 12,
     "metadata": {},
     "output_type": "execute_result"
    }
   ],
   "source": [
    "?fock"
   ]
  },
  {
   "cell_type": "code",
   "execution_count": 9,
   "metadata": {},
   "outputs": [
    {
     "data": {
      "image/png": "[encoded data removed]",
      "text/plain": [
       "PyPlot.Figure(PyObject <matplotlib.figure.Figure object at 0x135f7ba50>)"
      ]
     },
     "metadata": {},
     "output_type": "display_data"
    },
    {
     "name": "stdout",
     "output_type": "stream",
     "text": [
      "100.0007841361567 + 0.0im\n",
      "100\n"
     ]
    }
   ],
   "source": [
    "n = 100\n",
    "N = 10000\n",
    "a,ā = fock(n,N;dist=\"W\")\n",
    "figure(figsize=(2,2))\n",
    "scatter(real(a),imag(ā),s=.5,c=\"blue\")\n",
    "axis(\"square\")\n",
    "axis([-20,20,-20,20]);\n",
    "println(mean(a.*ā)-.5)\n",
    "println(n)"
   ]
  },
  {
   "cell_type": "code",
   "execution_count": 10,
   "metadata": {},
   "outputs": [
    {
     "data": {
      "image/png": "[encoded data removed]",
      "text/plain": [
       "PyPlot.Figure(PyObject <matplotlib.figure.Figure object at 0x122b6dd90>)"
      ]
     },
     "metadata": {},
     "output_type": "display_data"
    },
    {
     "name": "stdout",
     "output_type": "stream",
     "text": [
      "160.01148376986686 + 0.04894611287211561im\n",
      "160\n"
     ]
    }
   ],
   "source": [
    "n = 160\n",
    "N = 10000\n",
    "a,ā = fock(n,N;dist=\"+P\")\n",
    "figure(figsize=(2,2))\n",
    "scatter(real(a),imag(a),s=.5,c=\"blue\")\n",
    "axis(\"square\")\n",
    "axis([-20,20,-20,20]);\n",
    "println(mean(a.*ā))\n",
    "println(n)"
   ]
  },
  {
   "cell_type": "code",
   "execution_count": 11,
   "metadata": {},
   "outputs": [
    {
     "data": {
      "image/png": "[encoded data removed]",
      "text/plain": [
       "PyPlot.Figure(PyObject <matplotlib.figure.Figure object at 0x1364fde50>)"
      ]
     },
     "metadata": {},
     "output_type": "display_data"
    },
    {
     "name": "stdout",
     "output_type": "stream",
     "text": [
      "160.35888799153562 - 0.33037643227446656im\n",
      "160\n"
     ]
    }
   ],
   "source": [
    "a,ā = fock(n,N,dist=\"+W\")\n",
    "figure(figsize=(2,2))\n",
    "scatter(real(a),imag(a),s=.5,c=\"blue\")\n",
    "axis(\"square\")\n",
    "axis([-20,20,-20,20]);\n",
    "println(mean(a.*ā))\n",
    "println(n)"
   ]
  },
  {
   "cell_type": "code",
   "execution_count": 12,
   "metadata": {},
   "outputs": [
    {
     "data": {
      "image/png": "[encoded data removed]",
      "text/plain": [
       "PyPlot.Figure(PyObject <matplotlib.figure.Figure object at 0x13422fa10>)"
      ]
     },
     "metadata": {},
     "output_type": "display_data"
    },
    {
     "name": "stdout",
     "output_type": "stream",
     "text": [
      "n = 1000000\n",
      "<a⁺a> = 999994.4102941402 - 7.493724488645668im\n"
     ]
    }
   ],
   "source": [
    "#push n and N\n",
    "#for large n>320 uses asymptotic expansion\n",
    "n=1000000\n",
    "N=50000\n",
    "a,ā = fock(n,N,dist=\"+W\")\n",
    "figure(figsize=(2,2))\n",
    "scatter(real(a),imag(a),s=.5,c=\"blue\")\n",
    "axis(\"square\")\n",
    "axis([-sqrt(2n),sqrt(2n),-sqrt(2n),sqrt(2n)]);\n",
    "println(\"n = \", n)\n",
    "println(\"<a⁺a> = \", mean(ā.*a))"
   ]
  },
  {
   "cell_type": "code",
   "execution_count": 25,
   "metadata": {},
   "outputs": [
    {
     "name": "stdout",
     "output_type": "stream",
     "text": [
      "search: \u001b[1mc\u001b[22m\u001b[1mr\u001b[22m\u001b[1me\u001b[22m\u001b[1ms\u001b[22m\u001b[1mc\u001b[22m\u001b[1me\u001b[22m\u001b[1mn\u001b[22m\u001b[1mt\u001b[22m\n",
      "\n"
     ]
    },
    {
     "data": {
      "text/markdown": [
       "```julia\n",
       "a,ā = crescent(β,ϵ,q,N;dist)\n",
       "```\n",
       "\n",
       "Sample phase space distribution for a crescent state\n",
       "\n",
       "`β` is coherent amplitude\n",
       "\n",
       "`ϵ` is squeeze paramter\n",
       "\n",
       "`q` is shearing parameter\n",
       "\n",
       "`N` is number of samples\n",
       "\n",
       "`dist` is distribution. Can be either `Q` or `+P`\n"
      ],
      "text/plain": [
       "```julia\n",
       "a,ā = crescent(β,ϵ,q,N;dist)\n",
       "```\n",
       "\n",
       "Sample phase space distribution for a crescent state\n",
       "\n",
       "`β` is coherent amplitude\n",
       "\n",
       "`ϵ` is squeeze paramter\n",
       "\n",
       "`q` is shearing parameter\n",
       "\n",
       "`N` is number of samples\n",
       "\n",
       "`dist` is distribution. Can be either `Q` or `+P`\n"
      ]
     },
     "execution_count": 25,
     "metadata": {},
     "output_type": "execute_result"
    }
   ],
   "source": [
    "?crescent"
   ]
  },
  {
   "cell_type": "code",
   "execution_count": 26,
   "metadata": {},
   "outputs": [
    {
     "data": {
      "image/png": "[encoded data removed]",
      "text/plain": [
       "PyPlot.Figure(PyObject <matplotlib.figure.Figure object at 0x141036f90>)"
      ]
     },
     "metadata": {},
     "output_type": "display_data"
    },
    {
     "name": "stdout",
     "output_type": "stream",
     "text": [
      "99.92816197964743 + 0.0im\n",
      "100.0\n"
     ]
    }
   ],
   "source": [
    "β = 10\n",
    "ϵ = 0\n",
    "q = .5\n",
    "N = 5000\n",
    "a,ā = crescent(β,ϵ,q,N;dist=\"W\")\n",
    "figure(figsize=(2,2))\n",
    "scatter(real(a),imag(a),s=1,c=\"blue\")\n",
    "axis(\"square\")\n",
    "axis([-20,20,-20,20]);\n",
    "println(mean(a.*ā)-.5)\n",
    "#not quite the right moments for crescent state, but a sanity check of sorts:\n",
    "println(sinh(abs(ϵ)).^2+abs2(β)) "
   ]
  },
  {
   "cell_type": "code",
   "execution_count": 27,
   "metadata": {},
   "outputs": [
    {
     "data": {
      "image/png": "[encoded data removed]",
      "text/plain": [
       "PyPlot.Figure(PyObject <matplotlib.figure.Figure object at 0x1416b5310>)"
      ]
     },
     "metadata": {},
     "output_type": "display_data"
    },
    {
     "name": "stdout",
     "output_type": "stream",
     "text": [
      "99.98526198696538 + 0.0im\n",
      "100.0\n"
     ]
    }
   ],
   "source": [
    "β = 10\n",
    "ϵ = 0\n",
    "q = .4\n",
    "N = 5000\n",
    "a,ā = crescent(β,ϵ,q,N;dist=\"Q\")\n",
    "figure(figsize=(2,2))\n",
    "scatter(real(a),imag(a),s=1,c=\"blue\")\n",
    "axis(\"square\")\n",
    "axis([-20,20,-20,20]);\n",
    "println(mean(a.*ā)-1)\n",
    "println(sinh(abs(ϵ)).^2+abs2(β)) #not quite the right moments for crescent state, but a check of sorts"
   ]
  },
  {
   "cell_type": "code",
   "execution_count": 28,
   "metadata": {
    "scrolled": true
   },
   "outputs": [
    {
     "data": {
      "image/png": "[encoded data removed]",
      "text/plain": [
       "PyPlot.Figure(PyObject <matplotlib.figure.Figure object at 0x14065a710>)"
      ]
     },
     "metadata": {},
     "output_type": "display_data"
    },
    {
     "name": "stdout",
     "output_type": "stream",
     "text": [
      "100.18333054090145 + 0.2120342238795661im\n",
      "100.0\n"
     ]
    }
   ],
   "source": [
    "β = 10\n",
    "ϵ = 0\n",
    "q = .4\n",
    "N = 5000\n",
    "a,ā = crescent(β,ϵ,q,N;dist=\"+P\")\n",
    "figure(figsize=(2,2))\n",
    "scatter(real(a),imag(a),s=1,c=\"blue\")\n",
    "axis(\"square\")\n",
    "axis([-20,20,-20,20]);\n",
    "println(mean(a.*ā))\n",
    "println(sinh(abs(ϵ)).^2+abs2(β)) #not quite the right moments for crescent state, but a check of sorts"
   ]
  },
  {
   "cell_type": "markdown",
   "metadata": {
    "collapsed": true
   },
   "source": [
    "# Implement fock states for +W\n",
    "- currently $|n\\rangle$ limited to states with $n<=300$.\n",
    "- asymptotic expansionc for large $n$."
   ]
  },
  {
   "cell_type": "markdown",
   "metadata": {},
   "source": [
    "### Distribution to sample\n",
    "Distribution \n",
    "$$P_n(x)=\\frac{4}{3}e^{-2x^2/3}L_n(-4x^2/3)\\frac{x}{3^n}$$ "
   ]
  },
  {
   "cell_type": "markdown",
   "metadata": {},
   "source": [
    "### Asymptotic expansion\n",
    "$$L_n(-x)=\\frac{e^{-x/2+2\\sqrt{x(n+1)}}}{2\\sqrt{\\pi}(x(n+1))^{1/4}}$$"
   ]
  },
  {
   "cell_type": "markdown",
   "metadata": {},
   "source": [
    "and hence\n",
    "$$P_n(x)\\sim\\frac{2x}{3^{n+1}}\\frac{e^{-4x^2/3+2\\sqrt{4x^2/3(n+1)}}}{\\sqrt{\\pi}(x(n+1))^{1/4}}$$"
   ]
  },
  {
   "cell_type": "markdown",
   "metadata": {},
   "source": [
    "### Asymptotic\n",
    "Expansion\n",
    "$$n!L_n(-x)=e^{-x}\\int_0^\\infty dt\\; e^{-t}t^nI_0(2\\sqrt{tx})$$\n",
    "Hence\n",
    "$$e^{-2x^2/3}L_n(-4x^2/3)=\\frac{e^{-2x^2}}{n!}\\int_0^\\infty dt\\; e^{-t}t^nI_0(2\\sqrt{t4x^2/3})$$"
   ]
  },
  {
   "cell_type": "markdown",
   "metadata": {},
   "source": [
    "Then use asymptotic ($n\\gg 1$, $x\\sim \\sqrt{n}$)\n",
    "$$I_0(x)\\sim \\frac{e^x}{\\sqrt{2\\pi x}}$$\n",
    "and we have\n",
    "$$I_0(2 \\sqrt{t4x^2/3})\\sim \\frac{e^{2 \\sqrt{t4x^2/3}}}{\\sqrt{4\\pi \\sqrt{4tx^2/3}}}$$"
   ]
  },
  {
   "cell_type": "markdown",
   "metadata": {},
   "source": [
    "to give\n",
    "$$e^{-2x^2/3}L_n(-4x^2/3)\\sim\\frac{e^{-2x^2}}{n!\\sqrt{4\\pi x}}(3/4)^{1/4}\\int_0^\\infty dt\\; e^{-t}t^{n-1/4}e^{2 \\sqrt{t4x^2/3}}$$\n",
    "or\n",
    "$$e^{-2x^2/3}L_n(-4x^2/3)\\sim\\frac{e^{-2x^2/3}}{n!\\sqrt{4\\pi x}}(3/4)^{1/4}\\int_0^\\infty dt\\; e^{-(\\sqrt{t}-\\sqrt{4x^2/3})^2}t^{n-1/4}$$"
   ]
  },
  {
   "cell_type": "markdown",
   "metadata": {},
   "source": [
    "For large $n$ the integrand is localized around $x=\\sqrt{n}$. We extend the integrand, and change vars to $s=\\sqrt{t}$, $ds=dt/2\\sqrt{t}$, or $dt=2sds$.\n",
    "Then, neglecting the $1/2$ for large $n$\n",
    "$$e^{-2x^2/3}L_n(-4x^2/3)\\sim\\frac{e^{-2x^2/3}}{n!\\sqrt{\\pi x}}(3/4)^{1/4}\\int_{-\\infty}^\\infty ds\\; e^{-(s-\\sqrt{4x^2/3})^2}s^{2n+3/4}=\\frac{e^{-2x^2/3}}{n!\\sqrt{\\pi x}}(3/4)^{1/4}\\int_{-\\infty}^\\infty ds\\; e^{-s^2}\\left(s+\\sqrt{4x^2/3}\\right)^{2n+3/4}$$\n",
    "Have\n",
    "$$\\int_{-\\infty}^\\infty ds\\; e^{-s^2}s^{2n}=\\Gamma(n+1/2),$$ and since $x\\sim \\sqrt{n}$, have \n",
    "$$\\int_{-\\infty}^\\infty ds\\; e^{-s^2}\\sqrt{4x^2/3}^{2n}\\sim \\sqrt{\\pi}n^n\\left(\\frac{4}{3}\\right)^n$$\n",
    "and this will beat the factorial term. "
   ]
  },
  {
   "cell_type": "markdown",
   "metadata": {},
   "source": [
    "Hence for large $n$, asymptotic form is\n",
    "$$e^{-2x^2/3}L_n(-4x^2/3)\\sim \\frac{e^{-2x^2/3}x^{2n}}{n!}\\left(\\frac{4}{3}\\right)^n$$\n",
    "and the distribution becomes\n",
    "$$P_n(x)\\sim\\frac{e^{-2x^2/3}x^{2n+1}}{n!}\\left(\\frac{2}{3}\\right)^{2n}$$"
   ]
  },
  {
   "cell_type": "code",
   "execution_count": null,
   "metadata": {},
   "outputs": [],
   "source": [
    "weighted_hist(x; kws...) = PyPlot.plt[:hist](x; weights=ones(length(x))/length(x), kws...)"
   ]
  },
  {
   "cell_type": "code",
   "execution_count": null,
   "metadata": {},
   "outputs": [],
   "source": [
    "n̄ = mean(a.*ā)-.5"
   ]
  },
  {
   "cell_type": "code",
   "execution_count": null,
   "metadata": {},
   "outputs": [],
   "source": [
    "Vn = mean(a.^2.*ā.^2) - n̄ - n̄^2 #+P"
   ]
  },
  {
   "cell_type": "code",
   "execution_count": 31,
   "metadata": {},
   "outputs": [
    {
     "data": {
      "text/plain": [
       "7.148333333333333183175669252780911687852897321888603691600313603202268979182043e-01"
      ]
     },
     "execution_count": 31,
     "metadata": {},
     "output_type": "execute_result"
    }
   ],
   "source": [
    "#other ways to call laguerre: high precision\n",
    "using PyCall\n",
    "@pyimport mpmath as mp\n",
    "lagbig(x,n)=mp.laguerre(n,0,x)\n",
    "lagbig(.1,3)\n",
    "#@pyimport scipy as sp\n",
    "#@pyimport scipy.special as sps\n",
    "#laguerre(x,n)=sps.eval_laguerre(n,x)"
   ]
  }
 ],
 "metadata": {
  "kernelspec": {
   "display_name": "Julia 0.6.2",
   "language": "julia",
   "name": "julia-0.6"
  },
  "language_info": {
   "file_extension": ".jl",
   "mimetype": "application/julia",
   "name": "julia",
   "version": "0.6.2"
  }
 },
 "nbformat": 4,
 "nbformat_minor": 2
}
