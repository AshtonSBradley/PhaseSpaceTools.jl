{
 "cells": [
  {
   "cell_type": "markdown",
   "metadata": {},
   "source": [
    "Sampling single mode initial states using methods presented in the article\n",
    "- [Olsen, Bradley, Opt. Comm. 282 (2009) 3924-3929](https://doi.org/10.1016/j.optcom.2009.06.033); errata [Olsen, Lewis-Swan, Bradley, Opt. Comm. 370 (2016) 327-328](https://doi.org/10.1016/j.optcom.2016.02.068)\n",
    "\n",
    "We also sample some new distributions:\n",
    "- fock state for +W\n",
    "- thermal state for +P"
   ]
  },
  {
   "cell_type": "code",
   "execution_count": 1,
   "metadata": {},
   "outputs": [
    {
     "name": "stderr",
     "output_type": "stream",
     "text": [
      "\u001b[1m\u001b[36mINFO: \u001b[39m\u001b[22m\u001b[36mRecompiling stale cache file /Users/abradley/.julia/lib/v0.6/DataStructures.ji for module DataStructures.\n",
      "\u001b[39m\u001b[1m\u001b[36mINFO: \u001b[39m\u001b[22m\u001b[36mRecompiling stale cache file /Users/abradley/.julia/lib/v0.6/Revise.ji for module Revise.\n",
      "\u001b[39m\u001b[1m\u001b[36mINFO: \u001b[39m\u001b[22m\u001b[36mRecompiling stale cache file /Users/abradley/.julia/lib/v0.6/PhaseSpaceTools.ji for module PhaseSpaceTools.\n",
      "\u001b[39m"
     ]
    }
   ],
   "source": [
    "using PhaseSpaceTools, PyPlot"
   ]
  },
  {
   "cell_type": "code",
   "execution_count": 3,
   "metadata": {},
   "outputs": [
    {
     "name": "stdout",
     "output_type": "stream",
     "text": [
      "search: \u001b[1mc\u001b[22m\u001b[1mo\u001b[22m\u001b[1mh\u001b[22m\u001b[1me\u001b[22m\u001b[1mr\u001b[22m\u001b[1me\u001b[22m\u001b[1mn\u001b[22m\u001b[1mt\u001b[22m \u001b[1mc\u001b[22m\u001b[1mo\u001b[22m\u001b[1mh\u001b[22m\u001b[1me\u001b[22m\u001b[1mr\u001b[22m\u001b[1me\u001b[22m\n",
      "\n"
     ]
    },
    {
     "data": {
      "text/markdown": [
       "```julia\n",
       "a,ā = coherent(β,N;dist)\n",
       "```\n",
       "\n",
       "samples phase space distribution for coherent state\n",
       "\n",
       "`β` is coherent amplitude (complex)\n",
       "\n",
       "`N` is number of samples\n",
       "\n",
       "`dist` is distrubtion. Can be either `+P` or `W`\n",
       "\n",
       "For a coherent state in +P the distribution is just a point on the complex plane at the position of the coherent amplitude. Default (no value for dist) will give +P\n"
      ],
      "text/plain": [
       "```julia\n",
       "a,ā = coherent(β,N;dist)\n",
       "```\n",
       "\n",
       "samples phase space distribution for coherent state\n",
       "\n",
       "`β` is coherent amplitude (complex)\n",
       "\n",
       "`N` is number of samples\n",
       "\n",
       "`dist` is distrubtion. Can be either `+P` or `W`\n",
       "\n",
       "For a coherent state in +P the distribution is just a point on the complex plane at the position of the coherent amplitude. Default (no value for dist) will give +P\n"
      ]
     },
     "execution_count": 3,
     "metadata": {},
     "output_type": "execute_result"
    }
   ],
   "source": [
    "?coherent"
   ]
  },
  {
   "cell_type": "code",
   "execution_count": 4,
   "metadata": {},
   "outputs": [
    {
     "data": {
      "image/png": "[encoded data removed]",
      "text/plain": [
       "PyPlot.Figure(PyObject <matplotlib.figure.Figure object at 0x127b93fd0>)"
      ]
     },
     "metadata": {},
     "output_type": "display_data"
    },
    {
     "name": "stdout",
     "output_type": "stream",
     "text": [
      "100.29014973589459 + 0.0im\n"
     ]
    }
   ],
   "source": [
    "b=10\n",
    "N=1000\n",
    "a,ā = coherent(b,N,dist=\"W\")\n",
    "figure(figsize=(2,2))\n",
    "scatter(real(a),imag(a),s=1,c=\"blue\")\n",
    "axis(\"square\")\n",
    "axis([-20,20,-20,20]);\n",
    "println(mean(a.*ā)-.5)"
   ]
  },
  {
   "cell_type": "code",
   "execution_count": 5,
   "metadata": {},
   "outputs": [
    {
     "name": "stdout",
     "output_type": "stream",
     "text": [
      "search: \u001b[1mt\u001b[22m\u001b[1mh\u001b[22m\u001b[1me\u001b[22m\u001b[1mr\u001b[22m\u001b[1mm\u001b[22m\u001b[1ma\u001b[22m\u001b[1ml\u001b[22m\n",
      "\n"
     ]
    },
    {
     "data": {
      "text/markdown": [
       "```julia\n",
       "a,ā = thermal(β,n̄,N;dist)\n",
       "```\n",
       "\n",
       "samples phase space distribution for a thermal state:\n",
       "\n",
       "`β` is complex displacement\n",
       "\n",
       "`n̄` is thermal average population\n",
       "\n",
       "`N` is number of samples\n",
       "\n",
       "`dist` is the distribution. Can be `P`, `Q` or `W`\n"
      ],
      "text/plain": [
       "```julia\n",
       "a,ā = thermal(β,n̄,N;dist)\n",
       "```\n",
       "\n",
       "samples phase space distribution for a thermal state:\n",
       "\n",
       "`β` is complex displacement\n",
       "\n",
       "`n̄` is thermal average population\n",
       "\n",
       "`N` is number of samples\n",
       "\n",
       "`dist` is the distribution. Can be `P`, `Q` or `W`\n"
      ]
     },
     "execution_count": 5,
     "metadata": {},
     "output_type": "execute_result"
    }
   ],
   "source": [
    "?thermal"
   ]
  },
  {
   "cell_type": "code",
   "execution_count": 6,
   "metadata": {},
   "outputs": [
    {
     "data": {
      "image/png": "[encoded data removed]",
      "text/plain": [
       "PyPlot.Figure(PyObject <matplotlib.figure.Figure object at 0x128b51310>)"
      ]
     },
     "metadata": {},
     "output_type": "display_data"
    },
    {
     "data": {
      "text/plain": [
       "10.074809632335516 + 0.0im"
      ]
     },
     "execution_count": 6,
     "metadata": {},
     "output_type": "execute_result"
    }
   ],
   "source": [
    "a,ā = thermal(0,10,5000;dist=\"P\")\n",
    "figure(figsize=(2,2))\n",
    "scatter(real(a),imag(a),s=1,c=\"blue\")\n",
    "axis(\"square\")\n",
    "axis([-20,20,-20,20]);\n",
    "mean(a.*ā)"
   ]
  },
  {
   "cell_type": "code",
   "execution_count": 7,
   "metadata": {},
   "outputs": [
    {
     "data": {
      "image/png": "[encoded data removed]",
      "text/plain": [
       "PyPlot.Figure(PyObject <matplotlib.figure.Figure object at 0x12f649510>)"
      ]
     },
     "metadata": {},
     "output_type": "display_data"
    },
    {
     "data": {
      "text/plain": [
       "10.21653837226724 + 0.0im"
      ]
     },
     "execution_count": 7,
     "metadata": {},
     "output_type": "execute_result"
    }
   ],
   "source": [
    "a,ā = thermal(0,10,5000;dist=\"W\")\n",
    "figure(figsize=(2,2))\n",
    "scatter(real(a),imag(ā),s=1,c=\"blue\")\n",
    "axis(\"square\")\n",
    "axis([-20,20,-20,20]);\n",
    "mean(a.*ā)-.5"
   ]
  },
  {
   "cell_type": "code",
   "execution_count": 8,
   "metadata": {},
   "outputs": [
    {
     "name": "stdout",
     "output_type": "stream",
     "text": [
      "search: \u001b[1ms\u001b[22m\u001b[1mq\u001b[22m\u001b[1mu\u001b[22m\u001b[1me\u001b[22m\u001b[1me\u001b[22m\u001b[1mz\u001b[22m\u001b[1me\u001b[22m\u001b[1md\u001b[22m \u001b[1ms\u001b[22m\u001b[1mq\u001b[22m\u001b[1mu\u001b[22m\u001b[1me\u001b[22m\u001b[1me\u001b[22m\u001b[1mz\u001b[22m\u001b[1me\u001b[22m\n",
      "\n"
     ]
    },
    {
     "data": {
      "text/markdown": [
       "```julia\n",
       "a,ā = squeezed(β,ϵ,N;dist)\n",
       "```\n",
       "\n",
       "samples phase space distribution for a squeezed state\n",
       "\n",
       "`β` is coherent amplitude\n",
       "\n",
       "`ϵ` is (complex) squeezing parameter\n",
       "\n",
       "`N` is number of samples\n",
       "\n",
       "`dist` is the distribution; can be `W` or `+P`\n"
      ],
      "text/plain": [
       "```julia\n",
       "a,ā = squeezed(β,ϵ,N;dist)\n",
       "```\n",
       "\n",
       "samples phase space distribution for a squeezed state\n",
       "\n",
       "`β` is coherent amplitude\n",
       "\n",
       "`ϵ` is (complex) squeezing parameter\n",
       "\n",
       "`N` is number of samples\n",
       "\n",
       "`dist` is the distribution; can be `W` or `+P`\n"
      ]
     },
     "execution_count": 8,
     "metadata": {},
     "output_type": "execute_result"
    }
   ],
   "source": [
    "?squeezed"
   ]
  },
  {
   "cell_type": "code",
   "execution_count": 9,
   "metadata": {},
   "outputs": [
    {
     "name": "stdout",
     "output_type": "stream",
     "text": [
      "104."
     ]
    },
    {
     "data": {
      "image/png": "[encoded data removed]",
      "text/plain": [
       "PyPlot.Figure(PyObject <matplotlib.figure.Figure object at 0x12f692ed0>)"
      ]
     },
     "metadata": {},
     "output_type": "display_data"
    },
    {
     "name": "stdout",
     "output_type": "stream",
     "text": [
      "57534276741967 + 0.0im\n",
      "104.53383099788888\n"
     ]
    }
   ],
   "source": [
    "β = 10\n",
    "ϕ = π/16\n",
    "r = 1.5\n",
    "ϵ = r*exp(2*im*ϕ)\n",
    "N = 10000\n",
    "a,ā = squeezed(β,ϵ,N,dist=\"W\")\n",
    "figure(figsize=(2,2))\n",
    "scatter(real(a),imag(ā),s=1,c=\"blue\")\n",
    "axis(\"square\")\n",
    "axis([-20,20,-20,20]);\n",
    "println(mean(a.*ā)-.5)\n",
    "println(sinh(abs(ϵ)).^2+abs2(β))"
   ]
  },
  {
   "cell_type": "code",
   "execution_count": 10,
   "metadata": {},
   "outputs": [
    {
     "data": {
      "image/png": "[encoded data removed]",
      "text/plain": [
       "PyPlot.Figure(PyObject <matplotlib.figure.Figure object at 0x12fa634d0>)"
      ]
     },
     "metadata": {},
     "output_type": "display_data"
    },
    {
     "name": "stdout",
     "output_type": "stream",
     "text": [
      "113.58106337179485\n",
      "113.15411641800824\n"
     ]
    }
   ],
   "source": [
    "β = 10\n",
    "ϕ = π/16\n",
    "r = 2\n",
    "ϵ = r*exp(2*im*ϕ)\n",
    "N = 10000\n",
    "a,ā = squeezed(β,ϵ,N;dist=\"+P\")\n",
    "figure(figsize=(2,2))\n",
    "scatter(real(a),imag(a),s=1,c=\"blue\")\n",
    "axis(\"square\")\n",
    "axis([-20,20,-20,20]);\n",
    "println(real(mean(a.*ā)))\n",
    "println(sinh(abs(ϵ)).^2+abs2(β))"
   ]
  },
  {
   "cell_type": "code",
   "execution_count": 11,
   "metadata": {},
   "outputs": [
    {
     "name": "stdout",
     "output_type": "stream",
     "text": [
      "search: \u001b[1mf\u001b[22m\u001b[1mo\u001b[22m\u001b[1mc\u001b[22m\u001b[1mk\u001b[22m \u001b[1mf\u001b[22m\u001b[1mo\u001b[22mrea\u001b[1mc\u001b[22mh Uni\u001b[1mf\u001b[22m\u001b[1mo\u001b[22mrmS\u001b[1mc\u001b[22maling \u001b[1mf\u001b[22muncti\u001b[1mo\u001b[22mnlo\u001b[1mc\u001b[22m @\u001b[1mf\u001b[22muncti\u001b[1mo\u001b[22mnlo\u001b[1mc\u001b[22m\n",
      "\n"
     ]
    },
    {
     "data": {
      "text/markdown": [
       "```julia\n",
       "a,ā = fock(n,N;dist)\n",
       "```\n",
       "\n",
       "samples phase space distribution for a Fock state `n` is number of fock state\n",
       "\n",
       "`N` is number of samples\n",
       "\n",
       "`dist` is distribution. Can be either `W`, `+W`, or `+P`(default)\n"
      ],
      "text/plain": [
       "```julia\n",
       "a,ā = fock(n,N;dist)\n",
       "```\n",
       "\n",
       "samples phase space distribution for a Fock state `n` is number of fock state\n",
       "\n",
       "`N` is number of samples\n",
       "\n",
       "`dist` is distribution. Can be either `W`, `+W`, or `+P`(default)\n"
      ]
     },
     "execution_count": 11,
     "metadata": {},
     "output_type": "execute_result"
    }
   ],
   "source": [
    "?fock"
   ]
  },
  {
   "cell_type": "code",
   "execution_count": 12,
   "metadata": {},
   "outputs": [
    {
     "name": "stdout",
     "output_type": "stream",
     "text": [
      "100."
     ]
    },
    {
     "data": {
      "image/png": "[encoded data removed]",
      "text/plain": [
       "PyPlot.Figure(PyObject <matplotlib.figure.Figure object at 0x12fa7cad0>)"
      ]
     },
     "metadata": {},
     "output_type": "display_data"
    },
    {
     "name": "stdout",
     "output_type": "stream",
     "text": [
      "00345744263402 + 0.0im\n",
      "100\n"
     ]
    }
   ],
   "source": [
    "n = 100\n",
    "N = 10000\n",
    "a,ā = fock(n,N;dist=\"W\")\n",
    "figure(figsize=(2,2))\n",
    "scatter(real(a),imag(ā),s=.5,c=\"blue\")\n",
    "axis(\"square\")\n",
    "axis([-20,20,-20,20]);\n",
    "println(mean(a.*ā)-.5)\n",
    "println(n)"
   ]
  },
  {
   "cell_type": "code",
   "execution_count": 22,
   "metadata": {},
   "outputs": [
    {
     "name": "stdout",
     "output_type": "stream",
     "text": [
      "  0.002985 seconds (33 allocations: 1.527 MiB)\n",
      "n = 320\n",
      "<â⁺â> = "
     ]
    },
    {
     "data": {
      "image/png": "[encoded data removed]",
      "text/plain": [
       "PyPlot.Figure(PyObject <matplotlib.figure.Figure object at 0x13ab8c4d0>)"
      ]
     },
     "metadata": {},
     "output_type": "display_data"
    },
    {
     "name": "stdout",
     "output_type": "stream",
     "text": [
      "319.90745390526064 + 0.46709790558138936im\n",
      "V(n̂) = 12.467328448765329 + 3.000773726127818im\n"
     ]
    }
   ],
   "source": [
    "n = 320\n",
    "N = 10000\n",
    "@time a,ā = fock(n,N;dist=\"+P\")\n",
    "figure(figsize=(2,2))\n",
    "scatter(real(a),imag(a),s=.5,c=\"blue\")\n",
    "axis(\"square\")\n",
    "axis([-sqrt(2n),sqrt(2n),-sqrt(2n),sqrt(2n)])\n",
    "println(\"n = \", n)\n",
    "n̄ = mean(ā.*a)\n",
    "Vn= mean(ā.^2.*a.^2)+mean(ā.*a)-n̄.^2\n",
    "println(\"<â⁺â> = \", n̄)\n",
    "println(\"V(n̂) = \",Vn)"
   ]
  },
  {
   "cell_type": "code",
   "execution_count": 21,
   "metadata": {},
   "outputs": [
    {
     "name": "stdout",
     "output_type": "stream",
     "text": [
      "  0.254900 seconds (51 allocations: 1.778 MiB)\n",
      "n = 320\n",
      "<â⁺â> = "
     ]
    },
    {
     "data": {
      "image/png": "[encoded data removed]",
      "text/plain": [
       "PyPlot.Figure(PyObject <matplotlib.figure.Figure object at 0x12f6b3650>)"
      ]
     },
     "metadata": {},
     "output_type": "display_data"
    },
    {
     "name": "stdout",
     "output_type": "stream",
     "text": [
      "319.6117572042017 + 0.1165902470913105im\n",
      "V(n̂) = -4.809312057244824 - 1.9445612325883843im\n"
     ]
    }
   ],
   "source": [
    "n = 320\n",
    "N = 10000\n",
    "@time a,ā = fock(n,N,dist=\"+W\")\n",
    "figure(figsize=(2,2))\n",
    "scatter(real(a),imag(a),s=.5,c=\"blue\")\n",
    "axis(\"square\")\n",
    "axis([-sqrt(2n),sqrt(2n),-sqrt(2n),sqrt(2n)])\n",
    "println(\"n = \", n)\n",
    "n̄ = mean(ā.*a)-.5\n",
    "Vn= mean(ā.^2.*a.^2)-mean(ā.*a)-n̄.^2\n",
    "println(\"<â⁺â> = \",n̄)\n",
    "println(\"V(n̂) = \",Vn)"
   ]
  },
  {
   "cell_type": "code",
   "execution_count": 23,
   "metadata": {},
   "outputs": [
    {
     "name": "stdout",
     "output_type": "stream",
     "text": [
      "  0.004782 seconds (51 allocations: 1.778 MiB)\n"
     ]
    },
    {
     "data": {
      "image/png": "[encoded data removed]",
      "text/plain": [
       "PyPlot.Figure(PyObject <matplotlib.figure.Figure object at 0x12f6b41d0>)"
      ]
     },
     "metadata": {},
     "output_type": "display_data"
    },
    {
     "name": "stdout",
     "output_type": "stream",
     "text": [
      "n = 321\n",
      "<â⁺â> = 321.032897307618 - 0.03196121911483763im\n",
      "V(n̂) = -1.0107685785624199 + 7.634702092410214im\n"
     ]
    }
   ],
   "source": [
    "#for n>320 uses asymptotic expansion\n",
    "n=321\n",
    "N=10000\n",
    "@time a,ā = fock(n,N,dist=\"+W\")\n",
    "figure(figsize=(2,2))\n",
    "scatter(real(a),imag(a),s=.5,c=\"blue\")\n",
    "axis(\"square\")\n",
    "axis([-sqrt(2n),sqrt(2n),-sqrt(2n),sqrt(2n)])\n",
    "println(\"n = \", n)\n",
    "n̄ = mean(ā.*a)-.5\n",
    "Vn= mean(ā.^2.*a.^2)-mean(ā.*a)-n̄.^2\n",
    "println(\"<â⁺â> = \",n̄)\n",
    "println(\"V(n̂) = \",Vn)"
   ]
  },
  {
   "cell_type": "code",
   "execution_count": 45,
   "metadata": {},
   "outputs": [
    {
     "name": "stdout",
     "output_type": "stream",
     "text": [
      "  0.610761 seconds (65 allocations: 161.590 MiB, 44.57% gc time)\n"
     ]
    },
    {
     "data": {
      "image/png": "[encoded data removed]",
      "text/plain": [
       "PyPlot.Figure(PyObject <matplotlib.figure.Figure object at 0x12fa89190>)"
      ]
     },
     "metadata": {},
     "output_type": "display_data"
    },
    {
     "name": "stdout",
     "output_type": "stream",
     "text": [
      "n = 10000\n",
      "<â⁺â> = 9999.984945939306 - 0.04020787108530793im\n",
      "V(n̂) = -52.320808455348015 + 7.434351711342629im\n"
     ]
    }
   ],
   "source": [
    "#push n and N\n",
    "n=10000\n",
    "N=1000000\n",
    "@time a,ā = fock(n,N,dist=\"+W\")\n",
    "figure(figsize=(2,2))\n",
    "scatter(real(a),imag(a),s=.5,c=\"blue\")\n",
    "axis(\"square\")\n",
    "axis([-sqrt(2n),sqrt(2n),-sqrt(2n),sqrt(2n)])\n",
    "println(\"n = \", n)\n",
    "n̄ = mean(ā.*a)-.5\n",
    "Vn= mean(ā.^2.*a.^2)-mean(ā.*a)-n̄.^2\n",
    "println(\"<â⁺â> = \",n̄)\n",
    "println(\"V(n̂) = \",Vn)"
   ]
  },
  {
   "cell_type": "code",
   "execution_count": 46,
   "metadata": {},
   "outputs": [
    {
     "name": "stdout",
     "output_type": "stream",
     "text": [
      "search: \u001b[1mc\u001b[22m\u001b[1mr\u001b[22m\u001b[1me\u001b[22m\u001b[1ms\u001b[22m\u001b[1mc\u001b[22m\u001b[1me\u001b[22m\u001b[1mn\u001b[22m\u001b[1mt\u001b[22m\n",
      "\n"
     ]
    },
    {
     "data": {
      "text/markdown": [
       "```julia\n",
       "a,ā = crescent(β,ϵ,q,N;dist)\n",
       "```\n",
       "\n",
       "Sample phase space distribution for a crescent state\n",
       "\n",
       "`β` is coherent amplitude\n",
       "\n",
       "`ϵ` is squeeze paramter\n",
       "\n",
       "`q` is shearing parameter\n",
       "\n",
       "`N` is number of samples\n",
       "\n",
       "`dist` is distribution. Can be either `Q` or `+P`\n"
      ],
      "text/plain": [
       "```julia\n",
       "a,ā = crescent(β,ϵ,q,N;dist)\n",
       "```\n",
       "\n",
       "Sample phase space distribution for a crescent state\n",
       "\n",
       "`β` is coherent amplitude\n",
       "\n",
       "`ϵ` is squeeze paramter\n",
       "\n",
       "`q` is shearing parameter\n",
       "\n",
       "`N` is number of samples\n",
       "\n",
       "`dist` is distribution. Can be either `Q` or `+P`\n"
      ]
     },
     "execution_count": 46,
     "metadata": {},
     "output_type": "execute_result"
    }
   ],
   "source": [
    "?crescent"
   ]
  },
  {
   "cell_type": "code",
   "execution_count": 47,
   "metadata": {},
   "outputs": [
    {
     "data": {
      "image/png": "[encoded data removed]",
      "text/plain": [
       "PyPlot.Figure(PyObject <matplotlib.figure.Figure object at 0x12fbdf110>)"
      ]
     },
     "metadata": {},
     "output_type": "display_data"
    },
    {
     "name": "stdout",
     "output_type": "stream",
     "text": [
      "100.15232082438271 + 0.0im\n",
      "100.0\n"
     ]
    }
   ],
   "source": [
    "β = 10\n",
    "ϵ = 0\n",
    "q = .5\n",
    "N = 5000\n",
    "a,ā = crescent(β,ϵ,q,N;dist=\"W\")\n",
    "figure(figsize=(2,2))\n",
    "scatter(real(a),imag(a),s=1,c=\"blue\")\n",
    "axis(\"square\")\n",
    "axis([-20,20,-20,20]);\n",
    "println(mean(a.*ā)-.5)\n",
    "#not quite the right moments for crescent state, but a sanity check of sorts:\n",
    "println(sinh(abs(ϵ)).^2+abs2(β)) "
   ]
  },
  {
   "cell_type": "code",
   "execution_count": 48,
   "metadata": {},
   "outputs": [
    {
     "data": {
      "image/png": "[encoded data removed]",
      "text/plain": [
       "PyPlot.Figure(PyObject <matplotlib.figure.Figure object at 0x12fcfe5d0>)"
      ]
     },
     "metadata": {},
     "output_type": "display_data"
    },
    {
     "name": "stdout",
     "output_type": "stream",
     "text": [
      "100.18692020512312 + 0.0im\n",
      "100.0\n"
     ]
    }
   ],
   "source": [
    "β = 10\n",
    "ϵ = 0\n",
    "q = .4\n",
    "N = 5000\n",
    "a,ā = crescent(β,ϵ,q,N;dist=\"Q\")\n",
    "figure(figsize=(2,2))\n",
    "scatter(real(a),imag(a),s=1,c=\"blue\")\n",
    "axis(\"square\")\n",
    "axis([-20,20,-20,20]);\n",
    "println(mean(a.*ā)-1)\n",
    "println(sinh(abs(ϵ)).^2+abs2(β)) #not quite the right moments for crescent state, but a check of sorts"
   ]
  },
  {
   "cell_type": "code",
   "execution_count": 49,
   "metadata": {
    "scrolled": true
   },
   "outputs": [
    {
     "data": {
      "image/png": "[encoded data removed]",
      "text/plain": [
       "PyPlot.Figure(PyObject <matplotlib.figure.Figure object at 0x12f67e450>)"
      ]
     },
     "metadata": {},
     "output_type": "display_data"
    },
    {
     "name": "stdout",
     "output_type": "stream",
     "text": [
      "99.62290527412398 - 0.185019617115392im\n",
      "100.0\n"
     ]
    }
   ],
   "source": [
    "β = 10\n",
    "ϵ = 0\n",
    "q = .4\n",
    "N = 5000\n",
    "a,ā = crescent(β,ϵ,q,N;dist=\"+P\")\n",
    "figure(figsize=(2,2))\n",
    "scatter(real(a),imag(a),s=1,c=\"blue\")\n",
    "axis(\"square\")\n",
    "axis([-20,20,-20,20]);\n",
    "println(mean(a.*ā))\n",
    "println(sinh(abs(ϵ)).^2+abs2(β)) #not quite the right moments for crescent state, but a check of sorts"
   ]
  },
  {
   "cell_type": "markdown",
   "metadata": {
    "collapsed": true
   },
   "source": []
  }
 ],
 "metadata": {
  "kernelspec": {
   "display_name": "Julia 0.6.2",
   "language": "julia",
   "name": "julia-0.6"
  },
  "language_info": {
   "file_extension": ".jl",
   "mimetype": "application/julia",
   "name": "julia",
   "version": "0.6.2"
  }
 },
 "nbformat": 4,
 "nbformat_minor": 2
}
