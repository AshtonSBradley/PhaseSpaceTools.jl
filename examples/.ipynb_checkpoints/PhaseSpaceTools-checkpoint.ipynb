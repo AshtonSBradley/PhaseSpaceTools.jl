{
 "cells": [
  {
   "cell_type": "markdown",
   "metadata": {},
   "source": [
    "Sampling single mode initial states using methods presented in the article\n",
    "- [Olsen, Bradley, Opt. Comm. 282 (2009) 3924-3929](https://doi.org/10.1016/j.optcom.2009.06.033); errata [Olsen, Lewis-Swan, Bradley, Opt. Comm. 370 (2016) 327-328](https://doi.org/10.1016/j.optcom.2016.02.068)\n",
    "\n",
    "We also sample some new distributions:\n",
    "- fock state for +W\n",
    "- thermal state for +P\n",
    "\n",
    "More detailed errata for [Olsen, Bradley, Opt. Comm. 282 (2009) 3924-3929](https://doi.org/10.1016/j.optcom.2009.06.033)\n"
   ]
  },
  {
   "cell_type": "code",
   "execution_count": 1,
   "metadata": {},
   "outputs": [],
   "source": [
    "using PhaseSpaceTools, PyPlot, QuadGK"
   ]
  },
  {
   "cell_type": "code",
   "execution_count": null,
   "metadata": {},
   "outputs": [],
   "source": [
    "b=10\n",
    "N=1000\n",
    "a,ā = coherent(b,N,dist=\"W\")\n",
    "figure(figsize=(2,2))\n",
    "scatter(real(a),imag(a),s=1,c=\"blue\")\n",
    "axis(\"square\")\n",
    "axis([-20,20,-20,20]);\n",
    "println(mean(a.*ā)-.5)"
   ]
  },
  {
   "cell_type": "code",
   "execution_count": null,
   "metadata": {},
   "outputs": [],
   "source": [
    "a,ā = thermal(0,10,5000;dist=\"P\")\n",
    "figure(figsize=(2,2))\n",
    "scatter(real(a),imag(a),s=1,c=\"blue\")\n",
    "axis(\"square\")\n",
    "axis([-20,20,-20,20]);\n",
    "mean(a.*ā)"
   ]
  },
  {
   "cell_type": "code",
   "execution_count": null,
   "metadata": {},
   "outputs": [],
   "source": [
    "a,ā = thermal(0,10,5000;dist=\"W\")\n",
    "figure(figsize=(2,2))\n",
    "scatter(real(a),imag(ā),s=1,c=\"blue\")\n",
    "axis(\"square\")\n",
    "axis([-20,20,-20,20]);\n",
    "mean(a.*ā)-.5"
   ]
  },
  {
   "cell_type": "code",
   "execution_count": null,
   "metadata": {},
   "outputs": [],
   "source": [
    "β = 10\n",
    "ϕ = π/16\n",
    "r = 1.5\n",
    "ϵ = r*exp(2*im*ϕ)\n",
    "N = 5000\n",
    "a,ā = squeezed(β,ϵ,N,dist=\"W\")\n",
    "figure(figsize=(2,2))\n",
    "scatter(real(a),imag(ā),s=1,c=\"blue\")\n",
    "axis(\"square\")\n",
    "axis([-20,20,-20,20]);\n",
    "println(mean(a.*ā)-.5)\n",
    "println(sinh(abs(ϵ)).^2+abs2(β))"
   ]
  },
  {
   "cell_type": "code",
   "execution_count": null,
   "metadata": {},
   "outputs": [],
   "source": [
    "β = 10\n",
    "ϕ = π/16\n",
    "r = 2\n",
    "ϵ = r*exp(2*im*ϕ)\n",
    "N = 100000\n",
    "a,ā = squeezed(β,ϵ,N;dist=\"+P\")\n",
    "figure(figsize=(2,2))\n",
    "scatter(real(a),imag(a),s=1,c=\"blue\")\n",
    "axis(\"square\")\n",
    "axis([-20,20,-20,20]);\n",
    "println(real(mean(a.*ā)))\n",
    "println(sinh(abs(ϵ)).^2+abs2(β))"
   ]
  },
  {
   "cell_type": "code",
   "execution_count": null,
   "metadata": {},
   "outputs": [],
   "source": [
    "n = 100\n",
    "N = 100000\n",
    "a,ā = fock(n,N;dist=\"W\")\n",
    "figure(figsize=(2,2))\n",
    "scatter(real(a),imag(ā),s=.5,c=\"blue\")\n",
    "axis(\"square\")\n",
    "axis([-20,20,-20,20]);\n",
    "println(mean(a.*ā)-.5)\n",
    "println(n)"
   ]
  },
  {
   "cell_type": "code",
   "execution_count": null,
   "metadata": {},
   "outputs": [],
   "source": [
    "n = 160\n",
    "N = 10000\n",
    "a,ā = fock(n,N;dist=\"+P\")\n",
    "figure(figsize=(2,2))\n",
    "scatter(real(a),imag(a),s=.5,c=\"blue\")\n",
    "axis(\"square\")\n",
    "axis([-20,20,-20,20]);\n",
    "println(mean(a.*ā))\n",
    "println(n)"
   ]
  },
  {
   "cell_type": "code",
   "execution_count": null,
   "metadata": {},
   "outputs": [],
   "source": [
    "β = 10\n",
    "ϵ = 0\n",
    "q = .5\n",
    "N = 5000\n",
    "a,ā = crescent(β,ϵ,q,N;dist=\"W\")\n",
    "figure(figsize=(2,2))\n",
    "scatter(real(a),imag(a),s=1,c=\"blue\")\n",
    "axis(\"square\")\n",
    "axis([-20,20,-20,20]);\n",
    "println(mean(a.*ā)-.5)\n",
    "#not quite the right moments for crescent state, but a sanity check of sorts:\n",
    "println(sinh(abs(ϵ)).^2+abs2(β)) \n"
   ]
  },
  {
   "cell_type": "code",
   "execution_count": null,
   "metadata": {},
   "outputs": [],
   "source": [
    "β = 10\n",
    "ϵ = 0\n",
    "q = .4\n",
    "N = 5000\n",
    "a,ā = crescent(β,ϵ,q,N;dist=\"Q\")\n",
    "figure(figsize=(2,2))\n",
    "scatter(real(a),imag(a),s=1,c=\"blue\")\n",
    "axis(\"square\")\n",
    "axis([-20,20,-20,20]);\n",
    "println(mean(a.*ā)-1)\n",
    "println(sinh(abs(ϵ)).^2+abs2(β)) #not quite the right moments for crescent state, but a check of sorts"
   ]
  },
  {
   "cell_type": "code",
   "execution_count": null,
   "metadata": {
    "scrolled": true
   },
   "outputs": [],
   "source": [
    "β = 10\n",
    "ϵ = 0\n",
    "q = .4\n",
    "N = 5000\n",
    "a,ā = crescent(β,ϵ,q,N;dist=\"+P\")\n",
    "figure(figsize=(2,2))\n",
    "scatter(real(a),imag(a),s=1,c=\"blue\")\n",
    "axis(\"square\")\n",
    "axis([-20,20,-20,20]);\n",
    "println(mean(a.*ā))\n",
    "println(sinh(abs(ϵ)).^2+abs2(β)) #not quite the right moments for crescent state, but a check of sorts"
   ]
  },
  {
   "cell_type": "markdown",
   "metadata": {
    "collapsed": true
   },
   "source": [
    "# implement fock states for +W"
   ]
  },
  {
   "cell_type": "code",
   "execution_count": null,
   "metadata": {},
   "outputs": [],
   "source": [
    "function reject(P,w,N,Pmax)\n",
    "    #rejection sampling the probability distribution P over the window w=[w1,w2]\n",
    "    #Pmax must be numerical with value max(P) <= Pmax \n",
    "    #initialize sample vector\n",
    "    samples = Array{Float64}(1)\n",
    "    while length(samples) < N + 1 \n",
    "        y = w[1] + rand()*(w[2]-w[1])\n",
    "        z = rand()*Pmax\n",
    "        if z < P(y)\n",
    "            push!(samples,y)\n",
    "        end\n",
    "    end\n",
    "    return samples[2:end]\n",
    "end\n",
    "    \n"
   ]
  },
  {
   "cell_type": "code",
   "execution_count": null,
   "metadata": {},
   "outputs": [],
   "source": [
    "f(x)=0.5*(exp(-x^2/2)/sqrt(2π)+exp(-(x-10)^2/8)/sqrt(8π))"
   ]
  },
  {
   "cell_type": "code",
   "execution_count": null,
   "metadata": {},
   "outputs": [],
   "source": [
    "weighted_hist(x; kws...) = PyPlot.plt[:hist](x; weights=ones(length(x))/length(x), kws...)"
   ]
  },
  {
   "cell_type": "code",
   "execution_count": null,
   "metadata": {},
   "outputs": [],
   "source": [
    "a = reject(f,[-5,18],100000,f(0.))\n",
    "figure(figsize=(6,2))\n",
    "b = weighted_hist(a,bins=60);"
   ]
  },
  {
   "cell_type": "code",
   "execution_count": null,
   "metadata": {},
   "outputs": [],
   "source": [
    "mean(a),sqrt(var(a))"
   ]
  },
  {
   "cell_type": "markdown",
   "metadata": {},
   "source": [
    "### Distribution to sample"
   ]
  },
  {
   "cell_type": "code",
   "execution_count": null,
   "metadata": {},
   "outputs": [],
   "source": [
    "@pyimport mpmath as mp\n",
    "lagbig(x,n)=mp.laguerre(n,0,x)"
   ]
  },
  {
   "cell_type": "code",
   "execution_count": null,
   "metadata": {},
   "outputs": [],
   "source": [
    "@pyimport scipy as sp\n",
    "@pyimport scipy.special as sps\n",
    "laguerre(x,n)=sps.eval_laguerre(n,x)"
   ]
  },
  {
   "cell_type": "code",
   "execution_count": null,
   "metadata": {},
   "outputs": [],
   "source": [
    "lagbig(.1,10000)"
   ]
  },
  {
   "cell_type": "code",
   "execution_count": null,
   "metadata": {},
   "outputs": [],
   "source": [
    "laguerre(.1,10000)"
   ]
  },
  {
   "cell_type": "markdown",
   "metadata": {},
   "source": [
    "Distribution \n",
    "$$P_n(x)=\\frac{4}{3}e^{-2x^2/3}L_n(-4x^2/3)\\frac{x}{3^n}$$\n",
    "or, using \n",
    "$$L_n(-x)=\\sum_{k=0}^n\\binom{n}{k}\\frac{x^k}{k!}$$\n",
    "we have\n",
    "$$P_n(x)=\\frac{4x}{3^{n+1}}e^{-2x^2/3}\\sum_{k=0}^n\\binom{n}{k}\\frac{(4x^2/3)^k}{k!}$$"
   ]
  },
  {
   "cell_type": "code",
   "execution_count": null,
   "metadata": {},
   "outputs": [],
   "source": [
    "function P(x,n)\n",
    "    #P(x,n)=(4/3)*exp(-2*x^2/3)*x*laguerre(-4*x^2/3,n)/(3^n)\n",
    "    return (4/3)*exp(-2*x^2/3 + log(x) + log(laguerre(-4*x^2/3,n)) - n*log(3))\n",
    "end\n",
    "n=10\n",
    "println(sqrt(n))\n",
    "println(quadgk(x->P(x,n),0,10))\n",
    "x̄=quadgk(x->P(x,n).*x,0,10);println(x̄)\n",
    "x2=quadgk(x->P(x,n).*x.^2,0,10)\n",
    "sigx=sqrt(x2[1]-x̄[1].^2)\n",
    "x̄[1]+6sigx,x̄[1]-6sigx"
   ]
  },
  {
   "cell_type": "markdown",
   "metadata": {},
   "source": [
    "Asymptotic expansion\n",
    "$$L_n(-x)=\\frac{e^{-x/2}}{2\\sqrt{\\pi}[x(n+1)]^{1/4}}e^{2\\sqrt{x(n+1)}}$$"
   ]
  },
  {
   "cell_type": "markdown",
   "metadata": {},
   "source": [
    "and hence\n",
    "$$P_n(x)=\\frac{4}{3}e^{-2x^2/3}L_n(-4x^2/3)\\frac{x}{3^{n}}\\longrightarrow \\frac{4}{3}e^{-2x^2/3}\\frac{e^{-2x^2/3}}{2\\sqrt{\\pi}[4x^2(n+1)/3]^{1/4}}e^{2\\sqrt{4x^2/3(n+1)}}\\frac{x}{3^{n}}$$\n",
    "or \n",
    "$$P_n(x)\\longrightarrow \\frac{2}{3\\sqrt{\\pi}}\\frac{e^{-(\\sqrt{4x^2/3}-\\sqrt{n+1})^2}}{[4x^2(n+1)/3]^{1/4}}\\frac{xe^{n+1}}{3^{n}}$$"
   ]
  },
  {
   "cell_type": "code",
   "execution_count": null,
   "metadata": {},
   "outputs": [],
   "source": [
    "n=0\n",
    "x=linspace(0,25,1000);dx=x[2]-x[1];\n",
    "plot(x,P.(x,n));\n",
    "x1=max(0,sqrt(n+1)-5);x2=sqrt(n+1)+5\n",
    "plot(sqrt(n+1)*ones(x),linspace(0,.6,1000))\n",
    "plot(x1*ones(x),linspace(0,.6,1000))\n",
    "plot(x2*ones(x),linspace(0,.6,1000))\n",
    "sum(P.(x,n)*dx)\n",
    "maximum(P.(x,n))"
   ]
  },
  {
   "cell_type": "code",
   "execution_count": null,
   "metadata": {},
   "outputs": [],
   "source": [
    "weighted_hist(x; kws...) = PyPlot.plt[:hist](x; weights=ones(length(x))/length(x), kws...)"
   ]
  },
  {
   "cell_type": "code",
   "execution_count": null,
   "metadata": {},
   "outputs": [],
   "source": [
    "n=1\n",
    "x1=max(0,sqrt(n)-5);x2=sqrt(n)+5\n",
    "N=10000\n",
    "Nb=50\n",
    "a = reject(x->P.(x,n),[x1,x2],N,.6)\n",
    "figure(figsize=(7,3))\n",
    "b = weighted_hist(a,bins=Nb);"
   ]
  },
  {
   "cell_type": "code",
   "execution_count": 8,
   "metadata": {},
   "outputs": [
    {
     "data": {
      "text/plain": [
       "(Complex{Float64}[0.837343+0.366916im, 1.37832-2.05438im, 1.2493+0.980335im, 1.52731+0.317621im, 0.991811-2.35325im, -3.154+0.0229564im, -2.16628-1.0183im, 2.09536-1.40979im, 1.09909+0.163524im, -0.840408-0.106355im  …  -0.495494-0.555497im, 2.02977+0.414515im, 1.00315+1.45914im, -2.49913+0.0203899im, -1.70417-1.29406im, 0.771932+1.46952im, -0.386215-1.32599im, -1.96942-0.379447im, 0.181788+0.798825im, 1.49093-0.530894im], Complex{Float64}[1.08208-2.12443im, -0.732958-1.11931im, 0.0866018-0.446953im, 2.21956-1.29248im, 0.516853+1.23264im, -0.891352+0.828507im, 0.26673+1.04312im, -0.589253+0.469635im, 1.54367-0.615905im, -0.732473-0.98266im  …  -0.63496+1.63739im, -0.0308762+0.0804357im, -0.162503-0.409176im, -1.55874-2.72552im, -1.62335+0.263386im, 2.36188-0.708362im, -0.970743+1.30167im, 0.483278-0.169743im, -1.3075+0.582548im, 0.607596-0.256328im])"
      ]
     },
     "execution_count": 8,
     "metadata": {},
     "output_type": "execute_result"
    }
   ],
   "source": [
    "a,ā = fock(1,10000,dist=\"+W\")"
   ]
  },
  {
   "cell_type": "code",
   "execution_count": 9,
   "metadata": {},
   "outputs": [
    {
     "data": {
      "text/plain": [
       "0.9952668324612615 - 0.008762824694659454im"
      ]
     },
     "execution_count": 9,
     "metadata": {},
     "output_type": "execute_result"
    }
   ],
   "source": [
    "n̄ = mean(a.*ā)-.5"
   ]
  },
  {
   "cell_type": "code",
   "execution_count": null,
   "metadata": {},
   "outputs": [],
   "source": [
    "Vn = mean(a.^2.*ā.^2) - n̄ - n̄^2 #+P"
   ]
  },
  {
   "cell_type": "code",
   "execution_count": null,
   "metadata": {},
   "outputs": [],
   "source": [
    "n = 20\n",
    "N = 5000\n",
    "a,ā = fock(n,N)\n",
    "figure(figsize=(2,2))\n",
    "scatter(real(a),imag(a),s=.5,c=\"blue\")\n",
    "axis(\"square\")\n",
    "axis([-20,20,-20,20]);\n",
    "println(mean(a.*ā))\n",
    "println(n)"
   ]
  },
  {
   "cell_type": "code",
   "execution_count": null,
   "metadata": {},
   "outputs": [],
   "source": []
  }
 ],
 "metadata": {
  "kernelspec": {
   "display_name": "Julia 0.6.2",
   "language": "julia",
   "name": "julia-0.6"
  },
  "language_info": {
   "file_extension": ".jl",
   "mimetype": "application/julia",
   "name": "julia",
   "version": "0.6.2"
  }
 },
 "nbformat": 4,
 "nbformat_minor": 2
}
