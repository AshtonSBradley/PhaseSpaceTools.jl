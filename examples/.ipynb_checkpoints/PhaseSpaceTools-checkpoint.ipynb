{
 "cells": [
  {
   "cell_type": "markdown",
   "metadata": {},
   "source": [
    "Sampling single mode initial states using methods presented in the article\n",
    "- [Olsen, Bradley, Opt. Comm. 282 (2009) 3924-3929](https://doi.org/10.1016/j.optcom.2009.06.033); errata [Olsen, Lewis-Swan, Bradley, Opt. Comm. 370 (2016) 327-328](https://doi.org/10.1016/j.optcom.2016.02.068)\n",
    "\n",
    "We also sample some new distributions:\n",
    "- fock state for +W\n",
    "- thermal state for +P"
   ]
  },
  {
   "cell_type": "code",
   "execution_count": 1,
   "metadata": {},
   "outputs": [
    {
     "name": "stderr",
     "output_type": "stream",
     "text": [
      "\u001b[1m\u001b[36mINFO: \u001b[39m\u001b[22m\u001b[36mRecompiling stale cache file /Users/abradley/.julia/lib/v0.6/BinDeps.ji for module BinDeps.\n",
      "\u001b[39m\u001b[1m\u001b[36mINFO: \u001b[39m\u001b[22m\u001b[36mRecompiling stale cache file /Users/abradley/.julia/lib/v0.6/PyPlot.ji for module PyPlot.\n",
      "\u001b[39m"
     ]
    }
   ],
   "source": [
    "using PhaseSpaceTools, PyPlot"
   ]
  },
  {
   "cell_type": "code",
   "execution_count": 3,
   "metadata": {},
   "outputs": [
    {
     "name": "stdout",
     "output_type": "stream",
     "text": [
      "search: \u001b[1mc\u001b[22m\u001b[1mo\u001b[22m\u001b[1mh\u001b[22m\u001b[1me\u001b[22m\u001b[1mr\u001b[22m\u001b[1me\u001b[22m\u001b[1mn\u001b[22m\u001b[1mt\u001b[22m \u001b[1mc\u001b[22m\u001b[1mo\u001b[22m\u001b[1mh\u001b[22m\u001b[1me\u001b[22m\u001b[1mr\u001b[22m\u001b[1me\u001b[22m\n",
      "\n"
     ]
    },
    {
     "data": {
      "text/markdown": [
       "```\n",
       "a,ā = coherent(β,N;dist=\"+P\")\n",
       "```\n",
       "\n",
       "Sample the phase-space distribution for a coherent state.\n",
       "\n",
       "`β`: coherent (complex) amplitude.\n",
       "\n",
       "`N`: number of samples.\n",
       "\n",
       "`dist`: phase-space distrubtion. Can be either `W` or `+P`.\n",
       "\n",
       "For a coherent state in +P, the distribution is just a point on the complex plane at the position of the coherent amplitude.\n",
       "\n",
       "For standard `P,Q,W` distributions, `a` and `ā` are complex conjugate, while for `+P` etc, `a` and `ā` are independent variables.\n"
      ],
      "text/plain": [
       "```\n",
       "a,ā = coherent(β,N;dist=\"+P\")\n",
       "```\n",
       "\n",
       "Sample the phase-space distribution for a coherent state.\n",
       "\n",
       "`β`: coherent (complex) amplitude.\n",
       "\n",
       "`N`: number of samples.\n",
       "\n",
       "`dist`: phase-space distrubtion. Can be either `W` or `+P`.\n",
       "\n",
       "For a coherent state in +P, the distribution is just a point on the complex plane at the position of the coherent amplitude.\n",
       "\n",
       "For standard `P,Q,W` distributions, `a` and `ā` are complex conjugate, while for `+P` etc, `a` and `ā` are independent variables.\n"
      ]
     },
     "execution_count": 3,
     "metadata": {},
     "output_type": "execute_result"
    }
   ],
   "source": [
    "?coherent"
   ]
  },
  {
   "cell_type": "code",
   "execution_count": 2,
   "metadata": {},
   "outputs": [
    {
     "data": {
      "image/png": "[encoded data removed]",
      "text/plain": [
       "PyPlot.Figure(PyObject <matplotlib.figure.Figure object at 0x1323edb10>)"
      ]
     },
     "metadata": {},
     "output_type": "display_data"
    },
    {
     "name": "stdout",
     "output_type": "stream",
     "text": [
      "100.06037365838272 + 0.0im\n",
      "10.002503730933222 + 0.013168596923652812im\n"
     ]
    }
   ],
   "source": [
    "b=10\n",
    "N=1000\n",
    "a,ā = coherent(b,N,dist=\"W\")\n",
    "figure(figsize=(2,2))\n",
    "scatter(real(a),imag(a),s=1,c=\"blue\")\n",
    "axis(\"square\")\n",
    "axis([-20,20,-20,20]);\n",
    "println(mean(a.*ā)-.5)\n",
    "println(mean(a))"
   ]
  },
  {
   "cell_type": "code",
   "execution_count": 5,
   "metadata": {},
   "outputs": [
    {
     "name": "stdout",
     "output_type": "stream",
     "text": [
      "search: \u001b[1mt\u001b[22m\u001b[1mh\u001b[22m\u001b[1me\u001b[22m\u001b[1mr\u001b[22m\u001b[1mm\u001b[22m\u001b[1ma\u001b[22m\u001b[1ml\u001b[22m\n",
      "\n"
     ]
    },
    {
     "data": {
      "text/markdown": [
       "```\n",
       "a,ā = thermal(β,n̄,N;dist=\"P\")\n",
       "```\n",
       "\n",
       "Sample the phase-space distribution for a thermal state.\n",
       "\n",
       "`β`: coherent (complex) displacement.\n",
       "\n",
       "`n̄`: thermal average population.\n",
       "\n",
       "`N`: number of samples.\n",
       "\n",
       "`dist`: phase-space distribution. Can be `P`, `Q` or `W`.\n",
       "\n",
       "For standard `P,Q,W` distributions, `a` and `ā` are complex conjugate, while for `+P` etc, `a` and `ā` are independent variables.\n"
      ],
      "text/plain": [
       "```\n",
       "a,ā = thermal(β,n̄,N;dist=\"P\")\n",
       "```\n",
       "\n",
       "Sample the phase-space distribution for a thermal state.\n",
       "\n",
       "`β`: coherent (complex) displacement.\n",
       "\n",
       "`n̄`: thermal average population.\n",
       "\n",
       "`N`: number of samples.\n",
       "\n",
       "`dist`: phase-space distribution. Can be `P`, `Q` or `W`.\n",
       "\n",
       "For standard `P,Q,W` distributions, `a` and `ā` are complex conjugate, while for `+P` etc, `a` and `ā` are independent variables.\n"
      ]
     },
     "execution_count": 5,
     "metadata": {},
     "output_type": "execute_result"
    }
   ],
   "source": [
    "?thermal"
   ]
  },
  {
   "cell_type": "code",
   "execution_count": 3,
   "metadata": {},
   "outputs": [
    {
     "data": {
      "image/png": "[encoded data removed]",
      "text/plain": [
       "PyPlot.Figure(PyObject <matplotlib.figure.Figure object at 0x13457b290>)"
      ]
     },
     "metadata": {},
     "output_type": "display_data"
    },
    {
     "data": {
      "text/plain": [
       "9.976650698478496 + 0.0im"
      ]
     },
     "execution_count": 3,
     "metadata": {},
     "output_type": "execute_result"
    }
   ],
   "source": [
    "a,ā = thermal(0,10,5000;dist=\"P\")\n",
    "figure(figsize=(2,2))\n",
    "scatter(real(a),imag(a),s=1,c=\"blue\")\n",
    "axis(\"square\")\n",
    "axis([-20,20,-20,20]);\n",
    "mean(a.*ā)"
   ]
  },
  {
   "cell_type": "code",
   "execution_count": 4,
   "metadata": {},
   "outputs": [
    {
     "data": {
      "image/png": "[encoded data removed]",
      "text/plain": [
       "PyPlot.Figure(PyObject <matplotlib.figure.Figure object at 0x1345db3d0>)"
      ]
     },
     "metadata": {},
     "output_type": "display_data"
    },
    {
     "data": {
      "text/plain": [
       "10.123127137470412 + 0.0im"
      ]
     },
     "execution_count": 4,
     "metadata": {},
     "output_type": "execute_result"
    }
   ],
   "source": [
    "a,ā = thermal(0,10,5000;dist=\"W\")\n",
    "figure(figsize=(2,2))\n",
    "scatter(real(a),imag(ā),s=1,c=\"blue\")\n",
    "axis(\"square\")\n",
    "axis([-20,20,-20,20]);\n",
    "mean(a.*ā)-.5"
   ]
  },
  {
   "cell_type": "code",
   "execution_count": 7,
   "metadata": {},
   "outputs": [
    {
     "name": "stdout",
     "output_type": "stream",
     "text": [
      "search: \u001b[1ms\u001b[22m\u001b[1mq\u001b[22m\u001b[1mu\u001b[22m\u001b[1me\u001b[22m\u001b[1me\u001b[22m\u001b[1mz\u001b[22m\u001b[1me\u001b[22m\u001b[1md\u001b[22m \u001b[1ms\u001b[22m\u001b[1mq\u001b[22m\u001b[1mu\u001b[22m\u001b[1me\u001b[22m\u001b[1me\u001b[22m\u001b[1mz\u001b[22m\u001b[1me\u001b[22m\n",
      "\n"
     ]
    },
    {
     "data": {
      "text/markdown": [
       "```\n",
       "a,ā = squeezed(β,ϵ,N;dist=\"+P\")\n",
       "```\n",
       "\n",
       "Sample the phase-space distribution for a squeezed state.\n",
       "\n",
       "`β`: coherent (complex) amplitude.\n",
       "\n",
       "`ϵ`: complex valued squeezing parameter.\n",
       "\n",
       "`N`: number of samples.\n",
       "\n",
       "`dist`: phase-space distribution; can be `W` or `+P`.\n",
       "\n",
       "For standard `P,Q,W` distributions, `a` and `ā` are complex conjugate, while for `+P` etc, `a` and `ā` are independent variables.\n"
      ],
      "text/plain": [
       "```\n",
       "a,ā = squeezed(β,ϵ,N;dist=\"+P\")\n",
       "```\n",
       "\n",
       "Sample the phase-space distribution for a squeezed state.\n",
       "\n",
       "`β`: coherent (complex) amplitude.\n",
       "\n",
       "`ϵ`: complex valued squeezing parameter.\n",
       "\n",
       "`N`: number of samples.\n",
       "\n",
       "`dist`: phase-space distribution; can be `W` or `+P`.\n",
       "\n",
       "For standard `P,Q,W` distributions, `a` and `ā` are complex conjugate, while for `+P` etc, `a` and `ā` are independent variables.\n"
      ]
     },
     "execution_count": 7,
     "metadata": {},
     "output_type": "execute_result"
    }
   ],
   "source": [
    "?squeezed"
   ]
  },
  {
   "cell_type": "code",
   "execution_count": 5,
   "metadata": {},
   "outputs": [
    {
     "data": {
      "image/png": "[encoded data removed]",
      "text/plain": [
       "PyPlot.Figure(PyObject <matplotlib.figure.Figure object at 0x1345a7e90>)"
      ]
     },
     "metadata": {},
     "output_type": "display_data"
    },
    {
     "name": "stdout",
     "output_type": "stream",
     "text": [
      "104.60084878748064 + 0.0im\n",
      "104.53383099788888\n"
     ]
    }
   ],
   "source": [
    "β = 10\n",
    "ϕ = π/16\n",
    "r = 1.5\n",
    "ϵ = r*exp(2*im*ϕ)\n",
    "N = 10000\n",
    "a,ā = squeezed(β,ϵ,N,dist=\"W\")\n",
    "figure(figsize=(2,2))\n",
    "scatter(real(a),imag(ā),s=1,c=\"blue\")\n",
    "axis(\"square\")\n",
    "axis([-20,20,-20,20]);\n",
    "println(mean(a.*ā)-.5)\n",
    "println(sinh(abs(ϵ)).^2+abs2(β))"
   ]
  },
  {
   "cell_type": "code",
   "execution_count": 6,
   "metadata": {},
   "outputs": [
    {
     "data": {
      "image/png": "[encoded data removed]",
      "text/plain": [
       "PyPlot.Figure(PyObject <matplotlib.figure.Figure object at 0x134969f50>)"
      ]
     },
     "metadata": {},
     "output_type": "display_data"
    },
    {
     "name": "stdout",
     "output_type": "stream",
     "text": [
      "113.09030150990365\n",
      "113.15411641800824\n"
     ]
    }
   ],
   "source": [
    "β = 10\n",
    "ϕ = π/16\n",
    "r = 2\n",
    "ϵ = r*exp(2*im*ϕ)\n",
    "N = 10000\n",
    "a,ā = squeezed(β,ϵ,N;dist=\"+P\")\n",
    "figure(figsize=(2,2))\n",
    "scatter(real(a),imag(a),s=1,c=\"blue\")\n",
    "axis(\"square\")\n",
    "axis([-20,20,-20,20]);\n",
    "println(real(mean(a.*ā)))\n",
    "println(sinh(abs(ϵ)).^2+abs2(β))"
   ]
  },
  {
   "cell_type": "code",
   "execution_count": 10,
   "metadata": {},
   "outputs": [
    {
     "name": "stdout",
     "output_type": "stream",
     "text": [
      "search: \u001b[1mf\u001b[22m\u001b[1mo\u001b[22m\u001b[1mc\u001b[22m\u001b[1mk\u001b[22m \u001b[1mf\u001b[22m\u001b[1mo\u001b[22mrea\u001b[1mc\u001b[22mh Uni\u001b[1mf\u001b[22m\u001b[1mo\u001b[22mrmS\u001b[1mc\u001b[22maling \u001b[1mf\u001b[22muncti\u001b[1mo\u001b[22mnlo\u001b[1mc\u001b[22m @\u001b[1mf\u001b[22muncti\u001b[1mo\u001b[22mnlo\u001b[1mc\u001b[22m\n",
      "\n"
     ]
    },
    {
     "data": {
      "text/markdown": [
       "```\n",
       "a,ā = fock(n,N;dist=\"+P\")\n",
       "```\n",
       "\n",
       "Sample the phase-space distribution for a Fock state.\n",
       "\n",
       "`n`: number of the fock state |n⟩.\n",
       "\n",
       "`N`: number of samples.\n",
       "\n",
       "`dist`: phase-space distribution can be either `W`, `+W`, or `+P`.\n",
       "\n",
       "For standard `P,Q,W` distributions, `a` and `ā` are complex conjugate, while for `+P` etc, `a` and `ā` are independent variables.\n",
       "\n",
       "## Wigner representation\n",
       "\n",
       "  * The standard `W` is sampled using an approximation that reproduces operator averages accuratley for large `n`, but neglects some quantum correlations.\n",
       "  * The `+W` sampling is carried out in a doubled phase space, where the distribution is positive semi-definite, and hence may be sampled exactly for any `n`. Fast evaluation is achieved for large `n` using an accurate asymptotic expansion `(n>320)`.\n"
      ],
      "text/plain": [
       "```\n",
       "a,ā = fock(n,N;dist=\"+P\")\n",
       "```\n",
       "\n",
       "Sample the phase-space distribution for a Fock state.\n",
       "\n",
       "`n`: number of the fock state |n⟩.\n",
       "\n",
       "`N`: number of samples.\n",
       "\n",
       "`dist`: phase-space distribution can be either `W`, `+W`, or `+P`.\n",
       "\n",
       "For standard `P,Q,W` distributions, `a` and `ā` are complex conjugate, while for `+P` etc, `a` and `ā` are independent variables.\n",
       "\n",
       "## Wigner representation\n",
       "\n",
       "  * The standard `W` is sampled using an approximation that reproduces operator averages accuratley for large `n`, but neglects some quantum correlations.\n",
       "  * The `+W` sampling is carried out in a doubled phase space, where the distribution is positive semi-definite, and hence may be sampled exactly for any `n`. Fast evaluation is achieved for large `n` using an accurate asymptotic expansion `(n>320)`.\n"
      ]
     },
     "execution_count": 10,
     "metadata": {},
     "output_type": "execute_result"
    }
   ],
   "source": [
    "?fock"
   ]
  },
  {
   "cell_type": "code",
   "execution_count": 103,
   "metadata": {},
   "outputs": [
    {
     "data": {
      "image/png": "[encoded data removed]",
      "text/plain": [
       "PyPlot.Figure(PyObject <matplotlib.figure.Figure object at 0x1350ad490>)"
      ]
     },
     "metadata": {},
     "output_type": "display_data"
    },
    {
     "name": "stdout",
     "output_type": "stream",
     "text": [
      " \n",
      "n = 10 Fock state.\n",
      "N = 10000 samples.\n",
      " \n",
      "averages\n",
      "<â> = -0.022144077181660792 - 0.007842561405721687im\n",
      "<â⁺â> = 10.001694602038757\n",
      "V(n̂) = 0.001029617779110481\n",
      "rel. num. var. = 0.0032082221078266714\n"
     ]
    }
   ],
   "source": [
    "n = 10\n",
    "N = 10000\n",
    "a,ā = fock(n,N;dist=\"W\")\n",
    "\n",
    "figure(figsize=(2,2))\n",
    "scatter(real(a),imag(a),s=.5,c=\"blue\")\n",
    "axis(\"square\")\n",
    "axis([-sqrt(3n),sqrt(3n),-sqrt(3n),sqrt(3n)])\n",
    "n̄ = mean(abs2.(a))-.5\n",
    "Vn= mean(abs2.(a).^2)-mean(abs2.(a))-n̄.^2\n",
    "println(\" \")\n",
    "println(\"n = $n Fock state.\")\n",
    "println(\"N = $N samples.\")\n",
    "println(\" \")\n",
    "println(\"averages\")\n",
    "println(\"<â> = \", mean(a))\n",
    "println(\"<â⁺â> = \",n̄)\n",
    "println(\"V(n̂) = \",Vn)\n",
    "println(\"rel. num. var. = \",sqrt(abs(Vn))/abs(n̄))"
   ]
  },
  {
   "cell_type": "code",
   "execution_count": 104,
   "metadata": {},
   "outputs": [
    {
     "name": "stdout",
     "output_type": "stream",
     "text": [
      "  0.003236 seconds (33 allocations: 1.527 MiB)\n"
     ]
    },
    {
     "data": {
      "image/png": "[encoded data removed]",
      "text/plain": [
       "PyPlot.Figure(PyObject <matplotlib.figure.Figure object at 0x125ad45d0>)"
      ]
     },
     "metadata": {},
     "output_type": "display_data"
    },
    {
     "name": "stdout",
     "output_type": "stream",
     "text": [
      " \n",
      "n = 10 Fock state.\n",
      "N = 10000 samples.\n",
      " \n",
      "averages\n",
      "<â> = 0.04135715584543916 - 0.023025268131438396im\n",
      "<â⁺â> = 10.028939082484262 + 0.07469650541329619im\n",
      "V(n̂) = 0.33748435076412875 + 0.10280770608289647im\n",
      "rel. num. var. = 0.05922360898396079\n"
     ]
    }
   ],
   "source": [
    "n = 10\n",
    "N = 10000\n",
    "@time a,ā = fock(n,N,dist=\"+P\")\n",
    "figure(figsize=(2,2))\n",
    "scatter(real(a),imag(a),s=.5,c=\"blue\")\n",
    "axis(\"square\")\n",
    "axis([-sqrt(2n),sqrt(2n),-sqrt(2n),sqrt(2n)])\n",
    "n̄ = mean(ā.*a)\n",
    "Vn= mean(ā.^2.*a.^2)+mean(ā.*a)-n̄.^2\n",
    "println(\" \")\n",
    "println(\"n = $n Fock state.\")\n",
    "println(\"N = $N samples.\")\n",
    "println(\" \")\n",
    "println(\"averages\")\n",
    "println(\"<â> = \", mean(a))\n",
    "println(\"<â⁺â> = \",n̄)\n",
    "println(\"V(n̂) = \",Vn)\n",
    "println(\"rel. num. var. = \",sqrt(abs(Vn))/abs(n̄))"
   ]
  },
  {
   "cell_type": "code",
   "execution_count": 59,
   "metadata": {},
   "outputs": [],
   "source": [
    "#=let's check that if we make lots of separate calls and average, we get the same stats as one call\n",
    "a=[1.+im*1.]\n",
    "ā=[1.+im*1.]\n",
    "for j=1:N\n",
    "    b,b̄ = fock(n,1,dist=\"+W\")\n",
    "    push!(a,b[1]);push!(ā,b̄[1])\n",
    "end\n",
    "=#"
   ]
  },
  {
   "cell_type": "code",
   "execution_count": 108,
   "metadata": {},
   "outputs": [
    {
     "name": "stdout",
     "output_type": "stream",
     "text": [
      "  0.018268 seconds (51 allocations: 1.778 MiB)\n"
     ]
    },
    {
     "data": {
      "image/png": "[encoded data removed]",
      "text/plain": [
       "PyPlot.Figure(PyObject <matplotlib.figure.Figure object at 0x134e88450>)"
      ]
     },
     "metadata": {},
     "output_type": "display_data"
    },
    {
     "name": "stdout",
     "output_type": "stream",
     "text": [
      " \n",
      "n = 10 Fock state.\n",
      "N = 10000 samples.\n",
      " \n",
      "averages\n",
      "<â> = 0.006392380828518586 - 0.007597004024854874im\n",
      "<â⁺â> = 10.006828077790122 + 0.006079047560700826im\n",
      "V(n̂) = -0.23519091467314013 + 0.550917818050299im\n",
      "rel. num. var. = 0.07734357065463462\n"
     ]
    }
   ],
   "source": [
    "n = 10\n",
    "N = 10000\n",
    "@time a,ā = fock(n,N,dist=\"+W\")\n",
    "\n",
    "figure(figsize=(2,2))\n",
    "scatter(real(a),imag(a),s=.5,c=\"blue\")\n",
    "axis(\"square\")\n",
    "axis([-sqrt(3n),sqrt(3n),-sqrt(3n),sqrt(3n)])\n",
    "n̄ = mean(ā.*a)-.5\n",
    "Vn= mean(ā.^2.*a.^2)-mean(ā.*a)-n̄.^2\n",
    "println(\" \")\n",
    "println(\"n = $n Fock state.\")\n",
    "println(\"N = $N samples.\")\n",
    "println(\" \")\n",
    "println(\"averages\")\n",
    "println(\"<â> = \", mean(a))\n",
    "println(\"<â⁺â> = \",n̄)\n",
    "println(\"V(n̂) = \",Vn)\n",
    "println(\"rel. num. var. = \",sqrt(abs(Vn))/abs(n̄))"
   ]
  },
  {
   "cell_type": "code",
   "execution_count": null,
   "metadata": {},
   "outputs": [],
   "source": [
    "#=\n",
    "n = 10 Fock state, 10000 samples\n",
    " \n",
    "averages\n",
    "<â> = 0.013788850239513201 - 0.005329092432429048im\n",
    "<â⁺â> = 10.002153003000107\n",
    "V(n̂) = 0.00249710284272453\n",
    "rel. num. var. = 0.004996026356912298\n",
    "=#"
   ]
  },
  {
   "cell_type": "code",
   "execution_count": 106,
   "metadata": {},
   "outputs": [
    {
     "name": "stdout",
     "output_type": "stream",
     "text": [
      "  0.004072 seconds (51 allocations: 1.778 MiB)\n"
     ]
    },
    {
     "data": {
      "image/png": "[encoded data removed]",
      "text/plain": [
       "PyPlot.Figure(PyObject <matplotlib.figure.Figure object at 0x1257f6290>)"
      ]
     },
     "metadata": {},
     "output_type": "display_data"
    },
    {
     "name": "stdout",
     "output_type": "stream",
     "text": [
      " \n",
      "n = 321 Fock state.\n",
      "N = 10000 samples.\n",
      " \n",
      "averages\n",
      "<â> = 0.012427089782225221 - 0.016801967985461033im\n",
      "<â⁺â> = 321.0443697617065 + 0.5584735012970539im\n",
      "V(n̂) = 24.608401098274044 + 8.666618267441834im\n",
      "rel. num. var. =0.015910016093256155\n"
     ]
    }
   ],
   "source": [
    "#for n>320 uses asymptotic expansion\n",
    "n=321\n",
    "N=10000\n",
    "@time a,ā = fock(n,N,dist=\"+W\")\n",
    "figure(figsize=(2,2))\n",
    "scatter(real(a),imag(a),s=.5,c=\"blue\")\n",
    "axis(\"square\")\n",
    "axis([-sqrt(2n),sqrt(2n),-sqrt(2n),sqrt(2n)])\n",
    "n̄ = mean(ā.*a)-.5\n",
    "Vn= mean(ā.^2.*a.^2)-mean(ā.*a)-n̄.^2\n",
    "println(\" \")\n",
    "println(\"n = $n Fock state.\")\n",
    "println(\"N = $N samples.\")\n",
    "println(\" \")\n",
    "println(\"averages\")\n",
    "println(\"<â> = \", mean(a))\n",
    "println(\"<â⁺â> = \",n̄)\n",
    "println(\"V(n̂) = \",Vn)\n",
    "println(\"rel. num. var. =\",sqrt(abs(Vn))/abs(n̄))"
   ]
  },
  {
   "cell_type": "code",
   "execution_count": 107,
   "metadata": {},
   "outputs": [
    {
     "name": "stdout",
     "output_type": "stream",
     "text": [
      "  0.005109 seconds (52 allocations: 1.778 MiB)\n"
     ]
    },
    {
     "data": {
      "image/png": "[encoded data removed]",
      "text/plain": [
       "PyPlot.Figure(PyObject <matplotlib.figure.Figure object at 0x134fb6450>)"
      ]
     },
     "metadata": {},
     "output_type": "display_data"
    },
    {
     "name": "stdout",
     "output_type": "stream",
     "text": [
      " \n",
      "n = 10000 Fock state.\n",
      "N = 10000 samples.\n",
      " \n",
      "averages\n",
      "<â⁺â> = 10000.732701425655 - 0.4141789723972981im\n",
      "V(n̂) = -269.3250790834427 + 8.719802071904269im\n",
      "<â> = 0.035480853776490996 + 0.3125906398099439im\n",
      "rel. num. var. =0.001641422299862208\n"
     ]
    }
   ],
   "source": [
    "#push n and N\n",
    "n=10000\n",
    "N=10000\n",
    "@time a,ā = fock(n,N,dist=\"+W\")\n",
    "figure(figsize=(2,2))\n",
    "scatter(real(a),imag(a),s=.5,c=\"blue\")\n",
    "axis(\"square\")\n",
    "axis([-sqrt(2n),sqrt(2n),-sqrt(2n),sqrt(2n)])\n",
    "n̄ = mean(ā.*a)-.5\n",
    "Vn= mean(ā.^2.*a.^2)-mean(ā.*a)-n̄.^2\n",
    "println(\" \")\n",
    "println(\"n = $n Fock state.\")\n",
    "println(\"N = $N samples.\")\n",
    "println(\" \")\n",
    "println(\"averages\")\n",
    "println(\"<â> = \", mean(a))\n",
    "println(\"<â⁺â> = \",n̄)\n",
    "println(\"V(n̂) = \",Vn)\n",
    "println(\"rel. num. var. =\",sqrt(abs(Vn))/abs(n̄))"
   ]
  },
  {
   "cell_type": "code",
   "execution_count": 18,
   "metadata": {},
   "outputs": [
    {
     "name": "stdout",
     "output_type": "stream",
     "text": [
      "search: \u001b[1mc\u001b[22m\u001b[1mr\u001b[22m\u001b[1me\u001b[22m\u001b[1ms\u001b[22m\u001b[1mc\u001b[22m\u001b[1me\u001b[22m\u001b[1mn\u001b[22m\u001b[1mt\u001b[22m\n",
      "\n"
     ]
    },
    {
     "data": {
      "text/markdown": [
       "```\n",
       "a,ā = crescent(β,ϵ,q,N;dist=\"+P\")\n",
       "```\n",
       "\n",
       "Sample the phase-space distribution for a crescent state. First samples a squeezed state, then introduces a searing factor in phase-space in the form of a gaussian distributed random phase.\n",
       "\n",
       "`β` is coherent (complex) amplitude.\n",
       "\n",
       "`ϵ`: squeezing paramter.\n",
       "\n",
       "`q`: shearing parameter.\n",
       "\n",
       "`N`: number of samples.\n",
       "\n",
       "`dist`: phase-space distribution. Can be `+P`,`Q` or `W`.\n",
       "\n",
       "For standard `P,Q,W` distributions, `a` and `ā` are complex conjugate, while for `+P` etc, `a` and `ā` are independent variables.\n"
      ],
      "text/plain": [
       "```\n",
       "a,ā = crescent(β,ϵ,q,N;dist=\"+P\")\n",
       "```\n",
       "\n",
       "Sample the phase-space distribution for a crescent state. First samples a squeezed state, then introduces a searing factor in phase-space in the form of a gaussian distributed random phase.\n",
       "\n",
       "`β` is coherent (complex) amplitude.\n",
       "\n",
       "`ϵ`: squeezing paramter.\n",
       "\n",
       "`q`: shearing parameter.\n",
       "\n",
       "`N`: number of samples.\n",
       "\n",
       "`dist`: phase-space distribution. Can be `+P`,`Q` or `W`.\n",
       "\n",
       "For standard `P,Q,W` distributions, `a` and `ā` are complex conjugate, while for `+P` etc, `a` and `ā` are independent variables.\n"
      ]
     },
     "execution_count": 18,
     "metadata": {},
     "output_type": "execute_result"
    }
   ],
   "source": [
    "?crescent"
   ]
  },
  {
   "cell_type": "code",
   "execution_count": 17,
   "metadata": {},
   "outputs": [
    {
     "data": {
      "image/png": "[encoded data removed]",
      "text/plain": [
       "PyPlot.Figure(PyObject <matplotlib.figure.Figure object at 0x13456af50>)"
      ]
     },
     "metadata": {},
     "output_type": "display_data"
    },
    {
     "name": "stdout",
     "output_type": "stream",
     "text": [
      "100.1085191890046 + 0.0im\n",
      "100.0\n"
     ]
    }
   ],
   "source": [
    "β = 10\n",
    "ϵ = 0\n",
    "q = .5\n",
    "N = 5000\n",
    "a,ā = crescent(β,ϵ,q,N;dist=\"W\")\n",
    "figure(figsize=(2,2))\n",
    "scatter(real(a),imag(a),s=1,c=\"blue\")\n",
    "axis(\"square\")\n",
    "axis([-20,20,-20,20]);\n",
    "println(mean(a.*ā)-.5)\n",
    "#not quite the right moments for crescent state, but a sanity check of sorts:\n",
    "println(sinh(abs(ϵ)).^2+abs2(β)) "
   ]
  },
  {
   "cell_type": "code",
   "execution_count": 18,
   "metadata": {},
   "outputs": [
    {
     "data": {
      "image/png": "[encoded data removed]",
      "text/plain": [
       "PyPlot.Figure(PyObject <matplotlib.figure.Figure object at 0x1347f9210>)"
      ]
     },
     "metadata": {},
     "output_type": "display_data"
    },
    {
     "name": "stdout",
     "output_type": "stream",
     "text": [
      "100.18079674399286 + 0.0im\n",
      "100.0\n"
     ]
    }
   ],
   "source": [
    "β = 10\n",
    "ϵ = 0\n",
    "q = .4\n",
    "N = 5000\n",
    "a,ā = crescent(β,ϵ,q,N;dist=\"Q\")\n",
    "figure(figsize=(2,2))\n",
    "scatter(real(a),imag(a),s=1,c=\"blue\")\n",
    "axis(\"square\")\n",
    "axis([-20,20,-20,20]);\n",
    "println(mean(a.*ā)-1)\n",
    "println(sinh(abs(ϵ)).^2+abs2(β)) #not quite the right moments for crescent state, but a check of sorts"
   ]
  },
  {
   "cell_type": "code",
   "execution_count": 19,
   "metadata": {
    "scrolled": true
   },
   "outputs": [
    {
     "data": {
      "image/png": "[encoded data removed]",
      "text/plain": [
       "PyPlot.Figure(PyObject <matplotlib.figure.Figure object at 0x13466c810>)"
      ]
     },
     "metadata": {},
     "output_type": "display_data"
    },
    {
     "name": "stdout",
     "output_type": "stream",
     "text": [
      "100.25741232534777 - 0.06841305238131193im\n",
      "100.0\n"
     ]
    }
   ],
   "source": [
    "β = 10\n",
    "ϵ = 0\n",
    "q = .4\n",
    "N = 5000\n",
    "a,ā = crescent(β,ϵ,q,N;dist=\"+P\")\n",
    "figure(figsize=(2,2))\n",
    "scatter(real(a),imag(a),s=1,c=\"blue\")\n",
    "axis(\"square\")\n",
    "axis([-20,20,-20,20]);\n",
    "println(mean(a.*ā))\n",
    "println(sinh(abs(ϵ)).^2+abs2(β)) #not quite the right moments for crescent state, but a check of sorts"
   ]
  },
  {
   "cell_type": "code",
   "execution_count": null,
   "metadata": {},
   "outputs": [],
   "source": []
  },
  {
   "cell_type": "code",
   "execution_count": null,
   "metadata": {},
   "outputs": [],
   "source": []
  }
 ],
 "metadata": {
  "kernelspec": {
   "display_name": "Julia 0.6.2",
   "language": "julia",
   "name": "julia-0.6"
  },
  "language_info": {
   "file_extension": ".jl",
   "mimetype": "application/julia",
   "name": "julia",
   "version": "0.6.2"
  }
 },
 "nbformat": 4,
 "nbformat_minor": 2
}
