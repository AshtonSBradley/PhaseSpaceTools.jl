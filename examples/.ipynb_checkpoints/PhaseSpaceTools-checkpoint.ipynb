{
 "cells": [
  {
   "cell_type": "markdown",
   "metadata": {},
   "source": [
    "Sampling single mode initial states using methods presented in the article\n",
    "- [Olsen, Bradley, Opt. Comm. 282 (2009) 3924-3929](https://doi.org/10.1016/j.optcom.2009.06.033); errata [Olsen, Lewis-Swan, Bradley, Opt. Comm. 370 (2016) 327-328](https://doi.org/10.1016/j.optcom.2016.02.068)\n",
    "\n",
    "We also sample some new distributions:\n",
    "- fock state for +W\n",
    "- thermal state for +P"
   ]
  },
  {
   "cell_type": "code",
   "execution_count": 1,
   "metadata": {},
   "outputs": [],
   "source": [
    "using PhaseSpaceTools, PyPlot"
   ]
  },
  {
   "cell_type": "code",
   "execution_count": 2,
   "metadata": {},
   "outputs": [
    {
     "name": "stdout",
     "output_type": "stream",
     "text": [
      "search: \u001b[1mc\u001b[22m\u001b[1mo\u001b[22m\u001b[1mh\u001b[22m\u001b[1me\u001b[22m\u001b[1mr\u001b[22m\u001b[1me\u001b[22m\u001b[1mn\u001b[22m\u001b[1mt\u001b[22m \u001b[1mc\u001b[22m\u001b[1mo\u001b[22m\u001b[1mh\u001b[22m\u001b[1me\u001b[22m\u001b[1mr\u001b[22m\u001b[1me\u001b[22m\n",
      "\n"
     ]
    },
    {
     "data": {
      "text/markdown": [
       "```\n",
       "a,ā = coherent(β,N;dist=\"+P\")\n",
       "```\n",
       "\n",
       "Sample the phase-space distribution for a coherent state.\n",
       "\n",
       "`β`: coherent (complex) amplitude.\n",
       "\n",
       "`N`: number of samples.\n",
       "\n",
       "`dist`: phase-space distrubtion. Can be either `W` or `+P`.\n",
       "\n",
       "For a coherent state in +P, the distribution is just a point on the complex plane at the position of the coherent amplitude.\n",
       "\n",
       "For standard `P,Q,W` distributions, `a` and `ā` are complex conjugate, while for `+P` etc, `a` and `ā` are independent variables.\n"
      ],
      "text/plain": [
       "```\n",
       "a,ā = coherent(β,N;dist=\"+P\")\n",
       "```\n",
       "\n",
       "Sample the phase-space distribution for a coherent state.\n",
       "\n",
       "`β`: coherent (complex) amplitude.\n",
       "\n",
       "`N`: number of samples.\n",
       "\n",
       "`dist`: phase-space distrubtion. Can be either `W` or `+P`.\n",
       "\n",
       "For a coherent state in +P, the distribution is just a point on the complex plane at the position of the coherent amplitude.\n",
       "\n",
       "For standard `P,Q,W` distributions, `a` and `ā` are complex conjugate, while for `+P` etc, `a` and `ā` are independent variables.\n"
      ]
     },
     "execution_count": 2,
     "metadata": {},
     "output_type": "execute_result"
    }
   ],
   "source": [
    "?coherent"
   ]
  },
  {
   "cell_type": "code",
   "execution_count": 3,
   "metadata": {},
   "outputs": [
    {
     "data": {
      "image/png": "[encoded data removed]",
      "text/plain": [
       "PyPlot.Figure(PyObject <matplotlib.figure.Figure object at 0x12b510610>)"
      ]
     },
     "metadata": {},
     "output_type": "display_data"
    },
    {
     "name": "stdout",
     "output_type": "stream",
     "text": [
      "100.65085376233522 + 0.0im\n"
     ]
    }
   ],
   "source": [
    "b=10\n",
    "N=1000\n",
    "a,ā = coherent(b,N,dist=\"W\")\n",
    "figure(figsize=(2,2))\n",
    "scatter(real(a),imag(a),s=1,c=\"blue\")\n",
    "axis(\"square\")\n",
    "axis([-20,20,-20,20]);\n",
    "println(mean(a.*ā)-.5)"
   ]
  },
  {
   "cell_type": "code",
   "execution_count": 4,
   "metadata": {},
   "outputs": [
    {
     "name": "stdout",
     "output_type": "stream",
     "text": [
      "search: \u001b[1mt\u001b[22m\u001b[1mh\u001b[22m\u001b[1me\u001b[22m\u001b[1mr\u001b[22m\u001b[1mm\u001b[22m\u001b[1ma\u001b[22m\u001b[1ml\u001b[22m\n",
      "\n"
     ]
    },
    {
     "data": {
      "text/markdown": [
       "```\n",
       "a,ā = thermal(β,n̄,N;dist=\"P\")\n",
       "```\n",
       "\n",
       "Sample the phase-space distribution for a thermal state.\n",
       "\n",
       "`β`: coherent (complex) displacement.\n",
       "\n",
       "`n̄`: thermal average population.\n",
       "\n",
       "`N`: number of samples.\n",
       "\n",
       "`dist`: phase-space distribution. Can be `P`, `Q` or `W`.\n",
       "\n",
       "For standard `P,Q,W` distributions, `a` and `ā` are complex conjugate, while for `+P` etc, `a` and `ā` are independent variables.\n"
      ],
      "text/plain": [
       "```\n",
       "a,ā = thermal(β,n̄,N;dist=\"P\")\n",
       "```\n",
       "\n",
       "Sample the phase-space distribution for a thermal state.\n",
       "\n",
       "`β`: coherent (complex) displacement.\n",
       "\n",
       "`n̄`: thermal average population.\n",
       "\n",
       "`N`: number of samples.\n",
       "\n",
       "`dist`: phase-space distribution. Can be `P`, `Q` or `W`.\n",
       "\n",
       "For standard `P,Q,W` distributions, `a` and `ā` are complex conjugate, while for `+P` etc, `a` and `ā` are independent variables.\n"
      ]
     },
     "execution_count": 4,
     "metadata": {},
     "output_type": "execute_result"
    }
   ],
   "source": [
    "?thermal"
   ]
  },
  {
   "cell_type": "code",
   "execution_count": 5,
   "metadata": {},
   "outputs": [
    {
     "data": {
      "image/png": "[encoded data removed]",
      "text/plain": [
       "PyPlot.Figure(PyObject <matplotlib.figure.Figure object at 0x12b594150>)"
      ]
     },
     "metadata": {},
     "output_type": "display_data"
    },
    {
     "data": {
      "text/plain": [
       "9.950993716983506 + 0.0im"
      ]
     },
     "execution_count": 5,
     "metadata": {},
     "output_type": "execute_result"
    }
   ],
   "source": [
    "a,ā = thermal(0,10,5000;dist=\"P\")\n",
    "figure(figsize=(2,2))\n",
    "scatter(real(a),imag(a),s=1,c=\"blue\")\n",
    "axis(\"square\")\n",
    "axis([-20,20,-20,20]);\n",
    "mean(a.*ā)"
   ]
  },
  {
   "cell_type": "code",
   "execution_count": 6,
   "metadata": {},
   "outputs": [
    {
     "data": {
      "image/png": "[encoded data removed]",
      "text/plain": [
       "PyPlot.Figure(PyObject <matplotlib.figure.Figure object at 0x12b779d10>)"
      ]
     },
     "metadata": {},
     "output_type": "display_data"
    },
    {
     "data": {
      "text/plain": [
       "9.788357863156154 + 0.0im"
      ]
     },
     "execution_count": 6,
     "metadata": {},
     "output_type": "execute_result"
    }
   ],
   "source": [
    "a,ā = thermal(0,10,5000;dist=\"W\")\n",
    "figure(figsize=(2,2))\n",
    "scatter(real(a),imag(ā),s=1,c=\"blue\")\n",
    "axis(\"square\")\n",
    "axis([-20,20,-20,20]);\n",
    "mean(a.*ā)-.5"
   ]
  },
  {
   "cell_type": "code",
   "execution_count": 7,
   "metadata": {},
   "outputs": [
    {
     "name": "stdout",
     "output_type": "stream",
     "text": [
      "search: \u001b[1ms\u001b[22m\u001b[1mq\u001b[22m\u001b[1mu\u001b[22m\u001b[1me\u001b[22m\u001b[1me\u001b[22m\u001b[1mz\u001b[22m\u001b[1me\u001b[22m\u001b[1md\u001b[22m \u001b[1ms\u001b[22m\u001b[1mq\u001b[22m\u001b[1mu\u001b[22m\u001b[1me\u001b[22m\u001b[1me\u001b[22m\u001b[1mz\u001b[22m\u001b[1me\u001b[22m\n",
      "\n"
     ]
    },
    {
     "data": {
      "text/markdown": [
       "```\n",
       "a,ā = squeezed(β,ϵ,N;dist=\"+P\")\n",
       "```\n",
       "\n",
       "Sample the phase-space distribution for a squeezed state.\n",
       "\n",
       "`β`: coherent (complex) amplitude.\n",
       "\n",
       "`ϵ`: complex valued squeezing parameter.\n",
       "\n",
       "`N`: number of samples.\n",
       "\n",
       "`dist`: phase-space distribution; can be `W` or `+P`.\n",
       "\n",
       "For standard `P,Q,W` distributions, `a` and `ā` are complex conjugate, while for `+P` etc, `a` and `ā` are independent variables.\n"
      ],
      "text/plain": [
       "```\n",
       "a,ā = squeezed(β,ϵ,N;dist=\"+P\")\n",
       "```\n",
       "\n",
       "Sample the phase-space distribution for a squeezed state.\n",
       "\n",
       "`β`: coherent (complex) amplitude.\n",
       "\n",
       "`ϵ`: complex valued squeezing parameter.\n",
       "\n",
       "`N`: number of samples.\n",
       "\n",
       "`dist`: phase-space distribution; can be `W` or `+P`.\n",
       "\n",
       "For standard `P,Q,W` distributions, `a` and `ā` are complex conjugate, while for `+P` etc, `a` and `ā` are independent variables.\n"
      ]
     },
     "execution_count": 7,
     "metadata": {},
     "output_type": "execute_result"
    }
   ],
   "source": [
    "?squeezed"
   ]
  },
  {
   "cell_type": "code",
   "execution_count": 8,
   "metadata": {},
   "outputs": [
    {
     "data": {
      "image/png": "[encoded data removed]",
      "text/plain": [
       "PyPlot.Figure(PyObject <matplotlib.figure.Figure object at 0x12b8b3150>)"
      ]
     },
     "metadata": {},
     "output_type": "display_data"
    },
    {
     "name": "stdout",
     "output_type": "stream",
     "text": [
      "104.27775095773542 + 0.0im\n",
      "104.53383099788888\n"
     ]
    }
   ],
   "source": [
    "β = 10\n",
    "ϕ = π/16\n",
    "r = 1.5\n",
    "ϵ = r*exp(2*im*ϕ)\n",
    "N = 10000\n",
    "a,ā = squeezed(β,ϵ,N,dist=\"W\")\n",
    "figure(figsize=(2,2))\n",
    "scatter(real(a),imag(ā),s=1,c=\"blue\")\n",
    "axis(\"square\")\n",
    "axis([-20,20,-20,20]);\n",
    "println(mean(a.*ā)-.5)\n",
    "println(sinh(abs(ϵ)).^2+abs2(β))"
   ]
  },
  {
   "cell_type": "code",
   "execution_count": 9,
   "metadata": {},
   "outputs": [
    {
     "data": {
      "image/png": "[encoded data removed]",
      "text/plain": [
       "PyPlot.Figure(PyObject <matplotlib.figure.Figure object at 0x133f72410>)"
      ]
     },
     "metadata": {},
     "output_type": "display_data"
    },
    {
     "name": "stdout",
     "output_type": "stream",
     "text": [
      "113.39206843383774\n",
      "113.15411641800824\n"
     ]
    }
   ],
   "source": [
    "β = 10\n",
    "ϕ = π/16\n",
    "r = 2\n",
    "ϵ = r*exp(2*im*ϕ)\n",
    "N = 10000\n",
    "a,ā = squeezed(β,ϵ,N;dist=\"+P\")\n",
    "figure(figsize=(2,2))\n",
    "scatter(real(a),imag(a),s=1,c=\"blue\")\n",
    "axis(\"square\")\n",
    "axis([-20,20,-20,20]);\n",
    "println(real(mean(a.*ā)))\n",
    "println(sinh(abs(ϵ)).^2+abs2(β))"
   ]
  },
  {
   "cell_type": "code",
   "execution_count": 10,
   "metadata": {},
   "outputs": [
    {
     "name": "stdout",
     "output_type": "stream",
     "text": [
      "search: \u001b[1mf\u001b[22m\u001b[1mo\u001b[22m\u001b[1mc\u001b[22m\u001b[1mk\u001b[22m \u001b[1mf\u001b[22m\u001b[1mo\u001b[22mrea\u001b[1mc\u001b[22mh Uni\u001b[1mf\u001b[22m\u001b[1mo\u001b[22mrmS\u001b[1mc\u001b[22maling \u001b[1mf\u001b[22muncti\u001b[1mo\u001b[22mnlo\u001b[1mc\u001b[22m @\u001b[1mf\u001b[22muncti\u001b[1mo\u001b[22mnlo\u001b[1mc\u001b[22m\n",
      "\n"
     ]
    },
    {
     "data": {
      "text/markdown": [
       "```\n",
       "a,ā = fock(n,N;dist=\"+P\")\n",
       "```\n",
       "\n",
       "Sample the phase-space distribution for a Fock state.\n",
       "\n",
       "`n`: number of the fock state |n⟩.\n",
       "\n",
       "`N`: number of samples.\n",
       "\n",
       "`dist`: phase-space distribution can be either `W`, `+W`, or `+P`.\n",
       "\n",
       "For standard `P,Q,W` distributions, `a` and `ā` are complex conjugate, while for `+P` etc, `a` and `ā` are independent variables.\n",
       "\n",
       "## Wigner representation\n",
       "\n",
       "  * The standard `W` is sampled using an approximation that reproduces operator averages accuratley for large `n`, but neglects some quantum correlations.\n",
       "  * The `+W` sampling is carried out in a doubled phase space, where the distribution is positive semi-definite, and hence may be sampled exactly for any `n`. Fast evaluation is achieved for large `n` using an accurate asymptotic expansion `(n>320)`.\n"
      ],
      "text/plain": [
       "```\n",
       "a,ā = fock(n,N;dist=\"+P\")\n",
       "```\n",
       "\n",
       "Sample the phase-space distribution for a Fock state.\n",
       "\n",
       "`n`: number of the fock state |n⟩.\n",
       "\n",
       "`N`: number of samples.\n",
       "\n",
       "`dist`: phase-space distribution can be either `W`, `+W`, or `+P`.\n",
       "\n",
       "For standard `P,Q,W` distributions, `a` and `ā` are complex conjugate, while for `+P` etc, `a` and `ā` are independent variables.\n",
       "\n",
       "## Wigner representation\n",
       "\n",
       "  * The standard `W` is sampled using an approximation that reproduces operator averages accuratley for large `n`, but neglects some quantum correlations.\n",
       "  * The `+W` sampling is carried out in a doubled phase space, where the distribution is positive semi-definite, and hence may be sampled exactly for any `n`. Fast evaluation is achieved for large `n` using an accurate asymptotic expansion `(n>320)`.\n"
      ]
     },
     "execution_count": 10,
     "metadata": {},
     "output_type": "execute_result"
    }
   ],
   "source": [
    "?fock"
   ]
  },
  {
   "cell_type": "code",
   "execution_count": 11,
   "metadata": {},
   "outputs": [
    {
     "data": {
      "image/png": "[encoded data removed]",
      "text/plain": [
       "PyPlot.Figure(PyObject <matplotlib.figure.Figure object at 0x12b796350>)"
      ]
     },
     "metadata": {},
     "output_type": "display_data"
    },
    {
     "name": "stdout",
     "output_type": "stream",
     "text": [
      "99.9932089855504 + 0.0im\n",
      "100\n"
     ]
    }
   ],
   "source": [
    "n = 100\n",
    "N = 10000\n",
    "a,ā = fock(n,N;dist=\"W\")\n",
    "figure(figsize=(2,2))\n",
    "scatter(real(a),imag(ā),s=.5,c=\"blue\")\n",
    "axis(\"square\")\n",
    "axis([-20,20,-20,20]);\n",
    "println(mean(a.*ā)-.5)\n",
    "println(n)"
   ]
  },
  {
   "cell_type": "code",
   "execution_count": 12,
   "metadata": {},
   "outputs": [
    {
     "name": "stdout",
     "output_type": "stream",
     "text": [
      "  0.000956 seconds (112 allocations: 1.533 MiB)\n",
      "n = 320\n",
      "<â⁺â> = "
     ]
    },
    {
     "data": {
      "image/png": "[encoded data removed]",
      "text/plain": [
       "PyPlot.Figure(PyObject <matplotlib.figure.Figure object at 0x12b8f41d0>)"
      ]
     },
     "metadata": {},
     "output_type": "display_data"
    },
    {
     "name": "stdout",
     "output_type": "stream",
     "text": [
      "320.3267706875801 - 0.031232523339279im\n",
      "V(n̂) = 4.121203398346552 + 9.855349821007096im\n"
     ]
    }
   ],
   "source": [
    "n = 320\n",
    "N = 10000\n",
    "@time a,ā = fock(n,N;dist=\"+P\")\n",
    "figure(figsize=(2,2))\n",
    "scatter(real(a),imag(a),s=.5,c=\"blue\")\n",
    "axis(\"square\")\n",
    "axis([-sqrt(2n),sqrt(2n),-sqrt(2n),sqrt(2n)])\n",
    "println(\"n = \", n)\n",
    "n̄ = mean(ā.*a)\n",
    "Vn= mean(ā.^2.*a.^2)+mean(ā.*a)-n̄.^2\n",
    "println(\"<â⁺â> = \", n̄)\n",
    "println(\"V(n̂) = \",Vn)"
   ]
  },
  {
   "cell_type": "code",
   "execution_count": 14,
   "metadata": {},
   "outputs": [
    {
     "data": {
      "image/png": "[encoded data removed]",
      "text/plain": [
       "PyPlot.Figure(PyObject <matplotlib.figure.Figure object at 0x13435a4d0>)"
      ]
     },
     "metadata": {},
     "output_type": "display_data"
    },
    {
     "name": "stdout",
     "output_type": "stream",
     "text": [
      "  0.148835 seconds (51 allocations: 1.778 MiB)\n",
      "n = 320\n",
      "<â⁺â> = 319.87714248543625 - 0.3979917298179553im\n",
      "V(n̂) = -11.210762403497938 - 4.659462882556824im\n"
     ]
    }
   ],
   "source": [
    "n = 320\n",
    "N = 10000\n",
    "@time a,ā = fock(n,N,dist=\"+W\")\n",
    "figure(figsize=(2,2))\n",
    "scatter(real(a),imag(a),s=.5,c=\"blue\")\n",
    "axis(\"square\")\n",
    "axis([-sqrt(2n),sqrt(2n),-sqrt(2n),sqrt(2n)])\n",
    "println(\"n = \", n)\n",
    "n̄ = mean(ā.*a)-.5\n",
    "Vn= mean(ā.^2.*a.^2)-mean(ā.*a)-n̄.^2\n",
    "println(\"<â⁺â> = \",n̄)\n",
    "println(\"V(n̂) = \",Vn)"
   ]
  },
  {
   "cell_type": "code",
   "execution_count": 16,
   "metadata": {},
   "outputs": [
    {
     "name": "stdout",
     "output_type": "stream",
     "text": [
      "  0.002102 seconds (51 allocations: 1.778 MiB)\n",
      "n = 321\n",
      "<â⁺â> = "
     ]
    },
    {
     "data": {
      "image/png": "[encoded data removed]",
      "text/plain": [
       "PyPlot.Figure(PyObject <matplotlib.figure.Figure object at 0x12b9578d0>)"
      ]
     },
     "metadata": {},
     "output_type": "display_data"
    },
    {
     "name": "stdout",
     "output_type": "stream",
     "text": [
      "320.77843637930897 + 0.38242964499209003im\n",
      "V(n̂) = -27.98830515964073 + 10.182383264761114im\n"
     ]
    }
   ],
   "source": [
    "#for n>320 uses asymptotic expansion\n",
    "n=321\n",
    "N=10000\n",
    "@time a,ā = fock(n,N,dist=\"+W\")\n",
    "figure(figsize=(2,2))\n",
    "scatter(real(a),imag(a),s=.5,c=\"blue\")\n",
    "axis(\"square\")\n",
    "axis([-sqrt(2n),sqrt(2n),-sqrt(2n),sqrt(2n)])\n",
    "println(\"n = \", n)\n",
    "n̄ = mean(ā.*a)-.5\n",
    "Vn= mean(ā.^2.*a.^2)-mean(ā.*a)-n̄.^2\n",
    "println(\"<â⁺â> = \",n̄)\n",
    "println(\"V(n̂) = \",Vn)"
   ]
  },
  {
   "cell_type": "code",
   "execution_count": 17,
   "metadata": {},
   "outputs": [
    {
     "name": "stdout",
     "output_type": "stream",
     "text": [
      "  0.332908 seconds (69 allocations: 161.590 MiB, 25.80% gc time)\n",
      "n = "
     ]
    },
    {
     "data": {
      "image/png": "[encoded data removed]",
      "text/plain": [
       "PyPlot.Figure(PyObject <matplotlib.figure.Figure object at 0x12513cc90>)"
      ]
     },
     "metadata": {},
     "output_type": "display_data"
    },
    {
     "name": "stdout",
     "output_type": "stream",
     "text": [
      "10000\n",
      "<â⁺â> = 10000.066891586448 + 0.15092363041207643im\n",
      "V(n̂) = -34.01266537606716 + 24.02096703662346im\n"
     ]
    }
   ],
   "source": [
    "#push n and N\n",
    "n=10000\n",
    "N=1000000\n",
    "@time a,ā = fock(n,N,dist=\"+W\")\n",
    "figure(figsize=(2,2))\n",
    "scatter(real(a),imag(a),s=.5,c=\"blue\")\n",
    "axis(\"square\")\n",
    "axis([-sqrt(2n),sqrt(2n),-sqrt(2n),sqrt(2n)])\n",
    "println(\"n = \", n)\n",
    "n̄ = mean(ā.*a)-.5\n",
    "Vn= mean(ā.^2.*a.^2)-mean(ā.*a)-n̄.^2\n",
    "println(\"<â⁺â> = \",n̄)\n",
    "println(\"V(n̂) = \",Vn)"
   ]
  },
  {
   "cell_type": "code",
   "execution_count": 18,
   "metadata": {},
   "outputs": [
    {
     "name": "stdout",
     "output_type": "stream",
     "text": [
      "search: \u001b[1mc\u001b[22m\u001b[1mr\u001b[22m\u001b[1me\u001b[22m\u001b[1ms\u001b[22m\u001b[1mc\u001b[22m\u001b[1me\u001b[22m\u001b[1mn\u001b[22m\u001b[1mt\u001b[22m\n",
      "\n"
     ]
    },
    {
     "data": {
      "text/markdown": [
       "```\n",
       "a,ā = crescent(β,ϵ,q,N;dist=\"+P\")\n",
       "```\n",
       "\n",
       "Sample the phase-space distribution for a crescent state. First samples a squeezed state, then introduces a searing factor in phase-space in the form of a gaussian distributed random phase.\n",
       "\n",
       "`β` is coherent (complex) amplitude.\n",
       "\n",
       "`ϵ`: squeezing paramter.\n",
       "\n",
       "`q`: shearing parameter.\n",
       "\n",
       "`N`: number of samples.\n",
       "\n",
       "`dist`: phase-space distribution. Can be `+P`,`Q` or `W`.\n",
       "\n",
       "For standard `P,Q,W` distributions, `a` and `ā` are complex conjugate, while for `+P` etc, `a` and `ā` are independent variables.\n"
      ],
      "text/plain": [
       "```\n",
       "a,ā = crescent(β,ϵ,q,N;dist=\"+P\")\n",
       "```\n",
       "\n",
       "Sample the phase-space distribution for a crescent state. First samples a squeezed state, then introduces a searing factor in phase-space in the form of a gaussian distributed random phase.\n",
       "\n",
       "`β` is coherent (complex) amplitude.\n",
       "\n",
       "`ϵ`: squeezing paramter.\n",
       "\n",
       "`q`: shearing parameter.\n",
       "\n",
       "`N`: number of samples.\n",
       "\n",
       "`dist`: phase-space distribution. Can be `+P`,`Q` or `W`.\n",
       "\n",
       "For standard `P,Q,W` distributions, `a` and `ā` are complex conjugate, while for `+P` etc, `a` and `ā` are independent variables.\n"
      ]
     },
     "execution_count": 18,
     "metadata": {},
     "output_type": "execute_result"
    }
   ],
   "source": [
    "?crescent"
   ]
  },
  {
   "cell_type": "code",
   "execution_count": 19,
   "metadata": {},
   "outputs": [
    {
     "data": {
      "image/png": "[encoded data removed]",
      "text/plain": [
       "PyPlot.Figure(PyObject <matplotlib.figure.Figure object at 0x134239510>)"
      ]
     },
     "metadata": {},
     "output_type": "display_data"
    },
    {
     "name": "stdout",
     "output_type": "stream",
     "text": [
      "99.81253221172793 + 0.0im\n",
      "100.0\n"
     ]
    }
   ],
   "source": [
    "β = 10\n",
    "ϵ = 0\n",
    "q = .5\n",
    "N = 5000\n",
    "a,ā = crescent(β,ϵ,q,N;dist=\"W\")\n",
    "figure(figsize=(2,2))\n",
    "scatter(real(a),imag(a),s=1,c=\"blue\")\n",
    "axis(\"square\")\n",
    "axis([-20,20,-20,20]);\n",
    "println(mean(a.*ā)-.5)\n",
    "#not quite the right moments for crescent state, but a sanity check of sorts:\n",
    "println(sinh(abs(ϵ)).^2+abs2(β)) "
   ]
  },
  {
   "cell_type": "code",
   "execution_count": 20,
   "metadata": {},
   "outputs": [
    {
     "data": {
      "image/png": "[encoded data removed]",
      "text/plain": [
       "PyPlot.Figure(PyObject <matplotlib.figure.Figure object at 0x1347133d0>)"
      ]
     },
     "metadata": {},
     "output_type": "display_data"
    },
    {
     "name": "stdout",
     "output_type": "stream",
     "text": [
      "100.03816355970193 + 0.0im\n",
      "100.0\n"
     ]
    }
   ],
   "source": [
    "β = 10\n",
    "ϵ = 0\n",
    "q = .4\n",
    "N = 5000\n",
    "a,ā = crescent(β,ϵ,q,N;dist=\"Q\")\n",
    "figure(figsize=(2,2))\n",
    "scatter(real(a),imag(a),s=1,c=\"blue\")\n",
    "axis(\"square\")\n",
    "axis([-20,20,-20,20]);\n",
    "println(mean(a.*ā)-1)\n",
    "println(sinh(abs(ϵ)).^2+abs2(β)) #not quite the right moments for crescent state, but a check of sorts"
   ]
  },
  {
   "cell_type": "code",
   "execution_count": 21,
   "metadata": {
    "scrolled": true
   },
   "outputs": [
    {
     "data": {
      "image/png": "[encoded data removed]",
      "text/plain": [
       "PyPlot.Figure(PyObject <matplotlib.figure.Figure object at 0x12b5778d0>)"
      ]
     },
     "metadata": {},
     "output_type": "display_data"
    },
    {
     "name": "stdout",
     "output_type": "stream",
     "text": [
      "99.87803459230695 + 0.2652055601562838im\n",
      "100.0\n"
     ]
    }
   ],
   "source": [
    "β = 10\n",
    "ϵ = 0\n",
    "q = .4\n",
    "N = 5000\n",
    "a,ā = crescent(β,ϵ,q,N;dist=\"+P\")\n",
    "figure(figsize=(2,2))\n",
    "scatter(real(a),imag(a),s=1,c=\"blue\")\n",
    "axis(\"square\")\n",
    "axis([-20,20,-20,20]);\n",
    "println(mean(a.*ā))\n",
    "println(sinh(abs(ϵ)).^2+abs2(β)) #not quite the right moments for crescent state, but a check of sorts"
   ]
  }
 ],
 "metadata": {
  "kernelspec": {
   "display_name": "Julia 0.6.1",
   "language": "julia",
   "name": "julia-0.6"
  },
  "language_info": {
   "file_extension": ".jl",
   "mimetype": "application/julia",
   "name": "julia",
   "version": "0.6.2"
  }
 },
 "nbformat": 4,
 "nbformat_minor": 2
}
