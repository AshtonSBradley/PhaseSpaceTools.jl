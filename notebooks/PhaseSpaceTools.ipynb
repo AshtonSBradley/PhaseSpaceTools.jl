{
 "cells": [
  {
   "cell_type": "markdown",
   "metadata": {},
   "source": [
    "Sampling initial states using methods developed in the article\n",
    "- [Olsen, Bradley, Opt. Comm. 282 (2009) 3924-3929](https://arxiv.org/ct?url=http%3A%2F%2Fdx.doi.org%2F10%252E1016%2Fj%252Eoptcom%252E2009%252E06%252E033&v=329aef68)\n",
    "\n",
    "and some new methods we develop here"
   ]
  },
  {
   "cell_type": "code",
   "execution_count": 1,
   "metadata": {},
   "outputs": [
    {
     "name": "stderr",
     "output_type": "stream",
     "text": [
      "\u001b[1m\u001b[36mINFO: \u001b[39m\u001b[22m\u001b[36mRecompiling stale cache file /Users/abradley/.julia/lib/v0.6/DataStructures.ji for module DataStructures.\n",
      "\u001b[39m\u001b[1m\u001b[36mINFO: \u001b[39m\u001b[22m\u001b[36mRecompiling stale cache file /Users/abradley/.julia/lib/v0.6/Distributions.ji for module Distributions.\n",
      "\u001b[39m\u001b[1m\u001b[36mINFO: \u001b[39m\u001b[22m\u001b[36mRecompiling stale cache file /Users/abradley/.julia/lib/v0.6/PyPlot.ji for module PyPlot.\n",
      "\u001b[39m"
     ]
    }
   ],
   "source": [
    "using Distributions, PyPlot "
   ]
  },
  {
   "cell_type": "code",
   "execution_count": null,
   "metadata": {
    "collapsed": true
   },
   "outputs": [],
   "source": [
    "function coherent(β,N;dist=\"+P\")\n",
    "    α = β*ones(N)\n",
    "    ᾱ = conj(α)\n",
    "    return α, ᾱ\n",
    "end"
   ]
  },
  {
   "cell_type": "code",
   "execution_count": null,
   "metadata": {
    "collapsed": true
   },
   "outputs": [],
   "source": [
    "function coherent(β,N;dist=\"W\")\n",
    "    α = β + .5*(randn(N)+im*randn(N))\n",
    "    ᾱ = conj(α)\n",
    "    return α, ᾱ\n",
    "end"
   ]
  },
  {
   "cell_type": "code",
   "execution_count": null,
   "metadata": {
    "collapsed": true
   },
   "outputs": [],
   "source": [
    "a,ā = coherent(10,500)\n",
    "scatter(real(a),imag(a),s=1,c=\"blue\")\n",
    "axis(\"square\")\n",
    "axis([-20,20,-20,20]);\n",
    "mean(a.*ā)"
   ]
  },
  {
   "cell_type": "code",
   "execution_count": null,
   "metadata": {
    "collapsed": true
   },
   "outputs": [],
   "source": [
    "a,ā = thermal(0,10,5000;dist=\"P\")\n",
    "scatter(real(a),imag(a),s=1,c=\"blue\")\n",
    "axis(\"square\")\n",
    "axis([-20,20,-20,20]);\n",
    "mean(a.*ā)"
   ]
  },
  {
   "cell_type": "code",
   "execution_count": null,
   "metadata": {
    "collapsed": true
   },
   "outputs": [],
   "source": [
    "function thermal(β,n,N;dist=\"W\")\n",
    "    #β is coherent amplitude (complex)\n",
    "    #N is number of samples\n",
    "    #dist is distrubtion\n",
    "    α = β .+ .5*(randn(N)+im*randn(N))*sqrt(2*(n+0.5))\n",
    "    ᾱ = conj(α)\n",
    "    return α, ᾱ\n",
    "end"
   ]
  },
  {
   "cell_type": "code",
   "execution_count": null,
   "metadata": {
    "collapsed": true
   },
   "outputs": [],
   "source": [
    "a,ā = thermal(0,10,5000;dist=\"W\")\n",
    "scatter(real(a),imag(ā),s=1,c=\"blue\")\n",
    "axis(\"square\")\n",
    "axis([-20,20,-20,20]);\n",
    "mean(a.*ā)-.5"
   ]
  },
  {
   "cell_type": "code",
   "execution_count": null,
   "metadata": {
    "collapsed": true
   },
   "outputs": [],
   "source": [
    "function squeezed(β,ϵ,N;dist=\"W\")\n",
    "    #amplitude squeezing in x\n",
    "    #need to make squeezing angle general\n",
    "    r = abs(ϵ)\n",
    "    ϕ = angle(ϵ)/2\n",
    "    α = β + 0.5*(randn(N)*exp(-r)+im*randn(N)*exp(r))*exp(-im*ϕ)\n",
    "    ᾱ = conj(α)\n",
    "    return α, ᾱ\n",
    "end"
   ]
  },
  {
   "cell_type": "code",
   "execution_count": null,
   "metadata": {
    "collapsed": true
   },
   "outputs": [],
   "source": [
    "β = 10\n",
    "ϕ = π/16\n",
    "r = 1\n",
    "ϵ = r*exp(2*im*ϕ)\n",
    "N = 5000\n",
    "a,ā = squeezed(β,ϵ,N,dist=\"W\")\n",
    "scatter(real(a),imag(ā),s=1,c=\"blue\")\n",
    "axis(\"square\")\n",
    "axis([-20,20,-20,20]);\n",
    "println(mean(a.*ā)-.5)\n",
    "println(sinh(abs(ϵ)).^2+abs2(β))"
   ]
  },
  {
   "cell_type": "code",
   "execution_count": null,
   "metadata": {
    "collapsed": true
   },
   "outputs": [],
   "source": [
    "function squeezed(β,ϵ,N;dist=\"+P\")\n",
    "    r = abs(ϵ)\n",
    "    ϕ = angle(ϵ)/2\n",
    "    γ = (randn(N)+im*randn(N))/sqrt(2)\n",
    "    ν = sqrt(exp(-r)*cosh(r)/2)*randn(N)+im*sqrt(exp(r)*cosh(r)/2)*randn(N) \n",
    "    α = β + exp(im*ϕ)*ν + γ \n",
    "    ᾱ = conj(β) + exp(-im*ϕ)*conj(ν) - conj(γ) \n",
    "    return α, ᾱ\n",
    "end"
   ]
  },
  {
   "cell_type": "code",
   "execution_count": null,
   "metadata": {
    "collapsed": true
   },
   "outputs": [],
   "source": [
    "β = 10\n",
    "ϕ = π/16\n",
    "r = 2\n",
    "ϵ = r*exp(2*im*ϕ)\n",
    "N = 5000\n",
    "a,ā = squeezed(β,ϵ,N;dist=\"+P\")\n",
    "scatter(real(a),imag(a),s=1,c=\"blue\")\n",
    "axis(\"square\")\n",
    "axis([-20,20,-20,20]);\n",
    "println(mean(a.*ā))\n",
    "println(sinh(abs(ϵ)).^2+abs2(β))"
   ]
  },
  {
   "cell_type": "code",
   "execution_count": 2,
   "metadata": {},
   "outputs": [
    {
     "data": {
      "text/plain": [
       "fock (generic function with 1 method)"
      ]
     },
     "execution_count": 2,
     "metadata": {},
     "output_type": "execute_result"
    }
   ],
   "source": [
    "function fock(n,N;dist=\"W\")\n",
    "    p = 0.5*sqrt(2*n+1+2*sqrt(n^2+n))\n",
    "    q = 1/(4*p)\n",
    "    α = (p + q*randn(N)).*exp.(2π*im*rand(N))\n",
    "    ᾱ = conj(α)\n",
    "    return α,ᾱ\n",
    "end"
   ]
  },
  {
   "cell_type": "code",
   "execution_count": 3,
   "metadata": {},
   "outputs": [
    {
     "data": {
      "image/png": "[encoded data removed]",
      "text/plain": [
       "PyPlot.Figure(PyObject <matplotlib.figure.Figure object at 0x12b026550>)"
      ]
     },
     "metadata": {},
     "output_type": "display_data"
    },
    {
     "name": "stdout",
     "output_type": "stream",
     "text": [
      "100.01112854118746 + 0.0im\n",
      "100\n"
     ]
    }
   ],
   "source": [
    "n = 100\n",
    "N = 1000\n",
    "a,ā = fock(n,N;dist=\"W\")\n",
    "scatter(real(a),imag(ā),s=.5,c=\"blue\")\n",
    "axis(\"square\")\n",
    "axis([-20,20,-20,20]);\n",
    "println(mean(a.*ā)-.5)\n",
    "println(n)"
   ]
  },
  {
   "cell_type": "code",
   "execution_count": 20,
   "metadata": {},
   "outputs": [
    {
     "data": {
      "text/plain": [
       "fock (generic function with 1 method)"
      ]
     },
     "execution_count": 20,
     "metadata": {},
     "output_type": "execute_result"
    }
   ],
   "source": [
    "function fock(n,N;dist=\"+P\")\n",
    "    γ = (randn(N)+im*randn(N))/sqrt(2)\n",
    "    d = Gamma(n+1,1)\n",
    "    z = rand(d,N)\n",
    "    μ = sqrt.(z).*exp.(2π*im*rand(N))\n",
    "    α = μ + γ\n",
    "    ᾱ = conj(μ - γ)\n",
    "    return α, ᾱ\n",
    "end"
   ]
  },
  {
   "cell_type": "code",
   "execution_count": 22,
   "metadata": {},
   "outputs": [
    {
     "data": {
      "image/png": "[encoded data removed]",
      "text/plain": [
       "PyPlot.Figure(PyObject <matplotlib.figure.Figure object at 0x1546711690>)"
      ]
     },
     "metadata": {},
     "output_type": "display_data"
    },
    {
     "name": "stdout",
     "output_type": "stream",
     "text": [
      "9.999438497750488 - 0.1502394633875541im\n",
      "10\n"
     ]
    }
   ],
   "source": [
    "n = 10\n",
    "N = 5000\n",
    "a,ā = fock(n,N;dist=\"+P\")\n",
    "scatter(real(a),imag(a),s=.5,c=\"blue\")\n",
    "axis(\"square\")\n",
    "axis([-20,20,-20,20]);\n",
    "println(mean(a.*ā))\n",
    "println(n)"
   ]
  },
  {
   "cell_type": "code",
   "execution_count": null,
   "metadata": {
    "collapsed": true
   },
   "outputs": [],
   "source": [
    "function crescent(β,ϵ,q,N;dist=\"W\")\n",
    "    r = abs(ϵ)\n",
    "    ϕ = angle(ϵ)/2\n",
    "    α = β + 0.5*(randn(N)*exp(-r)+im*randn(N)*exp(r))*exp(im*ϕ)\n",
    "    α .*= exp.(im*q*randn(N))\n",
    "    ᾱ = conj(α)\n",
    "    return α,ᾱ\n",
    "end"
   ]
  },
  {
   "cell_type": "code",
   "execution_count": null,
   "metadata": {
    "collapsed": true
   },
   "outputs": [],
   "source": [
    "β = 10\n",
    "ϵ = 0\n",
    "q = .5\n",
    "N = 5000\n",
    "a,ā = crescent(β,ϵ,q,N;dist=\"W\")\n",
    "scatter(real(a),imag(a),s=1,c=\"blue\")\n",
    "axis(\"square\")\n",
    "axis([-20,20,-20,20]);\n",
    "println(mean(a.*ā)-.5)\n",
    "println(sinh(abs(ϵ)).^2+abs2(β)) #not quite the right moments for crescent state, but a check of sorts"
   ]
  },
  {
   "cell_type": "code",
   "execution_count": null,
   "metadata": {
    "collapsed": true
   },
   "outputs": [],
   "source": [
    "function crescent(β,ϵ,q,N;dist=\"Q\")\n",
    "    r = abs(ϵ)\n",
    "    ϕ = angle(ϵ)\n",
    "    α = β + (randn(N)*exp(-r)+im*randn(N)*exp(r))/sqrt(2)\n",
    "    α = α.*exp.(im*q*randn(N))\n",
    "    ᾱ = conj(α)\n",
    "    return α,ᾱ\n",
    "end"
   ]
  },
  {
   "cell_type": "code",
   "execution_count": null,
   "metadata": {
    "collapsed": true
   },
   "outputs": [],
   "source": [
    "β = 10\n",
    "ϵ = 0\n",
    "q = .4\n",
    "N = 5000\n",
    "a,ā = crescent(β,ϵ,q,N;dist=\"Q\")\n",
    "scatter(real(a),imag(a),s=1,c=\"blue\")\n",
    "axis(\"square\")\n",
    "axis([-20,20,-20,20]);\n",
    "println(mean(a.*ā)-1)\n",
    "println(sinh(abs(ϵ)).^2+abs2(β)) #not quite the right moments for crescent state, but a check of sorts"
   ]
  },
  {
   "cell_type": "code",
   "execution_count": null,
   "metadata": {
    "collapsed": true
   },
   "outputs": [],
   "source": [
    "function crescent(β,ϵ,q,N;dist=\"+P\")\n",
    "    r = abs(ϵ)\n",
    "    ϕ = angle(ϵ)\n",
    "    μ = β + (randn(N)*exp(-r)+im*randn(N)*exp(r))/sqrt(2)\n",
    "    μ .*= exp.(im*q*randn(N))\n",
    "    γ = (randn(N)+im*randn(N))/sqrt(2)\n",
    "    α = μ + γ\n",
    "    ᾱ = conj(μ - γ)\n",
    "    return α,ᾱ\n",
    "end"
   ]
  },
  {
   "cell_type": "code",
   "execution_count": null,
   "metadata": {
    "collapsed": true,
    "scrolled": true
   },
   "outputs": [],
   "source": [
    "β = 10\n",
    "ϵ = 0\n",
    "q = .4\n",
    "N = 5000\n",
    "a,ā = crescent(β,ϵ,q,N;dist=\"+P\")\n",
    "scatter(real(a),imag(a),s=1,c=\"blue\")\n",
    "axis(\"square\")\n",
    "axis([-20,20,-20,20]);\n",
    "println(mean(a.*ā))\n",
    "println(sinh(abs(ϵ)).^2+abs2(β)) #not quite the right moments for crescent state, but a check of sorts"
   ]
  },
  {
   "cell_type": "markdown",
   "metadata": {
    "collapsed": true
   },
   "source": [
    "# implement fock states for +W"
   ]
  },
  {
   "cell_type": "code",
   "execution_count": 2,
   "metadata": {},
   "outputs": [
    {
     "data": {
      "text/plain": [
       "reject (generic function with 1 method)"
      ]
     },
     "execution_count": 2,
     "metadata": {},
     "output_type": "execute_result"
    }
   ],
   "source": [
    "function reject(P,w,N,Pmax)\n",
    "    #rejection sampling the probability distribution P over the window w=[w1,w2]\n",
    "    #Pmax must be numerical with value max(P) < Pmax \n",
    "    samples = Array{Float64}(1)\n",
    "    while length(samples) < N + 1 \n",
    "        y = w[1] + rand()*(w[2]-w[1])\n",
    "        z = rand()*Pmax\n",
    "        if z < P(y)\n",
    "            push!(samples,y)\n",
    "        end\n",
    "    end\n",
    "    return samples[2:end]\n",
    "end\n",
    "    "
   ]
  },
  {
   "cell_type": "code",
   "execution_count": 3,
   "metadata": {},
   "outputs": [
    {
     "data": {
      "text/plain": [
       "f (generic function with 1 method)"
      ]
     },
     "execution_count": 3,
     "metadata": {},
     "output_type": "execute_result"
    }
   ],
   "source": [
    "f(x)=0.5*(exp(-x^2/2)/sqrt(2π)+exp(-(x-10)^2/8)/sqrt(8π))"
   ]
  },
  {
   "cell_type": "code",
   "execution_count": 4,
   "metadata": {},
   "outputs": [
    {
     "data": {
      "text/plain": [
       "weighted_hist (generic function with 1 method)"
      ]
     },
     "execution_count": 4,
     "metadata": {},
     "output_type": "execute_result"
    }
   ],
   "source": [
    "weighted_hist(x; kws...) = PyPlot.plt[:hist](x; weights=ones(length(x))/length(x), kws...)"
   ]
  },
  {
   "cell_type": "code",
   "execution_count": 5,
   "metadata": {},
   "outputs": [
    {
     "data": {
      "image/png": "[encoded data removed]",
      "text/plain": [
       "PyPlot.Figure(PyObject <matplotlib.figure.Figure object at 0x12340e490>)"
      ]
     },
     "metadata": {},
     "output_type": "display_data"
    }
   ],
   "source": [
    "a = reject(f,[-5,18],100000,f(0.))\n",
    "figure(figsize=(7,3))\n",
    "b = weighted_hist(a,bins=60);"
   ]
  },
  {
   "cell_type": "code",
   "execution_count": 6,
   "metadata": {},
   "outputs": [
    {
     "data": {
      "text/plain": [
       "(5.015351283885139, 5.246041696996848)"
      ]
     },
     "execution_count": 6,
     "metadata": {},
     "output_type": "execute_result"
    }
   ],
   "source": [
    "mean(a),sqrt(var(a))"
   ]
  },
  {
   "cell_type": "code",
   "execution_count": 7,
   "metadata": {},
   "outputs": [
    {
     "data": {
      "text/plain": [
       "laguerreL (generic function with 1 method)"
      ]
     },
     "execution_count": 7,
     "metadata": {},
     "output_type": "execute_result"
    }
   ],
   "source": [
    "using PyCall\n",
    "@pyimport scipy as sp\n",
    "@pyimport scipy.special as sps\n",
    "laguerreL(n,x)=sps.eval_laguerre(n,x)"
   ]
  },
  {
   "cell_type": "code",
   "execution_count": 8,
   "metadata": {},
   "outputs": [
    {
     "data": {
      "text/plain": [
       "1.0"
      ]
     },
     "execution_count": 8,
     "metadata": {},
     "output_type": "execute_result"
    }
   ],
   "source": [
    "laguerreL(0,2)"
   ]
  },
  {
   "cell_type": "markdown",
   "metadata": {},
   "source": [
    "### Distribution to sample"
   ]
  },
  {
   "cell_type": "code",
   "execution_count": 28,
   "metadata": {},
   "outputs": [
    {
     "name": "stdout",
     "output_type": "stream",
     "text": [
      "5.477225575051661\n",
      "16.431676725154983\n"
     ]
    }
   ],
   "source": [
    "G(n,x)=(2/3π)*exp(-2*x^2/3)*x*laguerreL(n,-4*x^2/3)/(3^n)\n",
    "n=30\n",
    "g(x)=G.(n,x)\n",
    "println(sqrt(n))\n",
    "println(3*sqrt(n))"
   ]
  },
  {
   "cell_type": "code",
   "execution_count": 33,
   "metadata": {},
   "outputs": [
    {
     "data": {
      "text/plain": [
       "eigmat"
      ]
     },
     "execution_count": 33,
     "metadata": {},
     "output_type": "execute_result"
    }
   ],
   "source": [
    "\"\"\"\n",
    "\n",
    "T    = eigmat(basis,M,x,ω=1.0,α=1.0)\n",
    "\n",
    "Returns a matrix of mode functions of the chosen basis.\n",
    "The matrix is in a form that allows the transformation\n",
    "from the mode coefficients to the spatial grid `x`:\n",
    "\n",
    "`ψ(x)=∑ⱼ cⱼϕⱼ(x) ≡ T*c`\n",
    "\n",
    "where `c` is a column vector of coefficients in the basis.\n",
    "\n",
    "At present `basis = \"Hermite\"` is implemented.\n",
    "\n",
    "## Arguments\n",
    "- `basis` is the set of eigenfunctions representing the c-field\n",
    "- `M` is the number of modes in the spatial direction denoted by\n",
    "- `x`, the spatial grid to which the coefficients are mapped.\n",
    "- `ω` is the *relative* frequency, in units of the chosen reference frequency.\n",
    "- `α` is an extra input for the `laguerre` basis.\n",
    "Defaults of the last two arguments are 1. and 0. respectively.\n",
    "\"\"\"\n",
    "\n",
    "function eigmat(basis,M,x,ω=1.0,α=0.0)\n",
    "  if basis==\"Hermite\"\n",
    "    M > 371 && error(\"Quadrature does not converge for M > 371.\")\n",
    "    x = convert(BigFloat,x)\n",
    "    ψ0 = exp.(-(√ω*x).^2/2)*BigFloat((ω/π)^(1/4))\n",
    "    ψ1 = BigFloat(sqrt(2))*exp.(-(√ω*x).^2/2).*(√ω*x)*BigFloat((ω/π)^(1/4))\n",
    "    T = zeros(x*ones(1,M))\n",
    "    n = convert(Vector{BigFloat},collect(0:M-1))\n",
    "    T[:,1] = ψ0\n",
    "    T[:,2] = ψ1\n",
    "    for m=1:M-2\n",
    "      T[:,m+2]=sqrt(2/(n[m+2]))*(√ω*x).*T[:,m+1]-sqrt(n[m+1]/n[m+2])T[:,m]\n",
    "    end\n",
    "    x = convert(Vector{Float64},x)\n",
    "    T = convert(Matrix{Float64},T)\n",
    "\n",
    "  elseif basis==\"Laguerre\"\n",
    "    n1 = (ω)^(1/2)\n",
    "    ψ0 = exp.(-ω*x/2).*(ω*x).^(α/2).*n1\n",
    "    ψ1 = exp.(-ω*x/2).*(1+α-(ω*x)).*n1\n",
    "    T = zeros(x*ones(1,M))\n",
    "    n = collect(0:M-1)\n",
    "    T[:,1] = ψ0\n",
    "    T[:,2] = ψ1\n",
    "    for m=1:M-2\n",
    "      T[:,m+2] = sqrt(n[m+2]/(n[m+2]+α)).*(2+(α-ω*x-1)/n[m+2]).*T[:,m+1] .- (1+(α-1)/n[m+2])*sqrt(n[m+2]*n[m+1]/(n[m+2]+α)/(n[m+1]+α))*T[:,m]\n",
    "    end\n",
    "  else\n",
    "    error(basis,\" basis not implemented\")\n",
    "  end\n",
    "  return T\n",
    "end"
   ]
  },
  {
   "cell_type": "code",
   "execution_count": 48,
   "metadata": {},
   "outputs": [
    {
     "data": {
      "text/plain": [
       "F (generic function with 1 method)"
      ]
     },
     "execution_count": 48,
     "metadata": {},
     "output_type": "execute_result"
    }
   ],
   "source": [
    "F(n,x)=eigmat(\"Laguerre\",n,x)[:,end]"
   ]
  },
  {
   "cell_type": "code",
   "execution_count": 49,
   "metadata": {},
   "outputs": [
    {
     "data": {
      "text/plain": [
       "1-element Array{Float64,1}:\n",
       " 0.76574"
      ]
     },
     "execution_count": 49,
     "metadata": {},
     "output_type": "execute_result"
    }
   ],
   "source": [
    "F(3,.1)"
   ]
  },
  {
   "cell_type": "code",
   "execution_count": 29,
   "metadata": {},
   "outputs": [
    {
     "data": {
      "image/png": "[encoded data removed]",
      "text/plain": [
       "PyPlot.Figure(PyObject <matplotlib.figure.Figure object at 0x127f8f350>)"
      ]
     },
     "metadata": {},
     "output_type": "display_data"
    },
    {
     "data": {
      "text/plain": [
       "0.15915494309189532"
      ]
     },
     "execution_count": 29,
     "metadata": {},
     "output_type": "execute_result"
    }
   ],
   "source": [
    "x=linspace(0,15,1000);dx=x[2]-x[1];\n",
    "plot(x,g(x));plot(sqrt(n)*ones(x),linspace(0,.2,1000))\n",
    "sum(g(x)*dx)"
   ]
  },
  {
   "cell_type": "code",
   "execution_count": 43,
   "metadata": {},
   "outputs": [
    {
     "data": {
      "image/png": "[encoded data removed]",
      "text/plain": [
       "PyPlot.Figure(PyObject <matplotlib.figure.Figure object at 0x120017450>)"
      ]
     },
     "metadata": {},
     "output_type": "display_data"
    }
   ],
   "source": [
    "x1=0;x2=3*sqrt(n)\n",
    "N=10000\n",
    "Nb=50\n",
    "a = reject(g,[x1,x2],N,.2)\n",
    "figure(figsize=(7,3))\n",
    "b = weighted_hist(a,bins=Nb);"
   ]
  },
  {
   "cell_type": "code",
   "execution_count": 44,
   "metadata": {},
   "outputs": [
    {
     "data": {
      "text/plain": [
       "fock (generic function with 1 method)"
      ]
     },
     "execution_count": 44,
     "metadata": {},
     "output_type": "execute_result"
    }
   ],
   "source": [
    "function fock(n,N)\n",
    "    γ = (randn(N)+im*randn(N))/sqrt(2)\n",
    "    z = reject(x->G.(n,x),[0,3*sqrt(n)],N,.2)\n",
    "    μ = z.*exp.(2π*im*rand(N))\n",
    "    α = μ + γ\n",
    "    ᾱ = conj(μ - γ)\n",
    "    return α, ᾱ\n",
    "end"
   ]
  },
  {
   "cell_type": "code",
   "execution_count": 47,
   "metadata": {},
   "outputs": [
    {
     "data": {
      "text/plain": [
       "(Complex{Float64}[-0.635626+5.21513im, 4.84558-1.65275im, -2.35471+4.01112im, 2.5735-3.67623im, -4.30519+0.535635im, 5.16946-3.42316im, -0.570234-3.27709im, 0.0391132+4.62622im, 1.73938-2.30051im, 3.32386+2.7183im  …  -4.24572-0.706769im, -4.04734+5.76851im, -2.73109-3.61228im, 0.807578+3.4909im, -3.82333+3.60803im, 4.48212+0.644385im, 1.60815+4.28623im, 4.3688-1.11093im, -2.15039+3.4262im, -3.9942+3.39195im], Complex{Float64}[-1.84764-4.10407im, 3.38836+1.29255im, -2.67507-4.76893im, 2.28862+3.46578im, -4.33674+1.46989im, 4.95239+2.51783im, -1.37302+4.30191im, 0.274026-5.68186im, 3.27397+4.27932im, 4.75984-3.74424im  …  -3.22911+0.908765im, -3.10871-3.49569im, -3.88962+2.67462im, 0.909381-4.16757im, -2.56417-4.21835im, 4.89696+1.48613im, -0.195663-6.1292im, 5.23945+2.24392im, -1.0864-4.67363im, -2.14226-3.20653im])"
      ]
     },
     "execution_count": 47,
     "metadata": {},
     "output_type": "execute_result"
    }
   ],
   "source": [
    "a,ā = fock(20,10000)"
   ]
  },
  {
   "cell_type": "code",
   "execution_count": 55,
   "metadata": {},
   "outputs": [
    {
     "data": {
      "text/plain": [
       "19.953142661331338 - 0.1154206054133665im"
      ]
     },
     "execution_count": 55,
     "metadata": {},
     "output_type": "execute_result"
    }
   ],
   "source": [
    "n̄ = mean(a.*ā)-.5"
   ]
  },
  {
   "cell_type": "code",
   "execution_count": 57,
   "metadata": {},
   "outputs": [
    {
     "data": {
      "text/plain": [
       "-0.6921902068177133 - 0.14544517749077457im"
      ]
     },
     "execution_count": 57,
     "metadata": {},
     "output_type": "execute_result"
    }
   ],
   "source": [
    "Vn = mean(a.^2.*ā.^2) - n̄ - n̄^2"
   ]
  },
  {
   "cell_type": "code",
   "execution_count": 58,
   "metadata": {},
   "outputs": [
    {
     "data": {
      "image/png": "[encoded data removed]",
      "text/plain": [
       "PyPlot.Figure(PyObject <matplotlib.figure.Figure object at 0x121addb50>)"
      ]
     },
     "metadata": {},
     "output_type": "display_data"
    },
    {
     "name": "stdout",
     "output_type": "stream",
     "text": [
      "30.431035714549193 + 0.164089503916942im\n",
      "30\n"
     ]
    }
   ],
   "source": [
    "n = 30\n",
    "N = 5000\n",
    "a,ā = fock(n,N)\n",
    "scatter(real(a),imag(a),s=.5,c=\"blue\")\n",
    "axis(\"square\")\n",
    "axis([-20,20,-20,20]);\n",
    "println(mean(a.*ā))\n",
    "println(n)"
   ]
  },
  {
   "cell_type": "code",
   "execution_count": null,
   "metadata": {
    "collapsed": true
   },
   "outputs": [],
   "source": []
  },
  {
   "cell_type": "code",
   "execution_count": null,
   "metadata": {
    "collapsed": true
   },
   "outputs": [],
   "source": []
  }
 ],
 "metadata": {
  "kernelspec": {
   "display_name": "Julia 0.6.2",
   "language": "julia",
   "name": "julia-0.6"
  },
  "language_info": {
   "file_extension": ".jl",
   "mimetype": "application/julia",
   "name": "julia",
   "version": "0.6.2"
  }
 },
 "nbformat": 4,
 "nbformat_minor": 2
}
